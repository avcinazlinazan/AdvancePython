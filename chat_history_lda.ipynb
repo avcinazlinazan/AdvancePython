{
  "nbformat": 4,
  "nbformat_minor": 0,
  "metadata": {
    "colab": {
      "provenance": [],
      "authorship_tag": "ABX9TyMFCraq3N1OugFoLLlQsNd2",
      "include_colab_link": true
    },
    "kernelspec": {
      "name": "python3",
      "display_name": "Python 3"
    },
    "language_info": {
      "name": "python"
    },
    "widgets": {
      "application/vnd.jupyter.widget-state+json": {
        "8b164194f0cf400ba9f3aa7c74cb6485": {
          "model_module": "@jupyter-widgets/controls",
          "model_name": "HBoxModel",
          "model_module_version": "1.5.0",
          "state": {
            "_dom_classes": [],
            "_model_module": "@jupyter-widgets/controls",
            "_model_module_version": "1.5.0",
            "_model_name": "HBoxModel",
            "_view_count": null,
            "_view_module": "@jupyter-widgets/controls",
            "_view_module_version": "1.5.0",
            "_view_name": "HBoxView",
            "box_style": "",
            "children": [
              "IPY_MODEL_3c8d76b4875f41a19ff60543f543ef3c",
              "IPY_MODEL_f5cb096267c14750916429bae674814a",
              "IPY_MODEL_757f967d0e0949dca28a4def3ce96114"
            ],
            "layout": "IPY_MODEL_e00046536cb04fafa55742c16f2272fd"
          }
        },
        "3c8d76b4875f41a19ff60543f543ef3c": {
          "model_module": "@jupyter-widgets/controls",
          "model_name": "HTMLModel",
          "model_module_version": "1.5.0",
          "state": {
            "_dom_classes": [],
            "_model_module": "@jupyter-widgets/controls",
            "_model_module_version": "1.5.0",
            "_model_name": "HTMLModel",
            "_view_count": null,
            "_view_module": "@jupyter-widgets/controls",
            "_view_module_version": "1.5.0",
            "_view_name": "HTMLView",
            "description": "",
            "description_tooltip": null,
            "layout": "IPY_MODEL_708e10d90c55446e85c9cca26b86681d",
            "placeholder": "​",
            "style": "IPY_MODEL_ae6bb4ddb4d0401fb95811f10cd80c03",
            "value": "README.md: 100%"
          }
        },
        "f5cb096267c14750916429bae674814a": {
          "model_module": "@jupyter-widgets/controls",
          "model_name": "FloatProgressModel",
          "model_module_version": "1.5.0",
          "state": {
            "_dom_classes": [],
            "_model_module": "@jupyter-widgets/controls",
            "_model_module_version": "1.5.0",
            "_model_name": "FloatProgressModel",
            "_view_count": null,
            "_view_module": "@jupyter-widgets/controls",
            "_view_module_version": "1.5.0",
            "_view_name": "ProgressView",
            "bar_style": "success",
            "description": "",
            "description_tooltip": null,
            "layout": "IPY_MODEL_bc0b28c6af9d4c71b55b304551cd1c9d",
            "max": 636,
            "min": 0,
            "orientation": "horizontal",
            "style": "IPY_MODEL_b504430beba349ebab29fcab257c01b3",
            "value": 636
          }
        },
        "757f967d0e0949dca28a4def3ce96114": {
          "model_module": "@jupyter-widgets/controls",
          "model_name": "HTMLModel",
          "model_module_version": "1.5.0",
          "state": {
            "_dom_classes": [],
            "_model_module": "@jupyter-widgets/controls",
            "_model_module_version": "1.5.0",
            "_model_name": "HTMLModel",
            "_view_count": null,
            "_view_module": "@jupyter-widgets/controls",
            "_view_module_version": "1.5.0",
            "_view_name": "HTMLView",
            "description": "",
            "description_tooltip": null,
            "layout": "IPY_MODEL_3d574d3163f44b1892b8456e3061a9dc",
            "placeholder": "​",
            "style": "IPY_MODEL_f063e7185d3449e481f6098f918ec1d8",
            "value": " 636/636 [00:00&lt;00:00, 33.1kB/s]"
          }
        },
        "e00046536cb04fafa55742c16f2272fd": {
          "model_module": "@jupyter-widgets/base",
          "model_name": "LayoutModel",
          "model_module_version": "1.2.0",
          "state": {
            "_model_module": "@jupyter-widgets/base",
            "_model_module_version": "1.2.0",
            "_model_name": "LayoutModel",
            "_view_count": null,
            "_view_module": "@jupyter-widgets/base",
            "_view_module_version": "1.2.0",
            "_view_name": "LayoutView",
            "align_content": null,
            "align_items": null,
            "align_self": null,
            "border": null,
            "bottom": null,
            "display": null,
            "flex": null,
            "flex_flow": null,
            "grid_area": null,
            "grid_auto_columns": null,
            "grid_auto_flow": null,
            "grid_auto_rows": null,
            "grid_column": null,
            "grid_gap": null,
            "grid_row": null,
            "grid_template_areas": null,
            "grid_template_columns": null,
            "grid_template_rows": null,
            "height": null,
            "justify_content": null,
            "justify_items": null,
            "left": null,
            "margin": null,
            "max_height": null,
            "max_width": null,
            "min_height": null,
            "min_width": null,
            "object_fit": null,
            "object_position": null,
            "order": null,
            "overflow": null,
            "overflow_x": null,
            "overflow_y": null,
            "padding": null,
            "right": null,
            "top": null,
            "visibility": null,
            "width": null
          }
        },
        "708e10d90c55446e85c9cca26b86681d": {
          "model_module": "@jupyter-widgets/base",
          "model_name": "LayoutModel",
          "model_module_version": "1.2.0",
          "state": {
            "_model_module": "@jupyter-widgets/base",
            "_model_module_version": "1.2.0",
            "_model_name": "LayoutModel",
            "_view_count": null,
            "_view_module": "@jupyter-widgets/base",
            "_view_module_version": "1.2.0",
            "_view_name": "LayoutView",
            "align_content": null,
            "align_items": null,
            "align_self": null,
            "border": null,
            "bottom": null,
            "display": null,
            "flex": null,
            "flex_flow": null,
            "grid_area": null,
            "grid_auto_columns": null,
            "grid_auto_flow": null,
            "grid_auto_rows": null,
            "grid_column": null,
            "grid_gap": null,
            "grid_row": null,
            "grid_template_areas": null,
            "grid_template_columns": null,
            "grid_template_rows": null,
            "height": null,
            "justify_content": null,
            "justify_items": null,
            "left": null,
            "margin": null,
            "max_height": null,
            "max_width": null,
            "min_height": null,
            "min_width": null,
            "object_fit": null,
            "object_position": null,
            "order": null,
            "overflow": null,
            "overflow_x": null,
            "overflow_y": null,
            "padding": null,
            "right": null,
            "top": null,
            "visibility": null,
            "width": null
          }
        },
        "ae6bb4ddb4d0401fb95811f10cd80c03": {
          "model_module": "@jupyter-widgets/controls",
          "model_name": "DescriptionStyleModel",
          "model_module_version": "1.5.0",
          "state": {
            "_model_module": "@jupyter-widgets/controls",
            "_model_module_version": "1.5.0",
            "_model_name": "DescriptionStyleModel",
            "_view_count": null,
            "_view_module": "@jupyter-widgets/base",
            "_view_module_version": "1.2.0",
            "_view_name": "StyleView",
            "description_width": ""
          }
        },
        "bc0b28c6af9d4c71b55b304551cd1c9d": {
          "model_module": "@jupyter-widgets/base",
          "model_name": "LayoutModel",
          "model_module_version": "1.2.0",
          "state": {
            "_model_module": "@jupyter-widgets/base",
            "_model_module_version": "1.2.0",
            "_model_name": "LayoutModel",
            "_view_count": null,
            "_view_module": "@jupyter-widgets/base",
            "_view_module_version": "1.2.0",
            "_view_name": "LayoutView",
            "align_content": null,
            "align_items": null,
            "align_self": null,
            "border": null,
            "bottom": null,
            "display": null,
            "flex": null,
            "flex_flow": null,
            "grid_area": null,
            "grid_auto_columns": null,
            "grid_auto_flow": null,
            "grid_auto_rows": null,
            "grid_column": null,
            "grid_gap": null,
            "grid_row": null,
            "grid_template_areas": null,
            "grid_template_columns": null,
            "grid_template_rows": null,
            "height": null,
            "justify_content": null,
            "justify_items": null,
            "left": null,
            "margin": null,
            "max_height": null,
            "max_width": null,
            "min_height": null,
            "min_width": null,
            "object_fit": null,
            "object_position": null,
            "order": null,
            "overflow": null,
            "overflow_x": null,
            "overflow_y": null,
            "padding": null,
            "right": null,
            "top": null,
            "visibility": null,
            "width": null
          }
        },
        "b504430beba349ebab29fcab257c01b3": {
          "model_module": "@jupyter-widgets/controls",
          "model_name": "ProgressStyleModel",
          "model_module_version": "1.5.0",
          "state": {
            "_model_module": "@jupyter-widgets/controls",
            "_model_module_version": "1.5.0",
            "_model_name": "ProgressStyleModel",
            "_view_count": null,
            "_view_module": "@jupyter-widgets/base",
            "_view_module_version": "1.2.0",
            "_view_name": "StyleView",
            "bar_color": null,
            "description_width": ""
          }
        },
        "3d574d3163f44b1892b8456e3061a9dc": {
          "model_module": "@jupyter-widgets/base",
          "model_name": "LayoutModel",
          "model_module_version": "1.2.0",
          "state": {
            "_model_module": "@jupyter-widgets/base",
            "_model_module_version": "1.2.0",
            "_model_name": "LayoutModel",
            "_view_count": null,
            "_view_module": "@jupyter-widgets/base",
            "_view_module_version": "1.2.0",
            "_view_name": "LayoutView",
            "align_content": null,
            "align_items": null,
            "align_self": null,
            "border": null,
            "bottom": null,
            "display": null,
            "flex": null,
            "flex_flow": null,
            "grid_area": null,
            "grid_auto_columns": null,
            "grid_auto_flow": null,
            "grid_auto_rows": null,
            "grid_column": null,
            "grid_gap": null,
            "grid_row": null,
            "grid_template_areas": null,
            "grid_template_columns": null,
            "grid_template_rows": null,
            "height": null,
            "justify_content": null,
            "justify_items": null,
            "left": null,
            "margin": null,
            "max_height": null,
            "max_width": null,
            "min_height": null,
            "min_width": null,
            "object_fit": null,
            "object_position": null,
            "order": null,
            "overflow": null,
            "overflow_x": null,
            "overflow_y": null,
            "padding": null,
            "right": null,
            "top": null,
            "visibility": null,
            "width": null
          }
        },
        "f063e7185d3449e481f6098f918ec1d8": {
          "model_module": "@jupyter-widgets/controls",
          "model_name": "DescriptionStyleModel",
          "model_module_version": "1.5.0",
          "state": {
            "_model_module": "@jupyter-widgets/controls",
            "_model_module_version": "1.5.0",
            "_model_name": "DescriptionStyleModel",
            "_view_count": null,
            "_view_module": "@jupyter-widgets/base",
            "_view_module_version": "1.2.0",
            "_view_name": "StyleView",
            "description_width": ""
          }
        },
        "4a401c23e42f4a16b2c847a66855f772": {
          "model_module": "@jupyter-widgets/controls",
          "model_name": "HBoxModel",
          "model_module_version": "1.5.0",
          "state": {
            "_dom_classes": [],
            "_model_module": "@jupyter-widgets/controls",
            "_model_module_version": "1.5.0",
            "_model_name": "HBoxModel",
            "_view_count": null,
            "_view_module": "@jupyter-widgets/controls",
            "_view_module_version": "1.5.0",
            "_view_name": "HBoxView",
            "box_style": "",
            "children": [
              "IPY_MODEL_25af40823c2f4079ab50b2dceaf6d8ee",
              "IPY_MODEL_e78444c274eb48ab8a11b8384340fecf",
              "IPY_MODEL_f37ef4e09222487eb3a58663f63757ca"
            ],
            "layout": "IPY_MODEL_bbab797cbe424ae5b01ed79e6913ad81"
          }
        },
        "25af40823c2f4079ab50b2dceaf6d8ee": {
          "model_module": "@jupyter-widgets/controls",
          "model_name": "HTMLModel",
          "model_module_version": "1.5.0",
          "state": {
            "_dom_classes": [],
            "_model_module": "@jupyter-widgets/controls",
            "_model_module_version": "1.5.0",
            "_model_name": "HTMLModel",
            "_view_count": null,
            "_view_module": "@jupyter-widgets/controls",
            "_view_module_version": "1.5.0",
            "_view_name": "HTMLView",
            "description": "",
            "description_tooltip": null,
            "layout": "IPY_MODEL_5a0de3b3fa0e4ff78d6fb3a2ea9738a1",
            "placeholder": "​",
            "style": "IPY_MODEL_dbe4be656d3d49928927c8281c07d9f1",
            "value": "train-00000-of-00001.parquet: 100%"
          }
        },
        "e78444c274eb48ab8a11b8384340fecf": {
          "model_module": "@jupyter-widgets/controls",
          "model_name": "FloatProgressModel",
          "model_module_version": "1.5.0",
          "state": {
            "_dom_classes": [],
            "_model_module": "@jupyter-widgets/controls",
            "_model_module_version": "1.5.0",
            "_model_name": "FloatProgressModel",
            "_view_count": null,
            "_view_module": "@jupyter-widgets/controls",
            "_view_module_version": "1.5.0",
            "_view_name": "ProgressView",
            "bar_style": "success",
            "description": "",
            "description_tooltip": null,
            "layout": "IPY_MODEL_9573a2ee32bd40faa94916e0b8d3fc0f",
            "max": 2371753,
            "min": 0,
            "orientation": "horizontal",
            "style": "IPY_MODEL_2b3b7613ff93495c81d0f58632d491b4",
            "value": 2371753
          }
        },
        "f37ef4e09222487eb3a58663f63757ca": {
          "model_module": "@jupyter-widgets/controls",
          "model_name": "HTMLModel",
          "model_module_version": "1.5.0",
          "state": {
            "_dom_classes": [],
            "_model_module": "@jupyter-widgets/controls",
            "_model_module_version": "1.5.0",
            "_model_name": "HTMLModel",
            "_view_count": null,
            "_view_module": "@jupyter-widgets/controls",
            "_view_module_version": "1.5.0",
            "_view_name": "HTMLView",
            "description": "",
            "description_tooltip": null,
            "layout": "IPY_MODEL_c99502e65b7f4413ae4c15255a62560e",
            "placeholder": "​",
            "style": "IPY_MODEL_00223029861246d48c8fedcd05ec04fd",
            "value": " 2.37M/2.37M [00:00&lt;00:00, 14.6MB/s]"
          }
        },
        "bbab797cbe424ae5b01ed79e6913ad81": {
          "model_module": "@jupyter-widgets/base",
          "model_name": "LayoutModel",
          "model_module_version": "1.2.0",
          "state": {
            "_model_module": "@jupyter-widgets/base",
            "_model_module_version": "1.2.0",
            "_model_name": "LayoutModel",
            "_view_count": null,
            "_view_module": "@jupyter-widgets/base",
            "_view_module_version": "1.2.0",
            "_view_name": "LayoutView",
            "align_content": null,
            "align_items": null,
            "align_self": null,
            "border": null,
            "bottom": null,
            "display": null,
            "flex": null,
            "flex_flow": null,
            "grid_area": null,
            "grid_auto_columns": null,
            "grid_auto_flow": null,
            "grid_auto_rows": null,
            "grid_column": null,
            "grid_gap": null,
            "grid_row": null,
            "grid_template_areas": null,
            "grid_template_columns": null,
            "grid_template_rows": null,
            "height": null,
            "justify_content": null,
            "justify_items": null,
            "left": null,
            "margin": null,
            "max_height": null,
            "max_width": null,
            "min_height": null,
            "min_width": null,
            "object_fit": null,
            "object_position": null,
            "order": null,
            "overflow": null,
            "overflow_x": null,
            "overflow_y": null,
            "padding": null,
            "right": null,
            "top": null,
            "visibility": null,
            "width": null
          }
        },
        "5a0de3b3fa0e4ff78d6fb3a2ea9738a1": {
          "model_module": "@jupyter-widgets/base",
          "model_name": "LayoutModel",
          "model_module_version": "1.2.0",
          "state": {
            "_model_module": "@jupyter-widgets/base",
            "_model_module_version": "1.2.0",
            "_model_name": "LayoutModel",
            "_view_count": null,
            "_view_module": "@jupyter-widgets/base",
            "_view_module_version": "1.2.0",
            "_view_name": "LayoutView",
            "align_content": null,
            "align_items": null,
            "align_self": null,
            "border": null,
            "bottom": null,
            "display": null,
            "flex": null,
            "flex_flow": null,
            "grid_area": null,
            "grid_auto_columns": null,
            "grid_auto_flow": null,
            "grid_auto_rows": null,
            "grid_column": null,
            "grid_gap": null,
            "grid_row": null,
            "grid_template_areas": null,
            "grid_template_columns": null,
            "grid_template_rows": null,
            "height": null,
            "justify_content": null,
            "justify_items": null,
            "left": null,
            "margin": null,
            "max_height": null,
            "max_width": null,
            "min_height": null,
            "min_width": null,
            "object_fit": null,
            "object_position": null,
            "order": null,
            "overflow": null,
            "overflow_x": null,
            "overflow_y": null,
            "padding": null,
            "right": null,
            "top": null,
            "visibility": null,
            "width": null
          }
        },
        "dbe4be656d3d49928927c8281c07d9f1": {
          "model_module": "@jupyter-widgets/controls",
          "model_name": "DescriptionStyleModel",
          "model_module_version": "1.5.0",
          "state": {
            "_model_module": "@jupyter-widgets/controls",
            "_model_module_version": "1.5.0",
            "_model_name": "DescriptionStyleModel",
            "_view_count": null,
            "_view_module": "@jupyter-widgets/base",
            "_view_module_version": "1.2.0",
            "_view_name": "StyleView",
            "description_width": ""
          }
        },
        "9573a2ee32bd40faa94916e0b8d3fc0f": {
          "model_module": "@jupyter-widgets/base",
          "model_name": "LayoutModel",
          "model_module_version": "1.2.0",
          "state": {
            "_model_module": "@jupyter-widgets/base",
            "_model_module_version": "1.2.0",
            "_model_name": "LayoutModel",
            "_view_count": null,
            "_view_module": "@jupyter-widgets/base",
            "_view_module_version": "1.2.0",
            "_view_name": "LayoutView",
            "align_content": null,
            "align_items": null,
            "align_self": null,
            "border": null,
            "bottom": null,
            "display": null,
            "flex": null,
            "flex_flow": null,
            "grid_area": null,
            "grid_auto_columns": null,
            "grid_auto_flow": null,
            "grid_auto_rows": null,
            "grid_column": null,
            "grid_gap": null,
            "grid_row": null,
            "grid_template_areas": null,
            "grid_template_columns": null,
            "grid_template_rows": null,
            "height": null,
            "justify_content": null,
            "justify_items": null,
            "left": null,
            "margin": null,
            "max_height": null,
            "max_width": null,
            "min_height": null,
            "min_width": null,
            "object_fit": null,
            "object_position": null,
            "order": null,
            "overflow": null,
            "overflow_x": null,
            "overflow_y": null,
            "padding": null,
            "right": null,
            "top": null,
            "visibility": null,
            "width": null
          }
        },
        "2b3b7613ff93495c81d0f58632d491b4": {
          "model_module": "@jupyter-widgets/controls",
          "model_name": "ProgressStyleModel",
          "model_module_version": "1.5.0",
          "state": {
            "_model_module": "@jupyter-widgets/controls",
            "_model_module_version": "1.5.0",
            "_model_name": "ProgressStyleModel",
            "_view_count": null,
            "_view_module": "@jupyter-widgets/base",
            "_view_module_version": "1.2.0",
            "_view_name": "StyleView",
            "bar_color": null,
            "description_width": ""
          }
        },
        "c99502e65b7f4413ae4c15255a62560e": {
          "model_module": "@jupyter-widgets/base",
          "model_name": "LayoutModel",
          "model_module_version": "1.2.0",
          "state": {
            "_model_module": "@jupyter-widgets/base",
            "_model_module_version": "1.2.0",
            "_model_name": "LayoutModel",
            "_view_count": null,
            "_view_module": "@jupyter-widgets/base",
            "_view_module_version": "1.2.0",
            "_view_name": "LayoutView",
            "align_content": null,
            "align_items": null,
            "align_self": null,
            "border": null,
            "bottom": null,
            "display": null,
            "flex": null,
            "flex_flow": null,
            "grid_area": null,
            "grid_auto_columns": null,
            "grid_auto_flow": null,
            "grid_auto_rows": null,
            "grid_column": null,
            "grid_gap": null,
            "grid_row": null,
            "grid_template_areas": null,
            "grid_template_columns": null,
            "grid_template_rows": null,
            "height": null,
            "justify_content": null,
            "justify_items": null,
            "left": null,
            "margin": null,
            "max_height": null,
            "max_width": null,
            "min_height": null,
            "min_width": null,
            "object_fit": null,
            "object_position": null,
            "order": null,
            "overflow": null,
            "overflow_x": null,
            "overflow_y": null,
            "padding": null,
            "right": null,
            "top": null,
            "visibility": null,
            "width": null
          }
        },
        "00223029861246d48c8fedcd05ec04fd": {
          "model_module": "@jupyter-widgets/controls",
          "model_name": "DescriptionStyleModel",
          "model_module_version": "1.5.0",
          "state": {
            "_model_module": "@jupyter-widgets/controls",
            "_model_module_version": "1.5.0",
            "_model_name": "DescriptionStyleModel",
            "_view_count": null,
            "_view_module": "@jupyter-widgets/base",
            "_view_module_version": "1.2.0",
            "_view_name": "StyleView",
            "description_width": ""
          }
        },
        "b85764544e984ac5b2ee1cc19f2500d7": {
          "model_module": "@jupyter-widgets/controls",
          "model_name": "HBoxModel",
          "model_module_version": "1.5.0",
          "state": {
            "_dom_classes": [],
            "_model_module": "@jupyter-widgets/controls",
            "_model_module_version": "1.5.0",
            "_model_name": "HBoxModel",
            "_view_count": null,
            "_view_module": "@jupyter-widgets/controls",
            "_view_module_version": "1.5.0",
            "_view_name": "HBoxView",
            "box_style": "",
            "children": [
              "IPY_MODEL_db5c9e41ba424da095a8703cdd29691a",
              "IPY_MODEL_9886530ef7bd4568b4349327882942cf",
              "IPY_MODEL_a4533e87e8bd46c396de7b1a409ac2c8"
            ],
            "layout": "IPY_MODEL_d5f7b3fa67e645d6938bff591fd87214"
          }
        },
        "db5c9e41ba424da095a8703cdd29691a": {
          "model_module": "@jupyter-widgets/controls",
          "model_name": "HTMLModel",
          "model_module_version": "1.5.0",
          "state": {
            "_dom_classes": [],
            "_model_module": "@jupyter-widgets/controls",
            "_model_module_version": "1.5.0",
            "_model_name": "HTMLModel",
            "_view_count": null,
            "_view_module": "@jupyter-widgets/controls",
            "_view_module_version": "1.5.0",
            "_view_name": "HTMLView",
            "description": "",
            "description_tooltip": null,
            "layout": "IPY_MODEL_4c463344ea0446bcb9bb92102d32134e",
            "placeholder": "​",
            "style": "IPY_MODEL_77e94bc7eaaf4a2791bb23a3601053f7",
            "value": "Generating train split: 100%"
          }
        },
        "9886530ef7bd4568b4349327882942cf": {
          "model_module": "@jupyter-widgets/controls",
          "model_name": "FloatProgressModel",
          "model_module_version": "1.5.0",
          "state": {
            "_dom_classes": [],
            "_model_module": "@jupyter-widgets/controls",
            "_model_module_version": "1.5.0",
            "_model_name": "FloatProgressModel",
            "_view_count": null,
            "_view_module": "@jupyter-widgets/controls",
            "_view_module_version": "1.5.0",
            "_view_name": "ProgressView",
            "bar_style": "success",
            "description": "",
            "description_tooltip": null,
            "layout": "IPY_MODEL_ba50883a56b545fb872ab3f06220aafb",
            "max": 3594,
            "min": 0,
            "orientation": "horizontal",
            "style": "IPY_MODEL_a83a636f8f2a470d908b64d9d9e0f902",
            "value": 3594
          }
        },
        "a4533e87e8bd46c396de7b1a409ac2c8": {
          "model_module": "@jupyter-widgets/controls",
          "model_name": "HTMLModel",
          "model_module_version": "1.5.0",
          "state": {
            "_dom_classes": [],
            "_model_module": "@jupyter-widgets/controls",
            "_model_module_version": "1.5.0",
            "_model_name": "HTMLModel",
            "_view_count": null,
            "_view_module": "@jupyter-widgets/controls",
            "_view_module_version": "1.5.0",
            "_view_name": "HTMLView",
            "description": "",
            "description_tooltip": null,
            "layout": "IPY_MODEL_a22753f5dcd041889164ecc29a13a853",
            "placeholder": "​",
            "style": "IPY_MODEL_7eb9b23acbd646b6b6894351f6b81c94",
            "value": " 3594/3594 [00:00&lt;00:00, 3085.05 examples/s]"
          }
        },
        "d5f7b3fa67e645d6938bff591fd87214": {
          "model_module": "@jupyter-widgets/base",
          "model_name": "LayoutModel",
          "model_module_version": "1.2.0",
          "state": {
            "_model_module": "@jupyter-widgets/base",
            "_model_module_version": "1.2.0",
            "_model_name": "LayoutModel",
            "_view_count": null,
            "_view_module": "@jupyter-widgets/base",
            "_view_module_version": "1.2.0",
            "_view_name": "LayoutView",
            "align_content": null,
            "align_items": null,
            "align_self": null,
            "border": null,
            "bottom": null,
            "display": null,
            "flex": null,
            "flex_flow": null,
            "grid_area": null,
            "grid_auto_columns": null,
            "grid_auto_flow": null,
            "grid_auto_rows": null,
            "grid_column": null,
            "grid_gap": null,
            "grid_row": null,
            "grid_template_areas": null,
            "grid_template_columns": null,
            "grid_template_rows": null,
            "height": null,
            "justify_content": null,
            "justify_items": null,
            "left": null,
            "margin": null,
            "max_height": null,
            "max_width": null,
            "min_height": null,
            "min_width": null,
            "object_fit": null,
            "object_position": null,
            "order": null,
            "overflow": null,
            "overflow_x": null,
            "overflow_y": null,
            "padding": null,
            "right": null,
            "top": null,
            "visibility": null,
            "width": null
          }
        },
        "4c463344ea0446bcb9bb92102d32134e": {
          "model_module": "@jupyter-widgets/base",
          "model_name": "LayoutModel",
          "model_module_version": "1.2.0",
          "state": {
            "_model_module": "@jupyter-widgets/base",
            "_model_module_version": "1.2.0",
            "_model_name": "LayoutModel",
            "_view_count": null,
            "_view_module": "@jupyter-widgets/base",
            "_view_module_version": "1.2.0",
            "_view_name": "LayoutView",
            "align_content": null,
            "align_items": null,
            "align_self": null,
            "border": null,
            "bottom": null,
            "display": null,
            "flex": null,
            "flex_flow": null,
            "grid_area": null,
            "grid_auto_columns": null,
            "grid_auto_flow": null,
            "grid_auto_rows": null,
            "grid_column": null,
            "grid_gap": null,
            "grid_row": null,
            "grid_template_areas": null,
            "grid_template_columns": null,
            "grid_template_rows": null,
            "height": null,
            "justify_content": null,
            "justify_items": null,
            "left": null,
            "margin": null,
            "max_height": null,
            "max_width": null,
            "min_height": null,
            "min_width": null,
            "object_fit": null,
            "object_position": null,
            "order": null,
            "overflow": null,
            "overflow_x": null,
            "overflow_y": null,
            "padding": null,
            "right": null,
            "top": null,
            "visibility": null,
            "width": null
          }
        },
        "77e94bc7eaaf4a2791bb23a3601053f7": {
          "model_module": "@jupyter-widgets/controls",
          "model_name": "DescriptionStyleModel",
          "model_module_version": "1.5.0",
          "state": {
            "_model_module": "@jupyter-widgets/controls",
            "_model_module_version": "1.5.0",
            "_model_name": "DescriptionStyleModel",
            "_view_count": null,
            "_view_module": "@jupyter-widgets/base",
            "_view_module_version": "1.2.0",
            "_view_name": "StyleView",
            "description_width": ""
          }
        },
        "ba50883a56b545fb872ab3f06220aafb": {
          "model_module": "@jupyter-widgets/base",
          "model_name": "LayoutModel",
          "model_module_version": "1.2.0",
          "state": {
            "_model_module": "@jupyter-widgets/base",
            "_model_module_version": "1.2.0",
            "_model_name": "LayoutModel",
            "_view_count": null,
            "_view_module": "@jupyter-widgets/base",
            "_view_module_version": "1.2.0",
            "_view_name": "LayoutView",
            "align_content": null,
            "align_items": null,
            "align_self": null,
            "border": null,
            "bottom": null,
            "display": null,
            "flex": null,
            "flex_flow": null,
            "grid_area": null,
            "grid_auto_columns": null,
            "grid_auto_flow": null,
            "grid_auto_rows": null,
            "grid_column": null,
            "grid_gap": null,
            "grid_row": null,
            "grid_template_areas": null,
            "grid_template_columns": null,
            "grid_template_rows": null,
            "height": null,
            "justify_content": null,
            "justify_items": null,
            "left": null,
            "margin": null,
            "max_height": null,
            "max_width": null,
            "min_height": null,
            "min_width": null,
            "object_fit": null,
            "object_position": null,
            "order": null,
            "overflow": null,
            "overflow_x": null,
            "overflow_y": null,
            "padding": null,
            "right": null,
            "top": null,
            "visibility": null,
            "width": null
          }
        },
        "a83a636f8f2a470d908b64d9d9e0f902": {
          "model_module": "@jupyter-widgets/controls",
          "model_name": "ProgressStyleModel",
          "model_module_version": "1.5.0",
          "state": {
            "_model_module": "@jupyter-widgets/controls",
            "_model_module_version": "1.5.0",
            "_model_name": "ProgressStyleModel",
            "_view_count": null,
            "_view_module": "@jupyter-widgets/base",
            "_view_module_version": "1.2.0",
            "_view_name": "StyleView",
            "bar_color": null,
            "description_width": ""
          }
        },
        "a22753f5dcd041889164ecc29a13a853": {
          "model_module": "@jupyter-widgets/base",
          "model_name": "LayoutModel",
          "model_module_version": "1.2.0",
          "state": {
            "_model_module": "@jupyter-widgets/base",
            "_model_module_version": "1.2.0",
            "_model_name": "LayoutModel",
            "_view_count": null,
            "_view_module": "@jupyter-widgets/base",
            "_view_module_version": "1.2.0",
            "_view_name": "LayoutView",
            "align_content": null,
            "align_items": null,
            "align_self": null,
            "border": null,
            "bottom": null,
            "display": null,
            "flex": null,
            "flex_flow": null,
            "grid_area": null,
            "grid_auto_columns": null,
            "grid_auto_flow": null,
            "grid_auto_rows": null,
            "grid_column": null,
            "grid_gap": null,
            "grid_row": null,
            "grid_template_areas": null,
            "grid_template_columns": null,
            "grid_template_rows": null,
            "height": null,
            "justify_content": null,
            "justify_items": null,
            "left": null,
            "margin": null,
            "max_height": null,
            "max_width": null,
            "min_height": null,
            "min_width": null,
            "object_fit": null,
            "object_position": null,
            "order": null,
            "overflow": null,
            "overflow_x": null,
            "overflow_y": null,
            "padding": null,
            "right": null,
            "top": null,
            "visibility": null,
            "width": null
          }
        },
        "7eb9b23acbd646b6b6894351f6b81c94": {
          "model_module": "@jupyter-widgets/controls",
          "model_name": "DescriptionStyleModel",
          "model_module_version": "1.5.0",
          "state": {
            "_model_module": "@jupyter-widgets/controls",
            "_model_module_version": "1.5.0",
            "_model_name": "DescriptionStyleModel",
            "_view_count": null,
            "_view_module": "@jupyter-widgets/base",
            "_view_module_version": "1.2.0",
            "_view_name": "StyleView",
            "description_width": ""
          }
        }
      }
    }
  },
  "cells": [
    {
      "cell_type": "markdown",
      "metadata": {
        "id": "view-in-github",
        "colab_type": "text"
      },
      "source": [
        "<a href=\"https://colab.research.google.com/github/avcinazlinazan/AdvancePython/blob/main/chat_history_lda.ipynb\" target=\"_parent\"><img src=\"https://colab.research.google.com/assets/colab-badge.svg\" alt=\"Open In Colab\"/></a>"
      ]
    },
    {
      "cell_type": "code",
      "execution_count": 13,
      "metadata": {
        "colab": {
          "base_uri": "https://localhost:8080/"
        },
        "id": "HBDHs-Dl1HkR",
        "outputId": "fe0159d0-b8a3-4be0-9ef0-071c94cb4075"
      },
      "outputs": [
        {
          "output_type": "stream",
          "name": "stdout",
          "text": [
            "Collecting pyLDAvis\n",
            "  Using cached pyLDAvis-3.4.1-py3-none-any.whl.metadata (4.2 kB)\n",
            "Requirement already satisfied: numpy>=1.24.2 in /usr/local/lib/python3.11/dist-packages (from pyLDAvis) (1.26.4)\n",
            "Requirement already satisfied: scipy in /usr/local/lib/python3.11/dist-packages (from pyLDAvis) (1.13.1)\n",
            "Requirement already satisfied: pandas>=2.0.0 in /usr/local/lib/python3.11/dist-packages (from pyLDAvis) (2.2.2)\n",
            "Requirement already satisfied: joblib>=1.2.0 in /usr/local/lib/python3.11/dist-packages (from pyLDAvis) (1.4.2)\n",
            "Requirement already satisfied: jinja2 in /usr/local/lib/python3.11/dist-packages (from pyLDAvis) (3.1.6)\n",
            "Requirement already satisfied: numexpr in /usr/local/lib/python3.11/dist-packages (from pyLDAvis) (2.10.2)\n",
            "Requirement already satisfied: funcy in /usr/local/lib/python3.11/dist-packages (from pyLDAvis) (2.0)\n",
            "Requirement already satisfied: scikit-learn>=1.0.0 in /usr/local/lib/python3.11/dist-packages (from pyLDAvis) (1.6.1)\n",
            "Requirement already satisfied: gensim in /usr/local/lib/python3.11/dist-packages (from pyLDAvis) (4.3.3)\n",
            "Requirement already satisfied: setuptools in /usr/local/lib/python3.11/dist-packages (from pyLDAvis) (75.1.0)\n",
            "Requirement already satisfied: python-dateutil>=2.8.2 in /usr/local/lib/python3.11/dist-packages (from pandas>=2.0.0->pyLDAvis) (2.8.2)\n",
            "Requirement already satisfied: pytz>=2020.1 in /usr/local/lib/python3.11/dist-packages (from pandas>=2.0.0->pyLDAvis) (2025.1)\n",
            "Requirement already satisfied: tzdata>=2022.7 in /usr/local/lib/python3.11/dist-packages (from pandas>=2.0.0->pyLDAvis) (2025.1)\n",
            "Requirement already satisfied: threadpoolctl>=3.1.0 in /usr/local/lib/python3.11/dist-packages (from scikit-learn>=1.0.0->pyLDAvis) (3.6.0)\n",
            "Requirement already satisfied: smart-open>=1.8.1 in /usr/local/lib/python3.11/dist-packages (from gensim->pyLDAvis) (7.1.0)\n",
            "Requirement already satisfied: MarkupSafe>=2.0 in /usr/local/lib/python3.11/dist-packages (from jinja2->pyLDAvis) (3.0.2)\n",
            "Requirement already satisfied: six>=1.5 in /usr/local/lib/python3.11/dist-packages (from python-dateutil>=2.8.2->pandas>=2.0.0->pyLDAvis) (1.17.0)\n",
            "Requirement already satisfied: wrapt in /usr/local/lib/python3.11/dist-packages (from smart-open>=1.8.1->gensim->pyLDAvis) (1.17.2)\n",
            "Using cached pyLDAvis-3.4.1-py3-none-any.whl (2.6 MB)\n",
            "Installing collected packages: pyLDAvis\n",
            "Successfully installed pyLDAvis-3.4.1\n"
          ]
        }
      ],
      "source": [
        "!pip install pyLDAvis"
      ]
    },
    {
      "cell_type": "code",
      "source": [
        "!pip install gensim==4.3.3\n",
        "!pip install pandas==2.2.2\n",
        "!pip install numpy==1.26.4\n",
        "!pip install scipy==1.13.1\n"
      ],
      "metadata": {
        "colab": {
          "base_uri": "https://localhost:8080/"
        },
        "id": "-C02qgdy2XMC",
        "outputId": "5a9a9c77-0250-4be5-c2c3-02633496a839"
      },
      "execution_count": 12,
      "outputs": [
        {
          "output_type": "stream",
          "name": "stdout",
          "text": [
            "Requirement already satisfied: gensim==4.3.3 in /usr/local/lib/python3.11/dist-packages (4.3.3)\n",
            "Requirement already satisfied: numpy<2.0,>=1.18.5 in /usr/local/lib/python3.11/dist-packages (from gensim==4.3.3) (1.26.4)\n",
            "Requirement already satisfied: scipy<1.14.0,>=1.7.0 in /usr/local/lib/python3.11/dist-packages (from gensim==4.3.3) (1.13.1)\n",
            "Requirement already satisfied: smart-open>=1.8.1 in /usr/local/lib/python3.11/dist-packages (from gensim==4.3.3) (7.1.0)\n",
            "Requirement already satisfied: wrapt in /usr/local/lib/python3.11/dist-packages (from smart-open>=1.8.1->gensim==4.3.3) (1.17.2)\n",
            "Requirement already satisfied: pandas==2.2.2 in /usr/local/lib/python3.11/dist-packages (2.2.2)\n",
            "Requirement already satisfied: numpy>=1.23.2 in /usr/local/lib/python3.11/dist-packages (from pandas==2.2.2) (1.26.4)\n",
            "Requirement already satisfied: python-dateutil>=2.8.2 in /usr/local/lib/python3.11/dist-packages (from pandas==2.2.2) (2.8.2)\n",
            "Requirement already satisfied: pytz>=2020.1 in /usr/local/lib/python3.11/dist-packages (from pandas==2.2.2) (2025.1)\n",
            "Requirement already satisfied: tzdata>=2022.7 in /usr/local/lib/python3.11/dist-packages (from pandas==2.2.2) (2025.1)\n",
            "Requirement already satisfied: six>=1.5 in /usr/local/lib/python3.11/dist-packages (from python-dateutil>=2.8.2->pandas==2.2.2) (1.17.0)\n",
            "Requirement already satisfied: numpy==1.26.4 in /usr/local/lib/python3.11/dist-packages (1.26.4)\n",
            "Requirement already satisfied: scipy==1.13.1 in /usr/local/lib/python3.11/dist-packages (1.13.1)\n",
            "Requirement already satisfied: numpy<2.3,>=1.22.4 in /usr/local/lib/python3.11/dist-packages (from scipy==1.13.1) (1.26.4)\n"
          ]
        }
      ]
    },
    {
      "cell_type": "code",
      "source": [],
      "metadata": {
        "id": "4jpPLZbY42hl"
      },
      "execution_count": null,
      "outputs": []
    },
    {
      "cell_type": "code",
      "source": [
        "!pip uninstall pandas==2.0.0\n",
        "!pip uninstall numpy==1.24.2\n",
        "!pip uninstall scipy==1.14.1\n"
      ],
      "metadata": {
        "colab": {
          "base_uri": "https://localhost:8080/"
        },
        "id": "VMwVFAn32SuB",
        "outputId": "b5605879-fa69-4af8-8a0d-5eda8bbc615b"
      },
      "execution_count": 7,
      "outputs": [
        {
          "output_type": "stream",
          "name": "stdout",
          "text": [
            "Found existing installation: pandas 2.2.2\n",
            "Uninstalling pandas-2.2.2:\n",
            "  Would remove:\n",
            "    /usr/local/lib/python3.11/dist-packages/pandas-2.2.2.dist-info/*\n",
            "    /usr/local/lib/python3.11/dist-packages/pandas/*\n",
            "Proceed (Y/n)? Y\n",
            "  Successfully uninstalled pandas-2.2.2\n",
            "Found existing installation: numpy 1.26.4\n",
            "Uninstalling numpy-1.26.4:\n",
            "  Would remove:\n",
            "    /usr/local/bin/f2py\n",
            "    /usr/local/lib/python3.11/dist-packages/numpy-1.26.4.dist-info/*\n",
            "    /usr/local/lib/python3.11/dist-packages/numpy.libs/libgfortran-040039e1.so.5.0.0\n",
            "    /usr/local/lib/python3.11/dist-packages/numpy.libs/libopenblas64_p-r0-0cf96a72.3.23.dev.so\n",
            "    /usr/local/lib/python3.11/dist-packages/numpy.libs/libquadmath-96973f99.so.0.0.0\n",
            "    /usr/local/lib/python3.11/dist-packages/numpy/*\n",
            "Proceed (Y/n)? Y\n",
            "  Successfully uninstalled numpy-1.26.4\n",
            "Found existing installation: scipy 1.13.1\n",
            "Uninstalling scipy-1.13.1:\n",
            "  Would remove:\n",
            "    /usr/local/lib/python3.11/dist-packages/scipy-1.13.1.dist-info/*\n",
            "    /usr/local/lib/python3.11/dist-packages/scipy.libs/libgfortran-040039e1.so.5.0.0\n",
            "    /usr/local/lib/python3.11/dist-packages/scipy.libs/libopenblasp-r0-01191904.3.27.so\n",
            "    /usr/local/lib/python3.11/dist-packages/scipy.libs/libquadmath-96973f99.so.0.0.0\n",
            "    /usr/local/lib/python3.11/dist-packages/scipy/*\n",
            "Proceed (Y/n)? Y\n",
            "  Successfully uninstalled scipy-1.13.1\n"
          ]
        }
      ]
    },
    {
      "cell_type": "code",
      "source": [
        "pip uninstall -y numpy"
      ],
      "metadata": {
        "colab": {
          "base_uri": "https://localhost:8080/"
        },
        "id": "CZOop7ed5VjE",
        "outputId": "1e7f8e51-087f-4a80-f31f-cdb8873672af"
      },
      "execution_count": 17,
      "outputs": [
        {
          "output_type": "stream",
          "name": "stdout",
          "text": [
            "Found existing installation: numpy 1.26.4\n",
            "Uninstalling numpy-1.26.4:\n",
            "  Successfully uninstalled numpy-1.26.4\n"
          ]
        }
      ]
    },
    {
      "cell_type": "code",
      "source": [
        "pip install numpy==1.23.5"
      ],
      "metadata": {
        "colab": {
          "base_uri": "https://localhost:8080/",
          "height": 504
        },
        "id": "fvbtmy4M5YE8",
        "outputId": "c210f28c-1a89-4cb7-8e1f-5cd0ab154260"
      },
      "execution_count": 18,
      "outputs": [
        {
          "output_type": "stream",
          "name": "stdout",
          "text": [
            "Collecting numpy==1.23.5\n",
            "  Downloading numpy-1.23.5-cp311-cp311-manylinux_2_17_x86_64.manylinux2014_x86_64.whl.metadata (2.3 kB)\n",
            "Downloading numpy-1.23.5-cp311-cp311-manylinux_2_17_x86_64.manylinux2014_x86_64.whl (17.1 MB)\n",
            "\u001b[2K   \u001b[90m━━━━━━━━━━━━━━━━━━━━━━━━━━━━━━━━━━━━━━━━\u001b[0m \u001b[32m17.1/17.1 MB\u001b[0m \u001b[31m55.1 MB/s\u001b[0m eta \u001b[36m0:00:00\u001b[0m\n",
            "\u001b[?25hInstalling collected packages: numpy\n",
            "\u001b[31mERROR: pip's dependency resolver does not currently take into account all the packages that are installed. This behaviour is the source of the following dependency conflicts.\n",
            "pyldavis 3.4.1 requires numpy>=1.24.2, but you have numpy 1.23.5 which is incompatible.\n",
            "blosc2 3.2.0 requires numpy>=1.26, but you have numpy 1.23.5 which is incompatible.\n",
            "xarray 2025.1.2 requires numpy>=1.24, but you have numpy 1.23.5 which is incompatible.\n",
            "bigframes 1.40.0 requires numpy>=1.24.0, but you have numpy 1.23.5 which is incompatible.\n",
            "jaxlib 0.5.1 requires numpy>=1.25, but you have numpy 1.23.5 which is incompatible.\n",
            "tensorflow 2.18.0 requires numpy<2.1.0,>=1.26.0, but you have numpy 1.23.5 which is incompatible.\n",
            "albucore 0.0.23 requires numpy>=1.24.4, but you have numpy 1.23.5 which is incompatible.\n",
            "imbalanced-learn 0.13.0 requires numpy<3,>=1.24.3, but you have numpy 1.23.5 which is incompatible.\n",
            "scikit-image 0.25.2 requires numpy>=1.24, but you have numpy 1.23.5 which is incompatible.\n",
            "chex 0.1.89 requires numpy>=1.24.1, but you have numpy 1.23.5 which is incompatible.\n",
            "jax 0.5.2 requires numpy>=1.25, but you have numpy 1.23.5 which is incompatible.\n",
            "treescope 0.1.9 requires numpy>=1.25.2, but you have numpy 1.23.5 which is incompatible.\n",
            "pymc 5.21.1 requires numpy>=1.25.0, but you have numpy 1.23.5 which is incompatible.\n",
            "albumentations 2.0.5 requires numpy>=1.24.4, but you have numpy 1.23.5 which is incompatible.\u001b[0m\u001b[31m\n",
            "\u001b[0mSuccessfully installed numpy-1.23.5\n"
          ]
        },
        {
          "output_type": "display_data",
          "data": {
            "application/vnd.colab-display-data+json": {
              "pip_warning": {
                "packages": [
                  "numpy"
                ]
              },
              "id": "a72c430fcd52463fb1fb1d9fb99a23f4"
            }
          },
          "metadata": {}
        }
      ]
    },
    {
      "cell_type": "code",
      "source": [
        "import pandas as pd\n",
        "import numpy as np\n",
        "print(\"Pandas version:\", pd.__version__)\n",
        "print(\"NumPy version:\", np.__version__)"
      ],
      "metadata": {
        "colab": {
          "base_uri": "https://localhost:8080/"
        },
        "id": "AET5byA22cIN",
        "outputId": "71614b0f-0d82-4e10-d68b-9081811c2675"
      },
      "execution_count": 2,
      "outputs": [
        {
          "output_type": "stream",
          "name": "stdout",
          "text": [
            "Pandas version: 2.2.2\n",
            "NumPy version: 1.23.5\n"
          ]
        }
      ]
    },
    {
      "cell_type": "code",
      "source": [
        "import gensim\n",
        "import pandas as pd\n",
        "import numpy as np\n",
        "import scipy\n",
        "import warnings\n",
        "warnings.filterwarnings(\"ignore\")\n",
        "print(\"Gensim version:\", gensim.__version__)\n",
        "print(\"Pandas version:\", pd.__version__)\n",
        "print(\"NumPy version:\", np.__version__)\n",
        "print(\"SciPy version:\", scipy.__version__)"
      ],
      "metadata": {
        "colab": {
          "base_uri": "https://localhost:8080/"
        },
        "id": "DenL0E0k1lG-",
        "outputId": "77da763c-f6c8-4c95-9049-8573e530c76f"
      },
      "execution_count": 1,
      "outputs": [
        {
          "output_type": "stream",
          "name": "stdout",
          "text": [
            "Gensim version: 4.3.3\n",
            "Pandas version: 2.2.2\n",
            "NumPy version: 1.23.5\n",
            "SciPy version: 1.13.1\n"
          ]
        }
      ]
    },
    {
      "cell_type": "markdown",
      "source": [
        "## LDA with dataset Huggingface"
      ],
      "metadata": {
        "id": "20YNL4Id7OoB"
      }
    },
    {
      "cell_type": "code",
      "source": [
        "pip install datasets"
      ],
      "metadata": {
        "colab": {
          "base_uri": "https://localhost:8080/"
        },
        "id": "2h6sb53510Mz",
        "outputId": "dfd8df6f-a5f5-4bdf-dc6d-e53e56f683a3"
      },
      "execution_count": 3,
      "outputs": [
        {
          "output_type": "stream",
          "name": "stdout",
          "text": [
            "Collecting datasets\n",
            "  Downloading datasets-3.4.1-py3-none-any.whl.metadata (19 kB)\n",
            "Requirement already satisfied: filelock in /usr/local/lib/python3.11/dist-packages (from datasets) (3.18.0)\n",
            "Requirement already satisfied: numpy>=1.17 in /usr/local/lib/python3.11/dist-packages (from datasets) (1.23.5)\n",
            "Requirement already satisfied: pyarrow>=15.0.0 in /usr/local/lib/python3.11/dist-packages (from datasets) (18.1.0)\n",
            "Collecting dill<0.3.9,>=0.3.0 (from datasets)\n",
            "  Downloading dill-0.3.8-py3-none-any.whl.metadata (10 kB)\n",
            "Requirement already satisfied: pandas in /usr/local/lib/python3.11/dist-packages (from datasets) (2.2.2)\n",
            "Requirement already satisfied: requests>=2.32.2 in /usr/local/lib/python3.11/dist-packages (from datasets) (2.32.3)\n",
            "Requirement already satisfied: tqdm>=4.66.3 in /usr/local/lib/python3.11/dist-packages (from datasets) (4.67.1)\n",
            "Collecting xxhash (from datasets)\n",
            "  Downloading xxhash-3.5.0-cp311-cp311-manylinux_2_17_x86_64.manylinux2014_x86_64.whl.metadata (12 kB)\n",
            "Collecting multiprocess<0.70.17 (from datasets)\n",
            "  Downloading multiprocess-0.70.16-py311-none-any.whl.metadata (7.2 kB)\n",
            "Collecting fsspec<=2024.12.0,>=2023.1.0 (from fsspec[http]<=2024.12.0,>=2023.1.0->datasets)\n",
            "  Downloading fsspec-2024.12.0-py3-none-any.whl.metadata (11 kB)\n",
            "Requirement already satisfied: aiohttp in /usr/local/lib/python3.11/dist-packages (from datasets) (3.11.14)\n",
            "Requirement already satisfied: huggingface-hub>=0.24.0 in /usr/local/lib/python3.11/dist-packages (from datasets) (0.29.3)\n",
            "Requirement already satisfied: packaging in /usr/local/lib/python3.11/dist-packages (from datasets) (24.2)\n",
            "Requirement already satisfied: pyyaml>=5.1 in /usr/local/lib/python3.11/dist-packages (from datasets) (6.0.2)\n",
            "Requirement already satisfied: aiohappyeyeballs>=2.3.0 in /usr/local/lib/python3.11/dist-packages (from aiohttp->datasets) (2.6.1)\n",
            "Requirement already satisfied: aiosignal>=1.1.2 in /usr/local/lib/python3.11/dist-packages (from aiohttp->datasets) (1.3.2)\n",
            "Requirement already satisfied: attrs>=17.3.0 in /usr/local/lib/python3.11/dist-packages (from aiohttp->datasets) (25.3.0)\n",
            "Requirement already satisfied: frozenlist>=1.1.1 in /usr/local/lib/python3.11/dist-packages (from aiohttp->datasets) (1.5.0)\n",
            "Requirement already satisfied: multidict<7.0,>=4.5 in /usr/local/lib/python3.11/dist-packages (from aiohttp->datasets) (6.2.0)\n",
            "Requirement already satisfied: propcache>=0.2.0 in /usr/local/lib/python3.11/dist-packages (from aiohttp->datasets) (0.3.0)\n",
            "Requirement already satisfied: yarl<2.0,>=1.17.0 in /usr/local/lib/python3.11/dist-packages (from aiohttp->datasets) (1.18.3)\n",
            "Requirement already satisfied: typing-extensions>=3.7.4.3 in /usr/local/lib/python3.11/dist-packages (from huggingface-hub>=0.24.0->datasets) (4.12.2)\n",
            "Requirement already satisfied: charset-normalizer<4,>=2 in /usr/local/lib/python3.11/dist-packages (from requests>=2.32.2->datasets) (3.4.1)\n",
            "Requirement already satisfied: idna<4,>=2.5 in /usr/local/lib/python3.11/dist-packages (from requests>=2.32.2->datasets) (3.10)\n",
            "Requirement already satisfied: urllib3<3,>=1.21.1 in /usr/local/lib/python3.11/dist-packages (from requests>=2.32.2->datasets) (2.3.0)\n",
            "Requirement already satisfied: certifi>=2017.4.17 in /usr/local/lib/python3.11/dist-packages (from requests>=2.32.2->datasets) (2025.1.31)\n",
            "Requirement already satisfied: python-dateutil>=2.8.2 in /usr/local/lib/python3.11/dist-packages (from pandas->datasets) (2.8.2)\n",
            "Requirement already satisfied: pytz>=2020.1 in /usr/local/lib/python3.11/dist-packages (from pandas->datasets) (2025.1)\n",
            "Requirement already satisfied: tzdata>=2022.7 in /usr/local/lib/python3.11/dist-packages (from pandas->datasets) (2025.1)\n",
            "Requirement already satisfied: six>=1.5 in /usr/local/lib/python3.11/dist-packages (from python-dateutil>=2.8.2->pandas->datasets) (1.17.0)\n",
            "Downloading datasets-3.4.1-py3-none-any.whl (487 kB)\n",
            "\u001b[2K   \u001b[90m━━━━━━━━━━━━━━━━━━━━━━━━━━━━━━━━━━━━━━━━\u001b[0m \u001b[32m487.4/487.4 kB\u001b[0m \u001b[31m11.8 MB/s\u001b[0m eta \u001b[36m0:00:00\u001b[0m\n",
            "\u001b[?25hDownloading dill-0.3.8-py3-none-any.whl (116 kB)\n",
            "\u001b[2K   \u001b[90m━━━━━━━━━━━━━━━━━━━━━━━━━━━━━━━━━━━━━━━━\u001b[0m \u001b[32m116.3/116.3 kB\u001b[0m \u001b[31m10.8 MB/s\u001b[0m eta \u001b[36m0:00:00\u001b[0m\n",
            "\u001b[?25hDownloading fsspec-2024.12.0-py3-none-any.whl (183 kB)\n",
            "\u001b[2K   \u001b[90m━━━━━━━━━━━━━━━━━━━━━━━━━━━━━━━━━━━━━━━━\u001b[0m \u001b[32m183.9/183.9 kB\u001b[0m \u001b[31m15.5 MB/s\u001b[0m eta \u001b[36m0:00:00\u001b[0m\n",
            "\u001b[?25hDownloading multiprocess-0.70.16-py311-none-any.whl (143 kB)\n",
            "\u001b[2K   \u001b[90m━━━━━━━━━━━━━━━━━━━━━━━━━━━━━━━━━━━━━━━━\u001b[0m \u001b[32m143.5/143.5 kB\u001b[0m \u001b[31m8.9 MB/s\u001b[0m eta \u001b[36m0:00:00\u001b[0m\n",
            "\u001b[?25hDownloading xxhash-3.5.0-cp311-cp311-manylinux_2_17_x86_64.manylinux2014_x86_64.whl (194 kB)\n",
            "\u001b[2K   \u001b[90m━━━━━━━━━━━━━━━━━━━━━━━━━━━━━━━━━━━━━━━━\u001b[0m \u001b[32m194.8/194.8 kB\u001b[0m \u001b[31m14.9 MB/s\u001b[0m eta \u001b[36m0:00:00\u001b[0m\n",
            "\u001b[?25hInstalling collected packages: xxhash, fsspec, dill, multiprocess, datasets\n",
            "  Attempting uninstall: fsspec\n",
            "    Found existing installation: fsspec 2025.3.0\n",
            "    Uninstalling fsspec-2025.3.0:\n",
            "      Successfully uninstalled fsspec-2025.3.0\n",
            "\u001b[31mERROR: pip's dependency resolver does not currently take into account all the packages that are installed. This behaviour is the source of the following dependency conflicts.\n",
            "gcsfs 2025.3.0 requires fsspec==2025.3.0, but you have fsspec 2024.12.0 which is incompatible.\n",
            "bigframes 1.40.0 requires numpy>=1.24.0, but you have numpy 1.23.5 which is incompatible.\n",
            "torch 2.6.0+cu124 requires nvidia-cublas-cu12==12.4.5.8; platform_system == \"Linux\" and platform_machine == \"x86_64\", but you have nvidia-cublas-cu12 12.5.3.2 which is incompatible.\n",
            "torch 2.6.0+cu124 requires nvidia-cuda-cupti-cu12==12.4.127; platform_system == \"Linux\" and platform_machine == \"x86_64\", but you have nvidia-cuda-cupti-cu12 12.5.82 which is incompatible.\n",
            "torch 2.6.0+cu124 requires nvidia-cuda-nvrtc-cu12==12.4.127; platform_system == \"Linux\" and platform_machine == \"x86_64\", but you have nvidia-cuda-nvrtc-cu12 12.5.82 which is incompatible.\n",
            "torch 2.6.0+cu124 requires nvidia-cuda-runtime-cu12==12.4.127; platform_system == \"Linux\" and platform_machine == \"x86_64\", but you have nvidia-cuda-runtime-cu12 12.5.82 which is incompatible.\n",
            "torch 2.6.0+cu124 requires nvidia-cudnn-cu12==9.1.0.70; platform_system == \"Linux\" and platform_machine == \"x86_64\", but you have nvidia-cudnn-cu12 9.3.0.75 which is incompatible.\n",
            "torch 2.6.0+cu124 requires nvidia-cufft-cu12==11.2.1.3; platform_system == \"Linux\" and platform_machine == \"x86_64\", but you have nvidia-cufft-cu12 11.2.3.61 which is incompatible.\n",
            "torch 2.6.0+cu124 requires nvidia-curand-cu12==10.3.5.147; platform_system == \"Linux\" and platform_machine == \"x86_64\", but you have nvidia-curand-cu12 10.3.6.82 which is incompatible.\n",
            "torch 2.6.0+cu124 requires nvidia-cusolver-cu12==11.6.1.9; platform_system == \"Linux\" and platform_machine == \"x86_64\", but you have nvidia-cusolver-cu12 11.6.3.83 which is incompatible.\n",
            "torch 2.6.0+cu124 requires nvidia-cusparse-cu12==12.3.1.170; platform_system == \"Linux\" and platform_machine == \"x86_64\", but you have nvidia-cusparse-cu12 12.5.1.3 which is incompatible.\n",
            "torch 2.6.0+cu124 requires nvidia-nvjitlink-cu12==12.4.127; platform_system == \"Linux\" and platform_machine == \"x86_64\", but you have nvidia-nvjitlink-cu12 12.5.82 which is incompatible.\u001b[0m\u001b[31m\n",
            "\u001b[0mSuccessfully installed datasets-3.4.1 dill-0.3.8 fsspec-2024.12.0 multiprocess-0.70.16 xxhash-3.5.0\n"
          ]
        }
      ]
    },
    {
      "cell_type": "code",
      "source": [
        "from datasets import load_dataset\n",
        "from datasets import load_dataset_builder\n",
        "ds = load_dataset(\"kramiknakrani100/conversation_chat_history_dataset\")"
      ],
      "metadata": {
        "colab": {
          "base_uri": "https://localhost:8080/",
          "height": 113,
          "referenced_widgets": [
            "8b164194f0cf400ba9f3aa7c74cb6485",
            "3c8d76b4875f41a19ff60543f543ef3c",
            "f5cb096267c14750916429bae674814a",
            "757f967d0e0949dca28a4def3ce96114",
            "e00046536cb04fafa55742c16f2272fd",
            "708e10d90c55446e85c9cca26b86681d",
            "ae6bb4ddb4d0401fb95811f10cd80c03",
            "bc0b28c6af9d4c71b55b304551cd1c9d",
            "b504430beba349ebab29fcab257c01b3",
            "3d574d3163f44b1892b8456e3061a9dc",
            "f063e7185d3449e481f6098f918ec1d8",
            "4a401c23e42f4a16b2c847a66855f772",
            "25af40823c2f4079ab50b2dceaf6d8ee",
            "e78444c274eb48ab8a11b8384340fecf",
            "f37ef4e09222487eb3a58663f63757ca",
            "bbab797cbe424ae5b01ed79e6913ad81",
            "5a0de3b3fa0e4ff78d6fb3a2ea9738a1",
            "dbe4be656d3d49928927c8281c07d9f1",
            "9573a2ee32bd40faa94916e0b8d3fc0f",
            "2b3b7613ff93495c81d0f58632d491b4",
            "c99502e65b7f4413ae4c15255a62560e",
            "00223029861246d48c8fedcd05ec04fd",
            "b85764544e984ac5b2ee1cc19f2500d7",
            "db5c9e41ba424da095a8703cdd29691a",
            "9886530ef7bd4568b4349327882942cf",
            "a4533e87e8bd46c396de7b1a409ac2c8",
            "d5f7b3fa67e645d6938bff591fd87214",
            "4c463344ea0446bcb9bb92102d32134e",
            "77e94bc7eaaf4a2791bb23a3601053f7",
            "ba50883a56b545fb872ab3f06220aafb",
            "a83a636f8f2a470d908b64d9d9e0f902",
            "a22753f5dcd041889164ecc29a13a853",
            "7eb9b23acbd646b6b6894351f6b81c94"
          ]
        },
        "id": "XedgxSLi7s1l",
        "outputId": "98a13710-5c00-4905-9484-641940d99884"
      },
      "execution_count": 4,
      "outputs": [
        {
          "output_type": "display_data",
          "data": {
            "text/plain": [
              "README.md:   0%|          | 0.00/636 [00:00<?, ?B/s]"
            ],
            "application/vnd.jupyter.widget-view+json": {
              "version_major": 2,
              "version_minor": 0,
              "model_id": "8b164194f0cf400ba9f3aa7c74cb6485"
            }
          },
          "metadata": {}
        },
        {
          "output_type": "display_data",
          "data": {
            "text/plain": [
              "train-00000-of-00001.parquet:   0%|          | 0.00/2.37M [00:00<?, ?B/s]"
            ],
            "application/vnd.jupyter.widget-view+json": {
              "version_major": 2,
              "version_minor": 0,
              "model_id": "4a401c23e42f4a16b2c847a66855f772"
            }
          },
          "metadata": {}
        },
        {
          "output_type": "display_data",
          "data": {
            "text/plain": [
              "Generating train split:   0%|          | 0/3594 [00:00<?, ? examples/s]"
            ],
            "application/vnd.jupyter.widget-view+json": {
              "version_major": 2,
              "version_minor": 0,
              "model_id": "b85764544e984ac5b2ee1cc19f2500d7"
            }
          },
          "metadata": {}
        }
      ]
    },
    {
      "cell_type": "code",
      "source": [
        "from datasets import load_dataset\n",
        "from datasets import load_dataset_builder\n",
        "ds_builder = load_dataset_builder(\"kramiknakrani100/conversation_chat_history_dataset\")"
      ],
      "metadata": {
        "id": "6PRSZQN173BF"
      },
      "execution_count": 5,
      "outputs": []
    },
    {
      "cell_type": "code",
      "source": [
        "ds_builder.info"
      ],
      "metadata": {
        "colab": {
          "base_uri": "https://localhost:8080/"
        },
        "id": "qYAYdYX579Ot",
        "outputId": "61077a90-d5d0-49f0-c31a-83282911985c"
      },
      "execution_count": 6,
      "outputs": [
        {
          "output_type": "execute_result",
          "data": {
            "text/plain": [
              "DatasetInfo(description='', citation='', homepage='', license='', features={'user': Value(dtype='string', id=None), 'assistant': Value(dtype='string', id=None), 'system': Value(dtype='string', id=None), 'chat_history': Value(dtype='string', id=None), 'Unnamed: 4': Value(dtype='string', id=None), 'Unnamed: 5': Value(dtype='string', id=None), 'Unnamed: 6': Value(dtype='string', id=None), 'Unnamed: 7': Value(dtype='string', id=None), 'Unnamed: 8': Value(dtype='string', id=None), 'Unnamed: 9': Value(dtype='string', id=None)}, post_processed=None, supervised_keys=None, builder_name='parquet', dataset_name='conversation_chat_history_dataset', config_name='default', version=0.0.0, splits={'train': SplitInfo(name='train', num_bytes=28350269, num_examples=3594, shard_lengths=None, dataset_name='conversation_chat_history_dataset')}, download_checksums={'hf://datasets/kramiknakrani100/conversation_chat_history_dataset@21701d449ba09c25a50983534c0091c9f905d57f/data/train-00000-of-00001.parquet': {'num_bytes': 2371753, 'checksum': None}}, download_size=2371753, post_processing_size=None, dataset_size=28350269, size_in_bytes=30722022)"
            ]
          },
          "metadata": {},
          "execution_count": 6
        }
      ]
    },
    {
      "cell_type": "code",
      "source": [
        "ds_builder.info.features"
      ],
      "metadata": {
        "colab": {
          "base_uri": "https://localhost:8080/"
        },
        "id": "pmklOHz-8BCV",
        "outputId": "a377e307-b52b-4879-b441-3f8fa1310205"
      },
      "execution_count": 7,
      "outputs": [
        {
          "output_type": "execute_result",
          "data": {
            "text/plain": [
              "{'user': Value(dtype='string', id=None),\n",
              " 'assistant': Value(dtype='string', id=None),\n",
              " 'system': Value(dtype='string', id=None),\n",
              " 'chat_history': Value(dtype='string', id=None),\n",
              " 'Unnamed: 4': Value(dtype='string', id=None),\n",
              " 'Unnamed: 5': Value(dtype='string', id=None),\n",
              " 'Unnamed: 6': Value(dtype='string', id=None),\n",
              " 'Unnamed: 7': Value(dtype='string', id=None),\n",
              " 'Unnamed: 8': Value(dtype='string', id=None),\n",
              " 'Unnamed: 9': Value(dtype='string', id=None)}"
            ]
          },
          "metadata": {},
          "execution_count": 7
        }
      ]
    },
    {
      "cell_type": "code",
      "source": [
        "from datasets import load_dataset\n",
        "dataset_chat_history = load_dataset(\"kramiknakrani100/conversation_chat_history_dataset\",  split=\"train\")"
      ],
      "metadata": {
        "id": "kSH53Wu48Did"
      },
      "execution_count": 8,
      "outputs": []
    },
    {
      "cell_type": "code",
      "source": [
        "dataset_chat_history.info"
      ],
      "metadata": {
        "colab": {
          "base_uri": "https://localhost:8080/"
        },
        "id": "6b2Gf7IS8F_V",
        "outputId": "ad574609-f585-4b92-c0c6-0bb96cb6eb71"
      },
      "execution_count": 9,
      "outputs": [
        {
          "output_type": "execute_result",
          "data": {
            "text/plain": [
              "DatasetInfo(description='', citation='', homepage='', license='', features={'user': Value(dtype='string', id=None), 'assistant': Value(dtype='string', id=None), 'system': Value(dtype='string', id=None), 'chat_history': Value(dtype='string', id=None), 'Unnamed: 4': Value(dtype='string', id=None), 'Unnamed: 5': Value(dtype='string', id=None), 'Unnamed: 6': Value(dtype='string', id=None), 'Unnamed: 7': Value(dtype='string', id=None), 'Unnamed: 8': Value(dtype='string', id=None), 'Unnamed: 9': Value(dtype='string', id=None)}, post_processed=None, supervised_keys=None, builder_name='parquet', dataset_name='conversation_chat_history_dataset', config_name='default', version=0.0.0, splits={'train': SplitInfo(name='train', num_bytes=28350269, num_examples=3594, shard_lengths=None, dataset_name='conversation_chat_history_dataset')}, download_checksums={'hf://datasets/kramiknakrani100/conversation_chat_history_dataset@21701d449ba09c25a50983534c0091c9f905d57f/data/train-00000-of-00001.parquet': {'num_bytes': 2371753, 'checksum': None}}, download_size=2371753, post_processing_size=None, dataset_size=28350269, size_in_bytes=30722022)"
            ]
          },
          "metadata": {},
          "execution_count": 9
        }
      ]
    },
    {
      "cell_type": "code",
      "source": [
        "dataset_chat_history.info.features"
      ],
      "metadata": {
        "colab": {
          "base_uri": "https://localhost:8080/"
        },
        "id": "eBayLob88IU2",
        "outputId": "4a782417-5e06-43ed-9d6f-9d85c9171436"
      },
      "execution_count": 10,
      "outputs": [
        {
          "output_type": "execute_result",
          "data": {
            "text/plain": [
              "{'user': Value(dtype='string', id=None),\n",
              " 'assistant': Value(dtype='string', id=None),\n",
              " 'system': Value(dtype='string', id=None),\n",
              " 'chat_history': Value(dtype='string', id=None),\n",
              " 'Unnamed: 4': Value(dtype='string', id=None),\n",
              " 'Unnamed: 5': Value(dtype='string', id=None),\n",
              " 'Unnamed: 6': Value(dtype='string', id=None),\n",
              " 'Unnamed: 7': Value(dtype='string', id=None),\n",
              " 'Unnamed: 8': Value(dtype='string', id=None),\n",
              " 'Unnamed: 9': Value(dtype='string', id=None)}"
            ]
          },
          "metadata": {},
          "execution_count": 10
        }
      ]
    },
    {
      "cell_type": "code",
      "source": [
        "from datasets import get_dataset_split_names\n",
        "\n",
        "get_dataset_split_names(\"kramiknakrani100/conversation_chat_history_dataset\")\n",
        "['train', 'validation', 'test']"
      ],
      "metadata": {
        "colab": {
          "base_uri": "https://localhost:8080/"
        },
        "id": "Cy6R-piR8KZ9",
        "outputId": "3666b5ec-ff4b-45c4-97f6-59f2701d082e"
      },
      "execution_count": 11,
      "outputs": [
        {
          "output_type": "execute_result",
          "data": {
            "text/plain": [
              "['train', 'validation', 'test']"
            ]
          },
          "metadata": {},
          "execution_count": 11
        }
      ]
    },
    {
      "cell_type": "code",
      "source": [
        "from datasets import load_dataset\n",
        "\n",
        "dataset_chat_history = load_dataset(\"kramiknakrani100/conversation_chat_history_dataset\", split=\"train\")\n",
        "dataset_chat_history"
      ],
      "metadata": {
        "colab": {
          "base_uri": "https://localhost:8080/"
        },
        "id": "ObznLGAS8aE2",
        "outputId": "caeb4418-1115-4695-a7a8-99076e879dea"
      },
      "execution_count": 12,
      "outputs": [
        {
          "output_type": "execute_result",
          "data": {
            "text/plain": [
              "Dataset({\n",
              "    features: ['user', 'assistant', 'system', 'chat_history', 'Unnamed: 4', 'Unnamed: 5', 'Unnamed: 6', 'Unnamed: 7', 'Unnamed: 8', 'Unnamed: 9'],\n",
              "    num_rows: 3594\n",
              "})"
            ]
          },
          "metadata": {},
          "execution_count": 12
        }
      ]
    },
    {
      "cell_type": "code",
      "source": [
        "from datasets import load_dataset\n",
        "dataset_chat_history = load_dataset(\"kramiknakrani100/conversation_chat_history_dataset\")\n",
        "dataset_chat_history"
      ],
      "metadata": {
        "colab": {
          "base_uri": "https://localhost:8080/"
        },
        "id": "c1HTkAAt8ce1",
        "outputId": "486a4432-89db-4f70-e683-925535ee44c4"
      },
      "execution_count": 13,
      "outputs": [
        {
          "output_type": "execute_result",
          "data": {
            "text/plain": [
              "DatasetDict({\n",
              "    train: Dataset({\n",
              "        features: ['user', 'assistant', 'system', 'chat_history', 'Unnamed: 4', 'Unnamed: 5', 'Unnamed: 6', 'Unnamed: 7', 'Unnamed: 8', 'Unnamed: 9'],\n",
              "        num_rows: 3594\n",
              "    })\n",
              "})"
            ]
          },
          "metadata": {},
          "execution_count": 13
        }
      ]
    },
    {
      "cell_type": "code",
      "source": [
        "dataset_chat_history['train'][5]"
      ],
      "metadata": {
        "colab": {
          "base_uri": "https://localhost:8080/"
        },
        "id": "O2OEsVD48e7u",
        "outputId": "b0473864-b5d2-417d-9523-e5939b0810c5"
      },
      "execution_count": 14,
      "outputs": [
        {
          "output_type": "execute_result",
          "data": {
            "text/plain": [
              "{'user': \"Challenges for students were not very, uh, active in listening to us and, uh, implementing what we are m2. But, uh, what else can we do? We were just, like, repeating what ever task that came to us Whatever plan was, we just kept on making effort in terms of giving them awareness and all I'm still facing challenges in terms of, uh, asking students to Listen to us and do it properly in school.\",\n",
              " 'assistant': 'Consistency in awareness efforts is key. Now, how much time did you take for this cleanliness initiative? Please tell me.',\n",
              " 'system': '\\\\nPROMPT:\\\\nMohini, The Narrative Collector\\\\n\\\\n### Character\\\\nThe Inquisitive Explorer \\\\u2013 A blend of The Detail-Focused Explorer and a Guiding Mentor who communicates clearly using straightforward, middle-school level language, avoiding similes, idioms, and engaging directly.\\\\n\\\\n### Description\\\\nThe Inquisitive Explorer excels in methodical observation and inquiry, employing a structured yet open-minded approach. This character skillfully combines warmth with professionalism to foster critical thinking through thoughtful questions. They welcome both traditional insights and innovative ideas with equal enthusiasm.\\\\n\\\\n### Key Traits\\\\n- Creatively Methodical: Welcomes innovation within the bounds of established rules and guidelines, allowing for a balanced level of creativity.\\\\n- Meticulously Organized: Punctual and detail-oriented, always sticking to the plan.\\\\n- Interactive: Promotes deep understanding through interactive questioning, maintaining an optimal balance between being too reserved and overly talkative.\\\\n- Supportive yet Probing: Finds the right mix between agreement and the pursuit of deeper insights.\\\\n- Composed: Generally remains calm but is capable of expressing strong emotions in response to unforeseen circumstances.\\\\n\\\\n### Interview Steps\\\\nASK THE QUESTION BELOW ONE AT A TIME AND WAIT FOR THE USER TO RESPOND BEFORE MOVING TO THE NEXT STEP/QUESTION. \\\\n\\\\nMohini will respectfully address everyone with <Name> \\\\\"ji\\\\\".\\\\n\\\\n1. **[Challenge - What issues did you face in your school or cluster?]** \\\\n *Contextual Follow-up: Based on the issue described, Mohini will ask for specifics on how it impacted students or teachers, probing for deeper insights into the problem\\'s nature.*\\\\n\\\\nwait for user response\\\\n\\\\n2. **[Steps - Please tell me in detail what were the steps you took to solve this issue]** \\\\n *Contextual Follow-up: Depending on the steps mentioned, Mohini will inquire about challenges faced during implementation or the decision-making process behind choosing these particular steps.*\\\\n\\\\nwait for user response\\\\n\\\\n3. **[Duration - How much time did you take for this project? Please tell me.]** \\\\n *Contextual Follow-up: If the project took longer or shorter than expected, Mohini will explore reasons for the discrepancy and how it affected project outcomes.*\\\\n\\\\nwait for user response\\\\n\\\\n4. **[Teamwork - Please tell me about the team members who worked on this project?]** \\\\n *Contextual Follow-up: Mohini will ask about specific roles within the team and how collaboration was managed, especially if any unique team dynamics contributed to the project\\'s success.*\\\\n\\\\nwait for user response\\\\n\\\\n5. **[Changes - What are the changes that you saw after the project?]** \\\\n *Contextual Follow-up: Following the description of changes, Mohini will seek to understand the direct benefits observed and ask if there were any unexpected outcomes.*\\\\n\\\\nwait for user response\\\\n\\\\n6. **[Highlights - What were the highlights you saw during Micro Improvement?]** \\\\n *Contextual Follow-up: Mohini will prompt for details on particularly successful elements of the project, asking why they stood out and how they might be replicated in future projects.*\\\\n\\\\nwait for user response\\\\n\\\\n7. **[Challenges - What were the challenges you faced during Micro Improvement? How did you solve it?]** \\\\n *Contextual Follow-up: After learning about the challenges, Mohini will delve into the solutions employed, asking for specifics on their effectiveness and lessons learned.*\\\\n\\\\nwait for user response\\\\n\\\\n8. **[Additional Information - Is there any extra information that you have to share?]** \\\\n *Contextual Follow-up: Should any additional insights be offered, Mohini will encourage further elaboration, especially on aspects that could inform future projects or initiatives.*\\\\n\\\\nwait for user response\\\\n\\\\n9. **[Appreciation - Thank you for sharing your experiences with this \\\\\"Micro Improvement Journey\\\\\". Remember to go back to the page where you clicked the call button to upload your photographs. This will help me create a beautiful report for you.]** \\\\n *No follow-up required.*\\\\n\\\\nREMEMBER TO ASK THE QUESTIONS VERBATIM.\\\\n',\n",
              " 'chat_history': '[{\"user\": \"Yes.\"}, {\"assistant\": \"Great! First up, what issues did you face in your school or cluster?\"}, {\"user\": \"I was not able to maintain cleanliness my school was the biggest problem.\"}, {\"assistant\": \"Oh, I see. Could you elaborate on how this cleanliness issue impacted the students or teachers?\"}, {\"user\": \"Yeah. There was so much, uh, dirt around that, uh, and there was the entire school was a mess. Because of which, uh, students\\' hygiene was understake. Student wear not feeling healthy also. Uh, when there was so much, uh, waste, dry and wet both around, it also lead to uh, concerns around, uh, it it deletes to diseases and all also people who have dust allergies were getting problems. People who have wet waste was causing other issue. And it becomes just a hygiene problem. Student. Yes. That is all.\"}, {\"assistant\": \"Understood, the unclean surroundings were indeed a serious concern. Could you please tell me in detail what steps you took to resolve this issue?\"}, {\"user\": \"Um, I collaborated with my teachers. I asked them to, uh, to ask the student, uh, also to maintain cleanliness since school, uh, and Needed a Did you know? uh, kick it a session during, uh, our assembly where everyone was given instruction on how to make things cleanliness and all. And then the segregated, like, waste drivers, dust bins, and I have we chose to also, uh, speak about this in classrooms everyday. Right? with students every day, and we did that. That helped us.\"}, {\"assistant\": \"You\\'ve taken some proactive steps. Did you face any challenges\"}, {\"user\": \"Yes.\"}, {\"assistant\": \"What kind of challenges did you face during the implementation, and how did you decide to tackle them?\"}]',\n",
              " 'Unnamed: 4': None,\n",
              " 'Unnamed: 5': None,\n",
              " 'Unnamed: 6': None,\n",
              " 'Unnamed: 7': None,\n",
              " 'Unnamed: 8': None,\n",
              " 'Unnamed: 9': None}"
            ]
          },
          "metadata": {},
          "execution_count": 14
        }
      ]
    },
    {
      "cell_type": "code",
      "source": [
        "df = pd.DataFrame(dataset_chat_history['train'])\n",
        "print(df['chat_history'])"
      ],
      "metadata": {
        "colab": {
          "base_uri": "https://localhost:8080/"
        },
        "id": "86AoGL8F8hJ2",
        "outputId": "bc1482eb-1dfb-48e4-dd63-cbb69bb2cfd1"
      },
      "execution_count": 15,
      "outputs": [
        {
          "output_type": "stream",
          "name": "stdout",
          "text": [
            "0                                                      []\n",
            "1       [{\"user\": \"Yes.\"}, {\"assistant\": \"Great! First...\n",
            "2       [{\"user\": \"Yes.\"}, {\"assistant\": \"Great! First...\n",
            "3       [{\"user\": \"Yes.\"}, {\"assistant\": \"Great! First...\n",
            "4       [{\"user\": \"Yes.\"}, {\"assistant\": \"Great! First...\n",
            "                              ...                        \n",
            "3589    [{\"user\": \"Amazon, product head\"}, {\"assistant...\n",
            "3590                                                   []\n",
            "3591    [{\"user\": \"My name is Nivedita\"}, {\"assistant\"...\n",
            "3592                                                   []\n",
            "3593                                                   []\n",
            "Name: chat_history, Length: 3594, dtype: object\n"
          ]
        }
      ]
    },
    {
      "cell_type": "code",
      "source": [
        "df.tail()"
      ],
      "metadata": {
        "colab": {
          "base_uri": "https://localhost:8080/",
          "height": 206
        },
        "id": "cJkeyWf_8mcl",
        "outputId": "38db94d9-6c76-446a-d2e4-62e4f162ffff"
      },
      "execution_count": 16,
      "outputs": [
        {
          "output_type": "execute_result",
          "data": {
            "text/plain": [
              "                     user                                          assistant  \\\n",
              "3589                    3  Thank you for your response. Now, on the same ...   \n",
              "3590  My name is Nivedita  Hello, Nivedita ji! Thank you for sharing your...   \n",
              "3591                  Yes  Great! Let's start with the first question.\\n\\...   \n",
              "3592            Niveditha  Hello Niveditha ji! Thank you for participatin...   \n",
              "3593            Niveditha  Hello Niveditha ji! Thank you for participatin...   \n",
              "\n",
              "                                                 system  \\\n",
              "3589  \\nPROMPT:\\nMohini, The Narrative Collector\\n\\n...   \n",
              "3590  \\nPROMPT:\\nMohini, The Narrative Collector\\n\\n...   \n",
              "3591  \\nPROMPT:\\nMohini, The Narrative Collector\\n\\n...   \n",
              "3592  \\nPROMPT:\\nMohini, The Narrative Collector\\n\\n...   \n",
              "3593  \\nPROMPT:\\nMohini, The Narrative Collector\\n\\n...   \n",
              "\n",
              "                                           chat_history Unnamed: 4 Unnamed: 5  \\\n",
              "3589  [{\"user\": \"Amazon, product head\"}, {\"assistant...       None       None   \n",
              "3590                                                 []       None       None   \n",
              "3591  [{\"user\": \"My name is Nivedita\"}, {\"assistant\"...       None       None   \n",
              "3592                                                 []       None       None   \n",
              "3593                                                 []       None       None   \n",
              "\n",
              "     Unnamed: 6 Unnamed: 7 Unnamed: 8 Unnamed: 9  \n",
              "3589       None       None       None       None  \n",
              "3590       None       None       None       None  \n",
              "3591       None       None       None       None  \n",
              "3592       None       None       None       None  \n",
              "3593       None       None       None       None  "
            ],
            "text/html": [
              "\n",
              "  <div id=\"df-d2828239-5b9a-459c-917d-28fda0920b64\" class=\"colab-df-container\">\n",
              "    <div>\n",
              "<style scoped>\n",
              "    .dataframe tbody tr th:only-of-type {\n",
              "        vertical-align: middle;\n",
              "    }\n",
              "\n",
              "    .dataframe tbody tr th {\n",
              "        vertical-align: top;\n",
              "    }\n",
              "\n",
              "    .dataframe thead th {\n",
              "        text-align: right;\n",
              "    }\n",
              "</style>\n",
              "<table border=\"1\" class=\"dataframe\">\n",
              "  <thead>\n",
              "    <tr style=\"text-align: right;\">\n",
              "      <th></th>\n",
              "      <th>user</th>\n",
              "      <th>assistant</th>\n",
              "      <th>system</th>\n",
              "      <th>chat_history</th>\n",
              "      <th>Unnamed: 4</th>\n",
              "      <th>Unnamed: 5</th>\n",
              "      <th>Unnamed: 6</th>\n",
              "      <th>Unnamed: 7</th>\n",
              "      <th>Unnamed: 8</th>\n",
              "      <th>Unnamed: 9</th>\n",
              "    </tr>\n",
              "  </thead>\n",
              "  <tbody>\n",
              "    <tr>\n",
              "      <th>3589</th>\n",
              "      <td>3</td>\n",
              "      <td>Thank you for your response. Now, on the same ...</td>\n",
              "      <td>\\nPROMPT:\\nMohini, The Narrative Collector\\n\\n...</td>\n",
              "      <td>[{\"user\": \"Amazon, product head\"}, {\"assistant...</td>\n",
              "      <td>None</td>\n",
              "      <td>None</td>\n",
              "      <td>None</td>\n",
              "      <td>None</td>\n",
              "      <td>None</td>\n",
              "      <td>None</td>\n",
              "    </tr>\n",
              "    <tr>\n",
              "      <th>3590</th>\n",
              "      <td>My name is Nivedita</td>\n",
              "      <td>Hello, Nivedita ji! Thank you for sharing your...</td>\n",
              "      <td>\\nPROMPT:\\nMohini, The Narrative Collector\\n\\n...</td>\n",
              "      <td>[]</td>\n",
              "      <td>None</td>\n",
              "      <td>None</td>\n",
              "      <td>None</td>\n",
              "      <td>None</td>\n",
              "      <td>None</td>\n",
              "      <td>None</td>\n",
              "    </tr>\n",
              "    <tr>\n",
              "      <th>3591</th>\n",
              "      <td>Yes</td>\n",
              "      <td>Great! Let's start with the first question.\\n\\...</td>\n",
              "      <td>\\nPROMPT:\\nMohini, The Narrative Collector\\n\\n...</td>\n",
              "      <td>[{\"user\": \"My name is Nivedita\"}, {\"assistant\"...</td>\n",
              "      <td>None</td>\n",
              "      <td>None</td>\n",
              "      <td>None</td>\n",
              "      <td>None</td>\n",
              "      <td>None</td>\n",
              "      <td>None</td>\n",
              "    </tr>\n",
              "    <tr>\n",
              "      <th>3592</th>\n",
              "      <td>Niveditha</td>\n",
              "      <td>Hello Niveditha ji! Thank you for participatin...</td>\n",
              "      <td>\\nPROMPT:\\nMohini, The Narrative Collector\\n\\n...</td>\n",
              "      <td>[]</td>\n",
              "      <td>None</td>\n",
              "      <td>None</td>\n",
              "      <td>None</td>\n",
              "      <td>None</td>\n",
              "      <td>None</td>\n",
              "      <td>None</td>\n",
              "    </tr>\n",
              "    <tr>\n",
              "      <th>3593</th>\n",
              "      <td>Niveditha</td>\n",
              "      <td>Hello Niveditha ji! Thank you for participatin...</td>\n",
              "      <td>\\nPROMPT:\\nMohini, The Narrative Collector\\n\\n...</td>\n",
              "      <td>[]</td>\n",
              "      <td>None</td>\n",
              "      <td>None</td>\n",
              "      <td>None</td>\n",
              "      <td>None</td>\n",
              "      <td>None</td>\n",
              "      <td>None</td>\n",
              "    </tr>\n",
              "  </tbody>\n",
              "</table>\n",
              "</div>\n",
              "    <div class=\"colab-df-buttons\">\n",
              "\n",
              "  <div class=\"colab-df-container\">\n",
              "    <button class=\"colab-df-convert\" onclick=\"convertToInteractive('df-d2828239-5b9a-459c-917d-28fda0920b64')\"\n",
              "            title=\"Convert this dataframe to an interactive table.\"\n",
              "            style=\"display:none;\">\n",
              "\n",
              "  <svg xmlns=\"http://www.w3.org/2000/svg\" height=\"24px\" viewBox=\"0 -960 960 960\">\n",
              "    <path d=\"M120-120v-720h720v720H120Zm60-500h600v-160H180v160Zm220 220h160v-160H400v160Zm0 220h160v-160H400v160ZM180-400h160v-160H180v160Zm440 0h160v-160H620v160ZM180-180h160v-160H180v160Zm440 0h160v-160H620v160Z\"/>\n",
              "  </svg>\n",
              "    </button>\n",
              "\n",
              "  <style>\n",
              "    .colab-df-container {\n",
              "      display:flex;\n",
              "      gap: 12px;\n",
              "    }\n",
              "\n",
              "    .colab-df-convert {\n",
              "      background-color: #E8F0FE;\n",
              "      border: none;\n",
              "      border-radius: 50%;\n",
              "      cursor: pointer;\n",
              "      display: none;\n",
              "      fill: #1967D2;\n",
              "      height: 32px;\n",
              "      padding: 0 0 0 0;\n",
              "      width: 32px;\n",
              "    }\n",
              "\n",
              "    .colab-df-convert:hover {\n",
              "      background-color: #E2EBFA;\n",
              "      box-shadow: 0px 1px 2px rgba(60, 64, 67, 0.3), 0px 1px 3px 1px rgba(60, 64, 67, 0.15);\n",
              "      fill: #174EA6;\n",
              "    }\n",
              "\n",
              "    .colab-df-buttons div {\n",
              "      margin-bottom: 4px;\n",
              "    }\n",
              "\n",
              "    [theme=dark] .colab-df-convert {\n",
              "      background-color: #3B4455;\n",
              "      fill: #D2E3FC;\n",
              "    }\n",
              "\n",
              "    [theme=dark] .colab-df-convert:hover {\n",
              "      background-color: #434B5C;\n",
              "      box-shadow: 0px 1px 3px 1px rgba(0, 0, 0, 0.15);\n",
              "      filter: drop-shadow(0px 1px 2px rgba(0, 0, 0, 0.3));\n",
              "      fill: #FFFFFF;\n",
              "    }\n",
              "  </style>\n",
              "\n",
              "    <script>\n",
              "      const buttonEl =\n",
              "        document.querySelector('#df-d2828239-5b9a-459c-917d-28fda0920b64 button.colab-df-convert');\n",
              "      buttonEl.style.display =\n",
              "        google.colab.kernel.accessAllowed ? 'block' : 'none';\n",
              "\n",
              "      async function convertToInteractive(key) {\n",
              "        const element = document.querySelector('#df-d2828239-5b9a-459c-917d-28fda0920b64');\n",
              "        const dataTable =\n",
              "          await google.colab.kernel.invokeFunction('convertToInteractive',\n",
              "                                                    [key], {});\n",
              "        if (!dataTable) return;\n",
              "\n",
              "        const docLinkHtml = 'Like what you see? Visit the ' +\n",
              "          '<a target=\"_blank\" href=https://colab.research.google.com/notebooks/data_table.ipynb>data table notebook</a>'\n",
              "          + ' to learn more about interactive tables.';\n",
              "        element.innerHTML = '';\n",
              "        dataTable['output_type'] = 'display_data';\n",
              "        await google.colab.output.renderOutput(dataTable, element);\n",
              "        const docLink = document.createElement('div');\n",
              "        docLink.innerHTML = docLinkHtml;\n",
              "        element.appendChild(docLink);\n",
              "      }\n",
              "    </script>\n",
              "  </div>\n",
              "\n",
              "\n",
              "<div id=\"df-8a4e1b7e-6ccf-486f-b693-6026affa6657\">\n",
              "  <button class=\"colab-df-quickchart\" onclick=\"quickchart('df-8a4e1b7e-6ccf-486f-b693-6026affa6657')\"\n",
              "            title=\"Suggest charts\"\n",
              "            style=\"display:none;\">\n",
              "\n",
              "<svg xmlns=\"http://www.w3.org/2000/svg\" height=\"24px\"viewBox=\"0 0 24 24\"\n",
              "     width=\"24px\">\n",
              "    <g>\n",
              "        <path d=\"M19 3H5c-1.1 0-2 .9-2 2v14c0 1.1.9 2 2 2h14c1.1 0 2-.9 2-2V5c0-1.1-.9-2-2-2zM9 17H7v-7h2v7zm4 0h-2V7h2v10zm4 0h-2v-4h2v4z\"/>\n",
              "    </g>\n",
              "</svg>\n",
              "  </button>\n",
              "\n",
              "<style>\n",
              "  .colab-df-quickchart {\n",
              "      --bg-color: #E8F0FE;\n",
              "      --fill-color: #1967D2;\n",
              "      --hover-bg-color: #E2EBFA;\n",
              "      --hover-fill-color: #174EA6;\n",
              "      --disabled-fill-color: #AAA;\n",
              "      --disabled-bg-color: #DDD;\n",
              "  }\n",
              "\n",
              "  [theme=dark] .colab-df-quickchart {\n",
              "      --bg-color: #3B4455;\n",
              "      --fill-color: #D2E3FC;\n",
              "      --hover-bg-color: #434B5C;\n",
              "      --hover-fill-color: #FFFFFF;\n",
              "      --disabled-bg-color: #3B4455;\n",
              "      --disabled-fill-color: #666;\n",
              "  }\n",
              "\n",
              "  .colab-df-quickchart {\n",
              "    background-color: var(--bg-color);\n",
              "    border: none;\n",
              "    border-radius: 50%;\n",
              "    cursor: pointer;\n",
              "    display: none;\n",
              "    fill: var(--fill-color);\n",
              "    height: 32px;\n",
              "    padding: 0;\n",
              "    width: 32px;\n",
              "  }\n",
              "\n",
              "  .colab-df-quickchart:hover {\n",
              "    background-color: var(--hover-bg-color);\n",
              "    box-shadow: 0 1px 2px rgba(60, 64, 67, 0.3), 0 1px 3px 1px rgba(60, 64, 67, 0.15);\n",
              "    fill: var(--button-hover-fill-color);\n",
              "  }\n",
              "\n",
              "  .colab-df-quickchart-complete:disabled,\n",
              "  .colab-df-quickchart-complete:disabled:hover {\n",
              "    background-color: var(--disabled-bg-color);\n",
              "    fill: var(--disabled-fill-color);\n",
              "    box-shadow: none;\n",
              "  }\n",
              "\n",
              "  .colab-df-spinner {\n",
              "    border: 2px solid var(--fill-color);\n",
              "    border-color: transparent;\n",
              "    border-bottom-color: var(--fill-color);\n",
              "    animation:\n",
              "      spin 1s steps(1) infinite;\n",
              "  }\n",
              "\n",
              "  @keyframes spin {\n",
              "    0% {\n",
              "      border-color: transparent;\n",
              "      border-bottom-color: var(--fill-color);\n",
              "      border-left-color: var(--fill-color);\n",
              "    }\n",
              "    20% {\n",
              "      border-color: transparent;\n",
              "      border-left-color: var(--fill-color);\n",
              "      border-top-color: var(--fill-color);\n",
              "    }\n",
              "    30% {\n",
              "      border-color: transparent;\n",
              "      border-left-color: var(--fill-color);\n",
              "      border-top-color: var(--fill-color);\n",
              "      border-right-color: var(--fill-color);\n",
              "    }\n",
              "    40% {\n",
              "      border-color: transparent;\n",
              "      border-right-color: var(--fill-color);\n",
              "      border-top-color: var(--fill-color);\n",
              "    }\n",
              "    60% {\n",
              "      border-color: transparent;\n",
              "      border-right-color: var(--fill-color);\n",
              "    }\n",
              "    80% {\n",
              "      border-color: transparent;\n",
              "      border-right-color: var(--fill-color);\n",
              "      border-bottom-color: var(--fill-color);\n",
              "    }\n",
              "    90% {\n",
              "      border-color: transparent;\n",
              "      border-bottom-color: var(--fill-color);\n",
              "    }\n",
              "  }\n",
              "</style>\n",
              "\n",
              "  <script>\n",
              "    async function quickchart(key) {\n",
              "      const quickchartButtonEl =\n",
              "        document.querySelector('#' + key + ' button');\n",
              "      quickchartButtonEl.disabled = true;  // To prevent multiple clicks.\n",
              "      quickchartButtonEl.classList.add('colab-df-spinner');\n",
              "      try {\n",
              "        const charts = await google.colab.kernel.invokeFunction(\n",
              "            'suggestCharts', [key], {});\n",
              "      } catch (error) {\n",
              "        console.error('Error during call to suggestCharts:', error);\n",
              "      }\n",
              "      quickchartButtonEl.classList.remove('colab-df-spinner');\n",
              "      quickchartButtonEl.classList.add('colab-df-quickchart-complete');\n",
              "    }\n",
              "    (() => {\n",
              "      let quickchartButtonEl =\n",
              "        document.querySelector('#df-8a4e1b7e-6ccf-486f-b693-6026affa6657 button');\n",
              "      quickchartButtonEl.style.display =\n",
              "        google.colab.kernel.accessAllowed ? 'block' : 'none';\n",
              "    })();\n",
              "  </script>\n",
              "</div>\n",
              "\n",
              "    </div>\n",
              "  </div>\n"
            ],
            "application/vnd.google.colaboratory.intrinsic+json": {
              "type": "dataframe",
              "repr_error": "0"
            }
          },
          "metadata": {},
          "execution_count": 16
        }
      ]
    },
    {
      "cell_type": "code",
      "source": [
        "df = df[[\"user\", \"assistant\", \"chat_history\"]]\n",
        "df.head()"
      ],
      "metadata": {
        "colab": {
          "base_uri": "https://localhost:8080/",
          "height": 206
        },
        "id": "f38AfdW28o9I",
        "outputId": "20fb00cf-fb85-48af-c452-f2524108f2d4"
      },
      "execution_count": 17,
      "outputs": [
        {
          "output_type": "execute_result",
          "data": {
            "text/plain": [
              "                                                user  \\\n",
              "0                                               Yes.   \n",
              "1  I was not able to maintain cleanliness my scho...   \n",
              "2  Yeah. There was so much, uh, dirt around that,...   \n",
              "3  Um, I collaborated with my teachers. I asked t...   \n",
              "4                                               Yes.   \n",
              "\n",
              "                                           assistant  \\\n",
              "0  Great! First up, what issues did you face in y...   \n",
              "1  Oh, I see. Could you elaborate on how this cle...   \n",
              "2  Understood, the unclean surroundings were inde...   \n",
              "3  You've taken some proactive steps. Did you fac...   \n",
              "4  What kind of challenges did you face during th...   \n",
              "\n",
              "                                        chat_history  \n",
              "0                                                 []  \n",
              "1  [{\"user\": \"Yes.\"}, {\"assistant\": \"Great! First...  \n",
              "2  [{\"user\": \"Yes.\"}, {\"assistant\": \"Great! First...  \n",
              "3  [{\"user\": \"Yes.\"}, {\"assistant\": \"Great! First...  \n",
              "4  [{\"user\": \"Yes.\"}, {\"assistant\": \"Great! First...  "
            ],
            "text/html": [
              "\n",
              "  <div id=\"df-610d82b0-9b92-4500-9a2f-ef0cf796d41e\" class=\"colab-df-container\">\n",
              "    <div>\n",
              "<style scoped>\n",
              "    .dataframe tbody tr th:only-of-type {\n",
              "        vertical-align: middle;\n",
              "    }\n",
              "\n",
              "    .dataframe tbody tr th {\n",
              "        vertical-align: top;\n",
              "    }\n",
              "\n",
              "    .dataframe thead th {\n",
              "        text-align: right;\n",
              "    }\n",
              "</style>\n",
              "<table border=\"1\" class=\"dataframe\">\n",
              "  <thead>\n",
              "    <tr style=\"text-align: right;\">\n",
              "      <th></th>\n",
              "      <th>user</th>\n",
              "      <th>assistant</th>\n",
              "      <th>chat_history</th>\n",
              "    </tr>\n",
              "  </thead>\n",
              "  <tbody>\n",
              "    <tr>\n",
              "      <th>0</th>\n",
              "      <td>Yes.</td>\n",
              "      <td>Great! First up, what issues did you face in y...</td>\n",
              "      <td>[]</td>\n",
              "    </tr>\n",
              "    <tr>\n",
              "      <th>1</th>\n",
              "      <td>I was not able to maintain cleanliness my scho...</td>\n",
              "      <td>Oh, I see. Could you elaborate on how this cle...</td>\n",
              "      <td>[{\"user\": \"Yes.\"}, {\"assistant\": \"Great! First...</td>\n",
              "    </tr>\n",
              "    <tr>\n",
              "      <th>2</th>\n",
              "      <td>Yeah. There was so much, uh, dirt around that,...</td>\n",
              "      <td>Understood, the unclean surroundings were inde...</td>\n",
              "      <td>[{\"user\": \"Yes.\"}, {\"assistant\": \"Great! First...</td>\n",
              "    </tr>\n",
              "    <tr>\n",
              "      <th>3</th>\n",
              "      <td>Um, I collaborated with my teachers. I asked t...</td>\n",
              "      <td>You've taken some proactive steps. Did you fac...</td>\n",
              "      <td>[{\"user\": \"Yes.\"}, {\"assistant\": \"Great! First...</td>\n",
              "    </tr>\n",
              "    <tr>\n",
              "      <th>4</th>\n",
              "      <td>Yes.</td>\n",
              "      <td>What kind of challenges did you face during th...</td>\n",
              "      <td>[{\"user\": \"Yes.\"}, {\"assistant\": \"Great! First...</td>\n",
              "    </tr>\n",
              "  </tbody>\n",
              "</table>\n",
              "</div>\n",
              "    <div class=\"colab-df-buttons\">\n",
              "\n",
              "  <div class=\"colab-df-container\">\n",
              "    <button class=\"colab-df-convert\" onclick=\"convertToInteractive('df-610d82b0-9b92-4500-9a2f-ef0cf796d41e')\"\n",
              "            title=\"Convert this dataframe to an interactive table.\"\n",
              "            style=\"display:none;\">\n",
              "\n",
              "  <svg xmlns=\"http://www.w3.org/2000/svg\" height=\"24px\" viewBox=\"0 -960 960 960\">\n",
              "    <path d=\"M120-120v-720h720v720H120Zm60-500h600v-160H180v160Zm220 220h160v-160H400v160Zm0 220h160v-160H400v160ZM180-400h160v-160H180v160Zm440 0h160v-160H620v160ZM180-180h160v-160H180v160Zm440 0h160v-160H620v160Z\"/>\n",
              "  </svg>\n",
              "    </button>\n",
              "\n",
              "  <style>\n",
              "    .colab-df-container {\n",
              "      display:flex;\n",
              "      gap: 12px;\n",
              "    }\n",
              "\n",
              "    .colab-df-convert {\n",
              "      background-color: #E8F0FE;\n",
              "      border: none;\n",
              "      border-radius: 50%;\n",
              "      cursor: pointer;\n",
              "      display: none;\n",
              "      fill: #1967D2;\n",
              "      height: 32px;\n",
              "      padding: 0 0 0 0;\n",
              "      width: 32px;\n",
              "    }\n",
              "\n",
              "    .colab-df-convert:hover {\n",
              "      background-color: #E2EBFA;\n",
              "      box-shadow: 0px 1px 2px rgba(60, 64, 67, 0.3), 0px 1px 3px 1px rgba(60, 64, 67, 0.15);\n",
              "      fill: #174EA6;\n",
              "    }\n",
              "\n",
              "    .colab-df-buttons div {\n",
              "      margin-bottom: 4px;\n",
              "    }\n",
              "\n",
              "    [theme=dark] .colab-df-convert {\n",
              "      background-color: #3B4455;\n",
              "      fill: #D2E3FC;\n",
              "    }\n",
              "\n",
              "    [theme=dark] .colab-df-convert:hover {\n",
              "      background-color: #434B5C;\n",
              "      box-shadow: 0px 1px 3px 1px rgba(0, 0, 0, 0.15);\n",
              "      filter: drop-shadow(0px 1px 2px rgba(0, 0, 0, 0.3));\n",
              "      fill: #FFFFFF;\n",
              "    }\n",
              "  </style>\n",
              "\n",
              "    <script>\n",
              "      const buttonEl =\n",
              "        document.querySelector('#df-610d82b0-9b92-4500-9a2f-ef0cf796d41e button.colab-df-convert');\n",
              "      buttonEl.style.display =\n",
              "        google.colab.kernel.accessAllowed ? 'block' : 'none';\n",
              "\n",
              "      async function convertToInteractive(key) {\n",
              "        const element = document.querySelector('#df-610d82b0-9b92-4500-9a2f-ef0cf796d41e');\n",
              "        const dataTable =\n",
              "          await google.colab.kernel.invokeFunction('convertToInteractive',\n",
              "                                                    [key], {});\n",
              "        if (!dataTable) return;\n",
              "\n",
              "        const docLinkHtml = 'Like what you see? Visit the ' +\n",
              "          '<a target=\"_blank\" href=https://colab.research.google.com/notebooks/data_table.ipynb>data table notebook</a>'\n",
              "          + ' to learn more about interactive tables.';\n",
              "        element.innerHTML = '';\n",
              "        dataTable['output_type'] = 'display_data';\n",
              "        await google.colab.output.renderOutput(dataTable, element);\n",
              "        const docLink = document.createElement('div');\n",
              "        docLink.innerHTML = docLinkHtml;\n",
              "        element.appendChild(docLink);\n",
              "      }\n",
              "    </script>\n",
              "  </div>\n",
              "\n",
              "\n",
              "<div id=\"df-23f0b993-aeba-4440-b51b-c54f404f01bf\">\n",
              "  <button class=\"colab-df-quickchart\" onclick=\"quickchart('df-23f0b993-aeba-4440-b51b-c54f404f01bf')\"\n",
              "            title=\"Suggest charts\"\n",
              "            style=\"display:none;\">\n",
              "\n",
              "<svg xmlns=\"http://www.w3.org/2000/svg\" height=\"24px\"viewBox=\"0 0 24 24\"\n",
              "     width=\"24px\">\n",
              "    <g>\n",
              "        <path d=\"M19 3H5c-1.1 0-2 .9-2 2v14c0 1.1.9 2 2 2h14c1.1 0 2-.9 2-2V5c0-1.1-.9-2-2-2zM9 17H7v-7h2v7zm4 0h-2V7h2v10zm4 0h-2v-4h2v4z\"/>\n",
              "    </g>\n",
              "</svg>\n",
              "  </button>\n",
              "\n",
              "<style>\n",
              "  .colab-df-quickchart {\n",
              "      --bg-color: #E8F0FE;\n",
              "      --fill-color: #1967D2;\n",
              "      --hover-bg-color: #E2EBFA;\n",
              "      --hover-fill-color: #174EA6;\n",
              "      --disabled-fill-color: #AAA;\n",
              "      --disabled-bg-color: #DDD;\n",
              "  }\n",
              "\n",
              "  [theme=dark] .colab-df-quickchart {\n",
              "      --bg-color: #3B4455;\n",
              "      --fill-color: #D2E3FC;\n",
              "      --hover-bg-color: #434B5C;\n",
              "      --hover-fill-color: #FFFFFF;\n",
              "      --disabled-bg-color: #3B4455;\n",
              "      --disabled-fill-color: #666;\n",
              "  }\n",
              "\n",
              "  .colab-df-quickchart {\n",
              "    background-color: var(--bg-color);\n",
              "    border: none;\n",
              "    border-radius: 50%;\n",
              "    cursor: pointer;\n",
              "    display: none;\n",
              "    fill: var(--fill-color);\n",
              "    height: 32px;\n",
              "    padding: 0;\n",
              "    width: 32px;\n",
              "  }\n",
              "\n",
              "  .colab-df-quickchart:hover {\n",
              "    background-color: var(--hover-bg-color);\n",
              "    box-shadow: 0 1px 2px rgba(60, 64, 67, 0.3), 0 1px 3px 1px rgba(60, 64, 67, 0.15);\n",
              "    fill: var(--button-hover-fill-color);\n",
              "  }\n",
              "\n",
              "  .colab-df-quickchart-complete:disabled,\n",
              "  .colab-df-quickchart-complete:disabled:hover {\n",
              "    background-color: var(--disabled-bg-color);\n",
              "    fill: var(--disabled-fill-color);\n",
              "    box-shadow: none;\n",
              "  }\n",
              "\n",
              "  .colab-df-spinner {\n",
              "    border: 2px solid var(--fill-color);\n",
              "    border-color: transparent;\n",
              "    border-bottom-color: var(--fill-color);\n",
              "    animation:\n",
              "      spin 1s steps(1) infinite;\n",
              "  }\n",
              "\n",
              "  @keyframes spin {\n",
              "    0% {\n",
              "      border-color: transparent;\n",
              "      border-bottom-color: var(--fill-color);\n",
              "      border-left-color: var(--fill-color);\n",
              "    }\n",
              "    20% {\n",
              "      border-color: transparent;\n",
              "      border-left-color: var(--fill-color);\n",
              "      border-top-color: var(--fill-color);\n",
              "    }\n",
              "    30% {\n",
              "      border-color: transparent;\n",
              "      border-left-color: var(--fill-color);\n",
              "      border-top-color: var(--fill-color);\n",
              "      border-right-color: var(--fill-color);\n",
              "    }\n",
              "    40% {\n",
              "      border-color: transparent;\n",
              "      border-right-color: var(--fill-color);\n",
              "      border-top-color: var(--fill-color);\n",
              "    }\n",
              "    60% {\n",
              "      border-color: transparent;\n",
              "      border-right-color: var(--fill-color);\n",
              "    }\n",
              "    80% {\n",
              "      border-color: transparent;\n",
              "      border-right-color: var(--fill-color);\n",
              "      border-bottom-color: var(--fill-color);\n",
              "    }\n",
              "    90% {\n",
              "      border-color: transparent;\n",
              "      border-bottom-color: var(--fill-color);\n",
              "    }\n",
              "  }\n",
              "</style>\n",
              "\n",
              "  <script>\n",
              "    async function quickchart(key) {\n",
              "      const quickchartButtonEl =\n",
              "        document.querySelector('#' + key + ' button');\n",
              "      quickchartButtonEl.disabled = true;  // To prevent multiple clicks.\n",
              "      quickchartButtonEl.classList.add('colab-df-spinner');\n",
              "      try {\n",
              "        const charts = await google.colab.kernel.invokeFunction(\n",
              "            'suggestCharts', [key], {});\n",
              "      } catch (error) {\n",
              "        console.error('Error during call to suggestCharts:', error);\n",
              "      }\n",
              "      quickchartButtonEl.classList.remove('colab-df-spinner');\n",
              "      quickchartButtonEl.classList.add('colab-df-quickchart-complete');\n",
              "    }\n",
              "    (() => {\n",
              "      let quickchartButtonEl =\n",
              "        document.querySelector('#df-23f0b993-aeba-4440-b51b-c54f404f01bf button');\n",
              "      quickchartButtonEl.style.display =\n",
              "        google.colab.kernel.accessAllowed ? 'block' : 'none';\n",
              "    })();\n",
              "  </script>\n",
              "</div>\n",
              "\n",
              "    </div>\n",
              "  </div>\n"
            ],
            "application/vnd.google.colaboratory.intrinsic+json": {
              "type": "dataframe",
              "variable_name": "df",
              "summary": "{\n  \"name\": \"df\",\n  \"rows\": 3594,\n  \"fields\": [\n    {\n      \"column\": \"user\",\n      \"properties\": {\n        \"dtype\": \"string\",\n        \"num_unique_values\": 2735,\n        \"samples\": [\n          \"Can you email me this conversation?\",\n          \"We first held a meeting with the MC and the parents, with the help of the STMC and the parents, we got a list of all the children who were not going to school in the village, after that we also got a list from the SDMC, with the help of both of them, we visited every house in the village, identified the children who were not coming to school, convinced their parents and called them to the school.\",\n          \"thank you Rohini can you give me a report for my micro improvement project\"\n        ],\n        \"semantic_type\": \"\",\n        \"description\": \"\"\n      }\n    },\n    {\n      \"column\": \"assistant\",\n      \"properties\": {\n        \"dtype\": \"string\",\n        \"num_unique_values\": 3240,\n        \"samples\": [\n          \"to collect your MICRO-IMPROVEMENT REPORT. I understand that you have done some remarkable work\",\n          \"Alright. Thank you for sharing your experiences with this Micro Improvement Journey, [Name] ji. It was very insightful. If you ever want to discuss further or seek assistance in the future, please don't hesitate to reach out. Have a great day!\",\n          \"I apologize, but it seems like there was a technical issue with your response. Could you please provide more details about the standout moments or highlights from your journey in addressing the challenge of irregular student attendance?\"\n        ],\n        \"semantic_type\": \"\",\n        \"description\": \"\"\n      }\n    },\n    {\n      \"column\": \"chat_history\",\n      \"properties\": {\n        \"dtype\": \"string\",\n        \"num_unique_values\": 3066,\n        \"samples\": [\n          \"[{\\\"assistant\\\": \\\"Hi Moainla Murry, My name is Mohini and I am here to collect your MICRO-IMPROVEMENT REPORT. I understand that you have done some remarkable work and you are here to share the details with me. Once you share these details, I will create a report for you.Can we get started?\\\"}, {\\\"user\\\": \\\"Okay.\\\"}, {\\\"assistant\\\": \\\"Great! Let's start with the first question:  1. **[Challenge - What issues did you face in your school or cluster?]** Can you please tell me about the issues you faced in your school or cluster?  Take your time to share the details.\\\"}, {\\\"assistant\\\": \\\"I'm sorry, I didn't catch that. Could you please repeat or provide some more details about the issues you faced in your school or cluster?\\\"}, {\\\"user\\\": \\\" Uh, the project was based, uh, focused on a low budget. Or locally available resources. Numerous challenges were faced by the teachers while carrying adequate materials, books, and tools due to budget constraints. And limited availability of resources. Time constraint was another challenge to organize and execute the fest, uh, while balancing regular teaching responsibilities.\\\"}, {\\\"assistant\\\": \\\"I see, so the main challenges you faced in your school or cluster were the low budget and limited availability of resources. Additionally, the time constraint of organizing and executing the fest while handling regular\\\"}, {\\\"user\\\": \\\"Yes.\\\"}, {\\\"assistant\\\": \\\"teaching responsibilities added to the challenges.Thank you for sharing that. Now, let's move on to the next question:  2. **[Steps - Please tell me in detail what were the steps you took to solve this issue]** I'm curious to know what steps you took to address these challenges. Can you please provide me with some details?  Take your time.\\\"}, {\\\"user\\\": \\\"Thank you\\\"}, {\\\"assistant\\\": \\\"You're welcome! Whenever you're ready, please share the steps you took to address\\\"}, {\\\"user\\\": \\\"We have taken numerous\\\"}, {\\\"assistant\\\": \\\"the challenges you mentioned earlier. I'm eager to learn about your problem-solving approach.\\\"}, {\\\"user\\\": \\\"Uh, we have taken numerous help from the community as well as, uh, from the students. Um, and a collaborative work with the teachers because the materials were not sufficient for us. To make these TLMs And um, Even the parents also, they rented help to us. Regarding this, uh, challenges that we, uh, went through.\\\"}, {\\\"assistant\\\": \\\"That sounds like a great collaborative effort! It's wonderful to hear that you sought help from the community, students, teachers, and even parents to address the challenge of insufficient materials for creating TLMs. It shows great teamwork and resourcefulness. Thank you for sharing that.Now, let's move on to the next question:  3. **[Duration - How much time did you take for this project? Please tell me.]** I'm curious to know how long it took for you to complete this project. Could you please provide me with the duration?  Take your time to answer.\\\"}, {\\\"user\\\": \\\"2 weeks maybe 2 weeks. Approximately 2 weeks.\\\"}, {\\\"assistant\\\": \\\"Got it! So, it took approximately two weeks to complete the project. Thank you for sharing that information.Now, let's move on to the next question:  4. **[Teamwork - Please tell me about the team members who worked on this project?]** I'm interested to know about the team members who collaborated on this project. Could you please provide some details about the individuals involved?  Take your time to share the information.\\\"}, {\\\"user\\\": \\\"Thank you Hello. Uh, all the Uh, all the teaching staff were involved, uh, in this uh, TLM project and as well as the parents also and, um, of course, the community. Were so much helpful to us.\\\"}, {\\\"assistant\\\": \\\"That's wonderful to hear! It's great that the entire teaching staff, parents, and the community were involved in this TLM project. Collaboration with various stakeholders can lead to fruitful outcomes. Thank you for sharing that information. Now, let's move on to the next question:  5. **[Changes - What are the changes that you saw after the project?]** I'm curious to know what changes you observed after completing the project. Could you please share the changes you noticed?  Take your time to answer.\\\"}, {\\\"user\\\": \\\"After this project, we started, uh, using these TLMs in the classrooms. Then uh, not only, uh, it of course, it captures students' attention and interest, uh, which motivates them to learn. Then it encourages students' interaction, collaboration, and active participation in the classroom as well. Then it offers the students with different needs and abilities to, uh, grasp that content that suits them well. And also, it has, uh, lightened Tejas Burton. Trying to, um, you know, like, give out the concept the content. So these are the things that we have learned the benefits that we have received after this project.\\\"}, {\\\"assistant\\\": \\\"That's fantastic! It's great to hear about the positive changes you observed after implementing the TLMs in the classrooms. It seems like the TLMs have successfully captured students' attention and interest, motivating them to learn. Additionally, they have encouraged interaction, collaboration, and active participation among the students. It's also wonderful to hear that the TLMs cater to the different needs and abilities of students, allowing them to grasp the content more effectively. Lastly, it's excellent that the TLMs have lightened the burden of teaching by facilitating the delivery of concepts and content. Thank you for sharing these benefits. Now, let's move on to the next question:  6. **[Highlights - What were the highlights you saw during Micro Improvement?]** I'm curious to know about the specific elements or aspects of the project that stood out as highlights. Could you please share those with me?  Take your time to answer.\\\"}, {\\\"user\\\": \\\"We're gonna\\\"}, {\\\"assistant\\\": \\\"pause here for a moment, as the user transcript seems to be cut off. Could\\\"}, {\\\"user\\\": \\\"Please bear\\\"}, {\\\"assistant\\\": \\\"you please provide more details about the highlights you observed during the Micro Improvement project?\\\"}, {\\\"user\\\": \\\"You get\\\"}, {\\\"assistant\\\": \\\"Thank you for your understanding. Please take your time to continue sharing the highlights you\\\"}, {\\\"user\\\": \\\"Uh, overall, the effective\\\"}, {\\\"assistant\\\": \\\"observed during the Micro Improvement project.\\\"}, {\\\"user\\\": \\\"during the microinbooking for checking account that we observed. What did we observe? Um, the thing that we observed during this project was a significant see, um, enhancing the quality of education by making learning more engaging and inclusive and in effective. And most important thing is the participation from the students. Because, uh, earlier, we never had any such participation from the students. Itself. So this is a positive feedback that we have received so far.\\\"}, {\\\"assistant\\\": \\\"That's fantastic to hear! It seems like the Micro Improvement project had a significant impact on enhancing the quality of education by making learning more engaging, inclusive, and effective. It's especially encouraging to know that there was increased student participation, which was lacking before. This positive feedback is a testament to the success of the project.\\\"}, {\\\"user\\\": \\\"Thank you\\\"}, {\\\"assistant\\\": \\\"Thank you for sharing these highlights. Now, let's move on to the next question:  7. **[Challenges - What were the challenges you faced during Micro Improvement? How did you solve them?]** I'm curious to know about the challenges you encountered during the Micro Improvement project and how you\\\"}, {\\\"user\\\": \\\"You're welcome.\\\"}, {\\\"assistant\\\": \\\"overcame them. Could you please share those with me?  Take your time to answer.\\\"}, {\\\"user\\\": \\\"Uh, like we like I have said, uh, we face a lot of problem because of shortage of materials. Because, um, the project itself talks about locally available resources that we need to, search, and that wasn't so much available for us, uh, like, the rural rural areas, uh, as we are in rural areas. Uh, it's so much difficult. And not only that, but\\\"}, {\\\"assistant\\\": \\\"Thank you for sharing the challenges you faced during the Micro Improvement\\\"}, {\\\"user\\\": \\\"And the food?\\\"}, {\\\"assistant\\\": \\\"project. It can be tough to find locally available resources in rural areas, which can impact the implementation of the project. I can understand how this scarcity of materials presented a challenge for you. Was there anything else you would like to share about the challenges you faced and how you resolved them?\\\"}, {\\\"user\\\": \\\"I'm confused. Yes. Um, one most important thing is the time constraint because we have to balance with the classroom. So if we are focusing more on this project, then we are lacking behind in our class, uh, Usual Class. Classes. So, definitely, this is one, uh, important thing. That we have faced. And, of course, since we have enough, uh, teaching staffs, we have been adjusting among ourselves, to take the, uh, the classes regularly? So Okay.\\\"}, {\\\"assistant\\\": \\\"Thank you for sharing those additional challenges. I can understand how time constraints can pose a challenge, especially when trying to balance the Micro Improvement project with regular classroom activities. It's commendable that you and your teaching staff were able to adjust and take classes regularly despite this challenge. It shows your\\\"}, {\\\"user\\\": \\\"I wanna\\\"}, {\\\"assistant\\\": \\\"dedication and commitment to both the project and the students' education. Well done!\\\"}, {\\\"user\\\": \\\"Can you guys It's not Thank you\\\"}, {\\\"assistant\\\": \\\"I apologize if my previous\\\"}, {\\\"user\\\": \\\"Okay.\\\"}, {\\\"assistant\\\": \\\"response wasn't what you\\\"}]\",\n          \"[{\\\"user\\\": \\\"Srinivas R V\\\"}, {\\\"assistant\\\": \\\"Hello Srinivas ji! Thank you for participating in this interview. Now, let's create the \\\\\\\"MICRO-IMPROVEMENT REPORT\\\\\\\". Could you please tell me about the issues you faced in your school or cluster?\\\"}, {\\\"user\\\": \\\"Absent attendance of some children in school\\\"}, {\\\"assistant\\\": \\\"Thank you for sharing the issue of absent attendance of some children in your school. Now, could you please tell me in detail what steps you took to solve this issue?\\\"}, {\\\"user\\\": \\\"Regular visits to children&#39;s homes\\\"}, {\\\"assistant\\\": \\\"That's a great step, Srinivas ji! Regular visits to children's homes can definitely help address the issue of absent attendance. Could you please provide more details about these visits? How often did you visit the homes and what was the purpose of these visits?\\\"}, {\\\"user\\\": \\\"At least once a week\\\"}, {\\\"assistant\\\": \\\"Thank you for the clarification, Srinivas ji. So, you made regular visits to the children's homes at least once a week. Could you please tell me more about the purpose of these visits? What did you hope to achieve by visiting the homes of the absent children?\\\"}, {\\\"user\\\": \\\"Some children were persuaded and brought to school\\\"}, {\\\"assistant\\\": \\\"That's wonderful, Srinivas ji! By visiting the homes of the absent children and persuading them, you were able to bring some of them back to school. It shows your dedication and commitment to ensuring that every child receives an education. How did you go about persuading the children and their families to come back to school? Did you provide any incentives or support to encourage their return?\\\"}]\",\n          \"[{\\\"assistant\\\": \\\"Hello! My name is Mohini and I am here to collect your MICRO-IMPROVEMENT REPORT. Can we get started?\\\"}, {\\\"user\\\": \\\"Yes.\\\"}, {\\\"assistant\\\": \\\"Great! First, I'd like to understand the challenges you faced in your school or cluster. Could you share some details about these issues, please?\\\"}, {\\\"user\\\": \\\"We were not using a lot of DLMs in our classroom process. Uh, especially for English language classrooms. The challenge was to ensure how to maximize the use of PRM in, uh, English language classroom.\\\"}, {\\\"assistant\\\": \\\"I see. How did this particular challenge impact the students or teachers?\\\"}, {\\\"user\\\": \\\"Because they were think use of PLM is a good way of creating more engaging classrooms. Uh, the interest of students in learning the language. So please CNN PNM. Good. Definitely. It will be the positive impact.\\\"}, {\\\"assistant\\\": \\\"Understood. Could you tell me in detail what steps you took to integrate PRM effectively into English language classrooms?\\\"}, {\\\"user\\\": \\\"Pnn for teaching learning materials. Um, Firstly, I engaged as a school leader with my head teacher. Some primary grade and upper primary grade. Uh, we watch some videos on YouTube, regarding the impact of using teaching learning materials how they are important, Then we with the help of some students, we thought of or creating some teaching learning materials at school level. We created that, and then we started using them in the classes. And then teachers were able to see the response of students.\\\"}, {\\\"assistant\\\": \\\"It sounds like a well-thought-out approach. While implementing this, did you face any challenges, and how did you overcome them?\\\"}, {\\\"user\\\": \\\"Nothing major. Students enjoyed creating TRN. With their teachers is also, you know, developed deeper bond between students and teachers.\\\"}, {\\\"assistant\\\": \\\"That's wonderful to hear. How much time did you take for this project? Please tell me.\\\"}, {\\\"user\\\": \\\"2 weeks.\\\"}, {\\\"assistant\\\": \\\"Just 2 weeks, that's quite efficient! Did this timeframe meet your initial expectations or did it differ?\\\"}, {\\\"user\\\": \\\"I think this was the plan.\\\"}, {\\\"assistant\\\": \\\"Great planning then! Could you tell me about the team members who worked on this project?\\\"}, {\\\"user\\\": \\\"Me and the English speaker.\\\"}, {\\\"assistant\\\": \\\"Got it. What specific roles did you and the English teacher play in this project? And how did you manage the collaboration?\\\"}, {\\\"user\\\": \\\"I was leading the discussions. I was trying to find articles, videos on how to, you know, motivate teachers to use the Internet. And they were implementing it. So this was a very good approach where we were working together I took the responsibility of IDating things, and they took the responsibility implementing. Creating things with students. And then also how to use 1 PNM in multiple ways.\\\"}, {\\\"assistant\\\": \\\"It seems like you had a clear division of responsibilities. Now, what are the changes that you saw after implementing this project?\\\"}, {\\\"user\\\": \\\"I saw better relations with between students and teachers. saw that students were engaging more in the classroom processes. And we're enjoying the process of learning.\\\"}, {\\\"assistant\\\": \\\"That's excellent. Beyond the improved engagement, were there any unexpected outcomes you noticed following the project?\\\"}]\"\n        ],\n        \"semantic_type\": \"\",\n        \"description\": \"\"\n      }\n    }\n  ]\n}"
            }
          },
          "metadata": {},
          "execution_count": 17
        }
      ]
    },
    {
      "cell_type": "code",
      "source": [
        "df.info()"
      ],
      "metadata": {
        "colab": {
          "base_uri": "https://localhost:8080/"
        },
        "id": "PS-vaUWz8sHd",
        "outputId": "6685374f-a42e-4226-8c00-3cc72d846832"
      },
      "execution_count": 18,
      "outputs": [
        {
          "output_type": "stream",
          "name": "stdout",
          "text": [
            "<class 'pandas.core.frame.DataFrame'>\n",
            "RangeIndex: 3594 entries, 0 to 3593\n",
            "Data columns (total 3 columns):\n",
            " #   Column        Non-Null Count  Dtype \n",
            "---  ------        --------------  ----- \n",
            " 0   user          3360 non-null   object\n",
            " 1   assistant     3540 non-null   object\n",
            " 2   chat_history  3592 non-null   object\n",
            "dtypes: object(3)\n",
            "memory usage: 84.4+ KB\n"
          ]
        }
      ]
    },
    {
      "cell_type": "code",
      "source": [
        "df_chat=df['chat_history']"
      ],
      "metadata": {
        "id": "sYPYj77S9cLW"
      },
      "execution_count": 20,
      "outputs": []
    },
    {
      "cell_type": "code",
      "source": [
        "\n",
        "import gensim.corpora as corpora\n",
        "from gensim.models import CoherenceModel\n",
        "import spacy\n",
        "import nltk\n",
        "from nltk.corpus import stopwords\n",
        "import re\n",
        "import matplotlib.pyplot as plt\n",
        "\n",
        "# Download NLTK stopwords\n",
        "nltk.download('stopwords')\n",
        "stop_words = stopwords.words('english')\n",
        "\n",
        "\n",
        "# Preprocess the text data\n",
        "def preprocess_text(text):\n",
        "    # Check if text is None and replace with an empty string if it is\n",
        "    if text is None:\n",
        "        text = ''\n",
        "    text = re.sub('\\s+', ' ', text)  # Remove extra spaces\n",
        "    text = re.sub('\\S*@\\S*\\s?', '', text)  # Remove emails\n",
        "    text = re.sub('\\'', '', text)  # Remove apostrophes\n",
        "    text = re.sub('[^a-zA-Z]', ' ', text)  # Remove non-alphabet characters\n",
        "    text = text.lower()  # Convert to lowercase\n",
        "    return text\n",
        "\n",
        "# Apply preprocess_text directly to the Series\n",
        "df_chat = df_chat.apply(preprocess_text) # df_chat is a Series, not a DataFrame\n",
        "df_chat = df_chat.rename('cleaned_text') # Rename the Series to 'cleaned_text'\n",
        "\n",
        "\n",
        "# Tokenize and remove stopwords\n",
        "def tokenize(text):\n",
        "    tokens = gensim.utils.simple_preprocess(text, deacc=True)\n",
        "    tokens = [token for token in tokens if token not in stop_words]\n",
        "    return tokens\n",
        "\n",
        "# Convert the Series to a DataFrame for further processing\n",
        "df_chat = pd.DataFrame(df_chat)\n",
        "df_chat['tokens'] = df_chat['cleaned_text'].apply(tokenize)\n",
        "\n",
        "# Lemmatization using spaCy\n",
        "nlp = spacy.load('en_core_web_sm', disable=['parser', 'ner'])\n",
        "def lemmatize(tokens):\n",
        "    doc = nlp(\" \".join(tokens))\n",
        "    return [token.lemma_ for token in doc]\n",
        "\n",
        "df_chat['lemmas'] = df_chat['tokens'].apply(lemmatize)\n",
        "\n",
        "# Create dictionary and corpus\n",
        "id2word = corpora.Dictionary(df_chat['lemmas'])\n",
        "texts = df_chat['lemmas']\n",
        "corpus = [id2word.doc2bow(text) for text in texts]\n",
        "\n",
        "# Build LDA model\n",
        "lda_model = gensim.models.ldamodel.LdaModel(corpus=corpus,\n",
        "                                            id2word=id2word,\n",
        "                                            num_topics=3,\n",
        "                                            random_state=100,\n",
        "                                            update_every=1,\n",
        "                                            chunksize=100,\n",
        "                                            passes=10,\n",
        "                                            alpha='auto',\n",
        "                                            per_word_topics=True)\n",
        "\n",
        "# Print the topics\n",
        "topics = lda_model.print_topics(num_words=10)\n",
        "for topic in topics:\n",
        "    print(topic)\n",
        "\n",
        "# Compute coherence score\n",
        "coherence_model_lda = CoherenceModel(model=lda_model, texts=df_chat['lemmas'], dictionary=id2word, coherence='c_v')\n",
        "coherence_lda = coherence_model_lda.get_coherence()\n",
        "print('\\nCoherence Score: ', coherence_lda)"
      ],
      "metadata": {
        "colab": {
          "base_uri": "https://localhost:8080/"
        },
        "id": "7zPHK3UN8ubV",
        "outputId": "e0184e36-e8d3-49f2-961d-bcdfcda69236"
      },
      "execution_count": 21,
      "outputs": [
        {
          "output_type": "stream",
          "name": "stderr",
          "text": [
            "[nltk_data] Downloading package stopwords to /root/nltk_data...\n",
            "[nltk_data]   Package stopwords is already up-to-date!\n"
          ]
        },
        {
          "output_type": "stream",
          "name": "stdout",
          "text": [
            "(0, '0.034*\"uh\" + 0.024*\"assistant\" + 0.023*\"student\" + 0.023*\"user\" + 0.012*\"like\" + 0.011*\"teacher\" + 0.010*\"take\" + 0.010*\"also\" + 0.008*\"parent\" + 0.008*\"time\"')\n",
            "(1, '0.031*\"mein\" + 0.030*\"ke\" + 0.029*\"hai\" + 0.028*\"aur\" + 0.020*\"hain\" + 0.018*\"aapne\" + 0.018*\"aap\" + 0.017*\"assistant\" + 0.017*\"ki\" + 0.017*\"user\"')\n",
            "(2, '0.048*\"assistant\" + 0.042*\"user\" + 0.033*\"school\" + 0.026*\"could\" + 0.023*\"please\" + 0.020*\"share\" + 0.019*\"hello\" + 0.019*\"name\" + 0.016*\"challenge\" + 0.015*\"ji\"')\n",
            "\n",
            "Coherence Score:  0.6220421890024898\n"
          ]
        }
      ]
    },
    {
      "cell_type": "code",
      "source": [
        "# prompt: bu sonucu görselleştirir misin\n",
        "\n",
        "import matplotlib.pyplot as plt\n",
        "import pyLDAvis\n",
        "import pyLDAvis.gensim_models\n",
        "\n",
        "# Assuming 'lda_model' and 'coherence_lda' are defined from the previous code\n",
        "\n",
        "# Visualize the topics\n",
        "# (The previous code already prints the topics, so this is for a different visualization)\n",
        "pyLDAvis.enable_notebook()\n",
        "vis = pyLDAvis.gensim_models.prepare(lda_model, corpus, id2word)\n",
        "vis\n",
        "\n",
        "# Visualize coherence score\n",
        "plt.figure(figsize=(8, 6))\n",
        "plt.bar(['LDA'], [coherence_lda])\n",
        "plt.ylabel('Coherence Score')\n",
        "plt.title('Coherence Score for LDA Model')\n",
        "plt.show()"
      ],
      "metadata": {
        "colab": {
          "base_uri": "https://localhost:8080/",
          "height": 545
        },
        "id": "vrMIIp0n9EDV",
        "outputId": "a8e6a777-cd58-4d7a-b0bc-9b89a2a66736"
      },
      "execution_count": 22,
      "outputs": [
        {
          "output_type": "display_data",
          "data": {
            "text/plain": [
              "<Figure size 800x600 with 1 Axes>"
            ],
            "image/png": "[encoded data removed]"
          },
          "metadata": {}
        }
      ]
    },
    {
      "cell_type": "code",
      "source": [
        "# prompt: bu sonucu görselleştirir misin\n",
        "\n",
        "import matplotlib.pyplot as plt\n",
        "\n",
        "# ... (your existing code) ...\n",
        "\n",
        "# Visualize coherence score\n",
        "plt.figure(figsize=(8, 6))\n",
        "plt.bar(['LDA'], [coherence_lda])\n",
        "plt.ylabel('Coherence Score')\n",
        "plt.title('Coherence Score for LDA Model')\n",
        "plt.show()\n",
        "\n",
        "# Assuming 'vis' is defined from pyLDAvis.gensim_models.prepare as in your code\n",
        "# Display the pyLDAvis visualization\n",
        "vis\n"
      ],
      "metadata": {
        "colab": {
          "base_uri": "https://localhost:8080/",
          "height": 1000
        },
        "id": "poz6DHIe-MN_",
        "outputId": "05082a42-4567-4607-9b51-2d44ebbe6bad"
      },
      "execution_count": 23,
      "outputs": [
        {
          "output_type": "display_data",
          "data": {
            "text/plain": [
              "<Figure size 800x600 with 1 Axes>"
            ],
            "image/png": "[encoded data removed]"
          },
          "metadata": {}
        },
        {
          "output_type": "execute_result",
          "data": {
            "text/plain": [
              "PreparedData(topic_coordinates=              x         y  topics  cluster       Freq\n",
              "topic                                                \n",
              "0     -0.215592 -0.133648       1        1  44.830356\n",
              "2     -0.140860  0.153732       2        1  31.227303\n",
              "1      0.356452 -0.020084       3        1  23.942342, topic_info=           Term          Freq         Total Category  logprob  loglift\n",
              "50           uh  15795.000000  15795.000000  Default  30.0000  30.0000\n",
              "1310       mein   7839.000000   7839.000000  Default  29.0000  29.0000\n",
              "1325         ke   7394.000000   7394.000000  Default  28.0000  28.0000\n",
              "1306        hai   7161.000000   7161.000000  Default  27.0000  27.0000\n",
              "1318        aur   6884.000000   6884.000000  Default  26.0000  26.0000\n",
              "...         ...           ...           ...      ...      ...      ...\n",
              "226          ji   3259.455671   8689.437367   Topic3  -4.3385   0.4490\n",
              "0     assistant   4269.315588  30900.104270   Topic3  -4.0686  -0.5498\n",
              "7          user   4142.159534  28417.964134   Topic3  -4.0988  -0.4963\n",
              "6        school   3023.921063  15924.455974   Topic3  -4.4135  -0.2318\n",
              "128     project   2287.035433   9098.865210   Topic3  -4.6928   0.0486\n",
              "\n",
              "[202 rows x 6 columns], token_table=      Topic      Freq   Term\n",
              "term                        \n",
              "93        1  0.121995      I\n",
              "93        2  0.811774      I\n",
              "93        3  0.066271      I\n",
              "1302      3  0.999948    aap\n",
              "1433      3  0.999314  aapke\n",
              "...     ...       ...    ...\n",
              "57        1  0.991901   yeah\n",
              "57        2  0.006740   yeah\n",
              "57        3  0.001123   yeah\n",
              "487       2  0.998618   year\n",
              "487       3  0.001000   year\n",
              "\n",
              "[364 rows x 3 columns], R=30, lambda_step=0.01, plot_opts={'xlab': 'PC1', 'ylab': 'PC2'}, topic_order=[1, 3, 2])"
            ],
            "text/html": [
              "\n",
              "<link rel=\"stylesheet\" type=\"text/css\" href=\"https://cdn.jsdelivr.net/gh/bmabey/pyLDAvis@3.4.0/pyLDAvis/js/ldavis.v1.0.0.css\">\n",
              "\n",
              "\n",
              "<div id=\"ldavis_el46351365379710465766539275286\" style=\"background-color:white;\"></div>\n",
              "<script type=\"text/javascript\">\n",
              "\n",
              "var ldavis_el46351365379710465766539275286_data = {\"mdsDat\": {\"x\": [-0.21559234507869324, -0.14085994790066858, 0.35645229297936215], \"y\": [-0.13364828045658744, 0.15373195336109405, -0.020083672904506678], \"topics\": [1, 2, 3], \"cluster\": [1, 1, 1], \"Freq\": [44.83035552137737, 31.227302870923562, 23.942341607699056]}, \"tinfo\": {\"Term\": [\"uh\", \"mein\", \"ke\", \"hai\", \"aur\", \"hain\", \"aapne\", \"aap\", \"could\", \"ki\", \"school\", \"ka\", \"hello\", \"name\", \"please\", \"student\", \"naam\", \"kya\", \"se\", \"sakte\", \"ji\", \"apne\", \"ko\", \"liye\", \"assistant\", \"thank\", \"bahut\", \"m\", \"karne\", \"bata\", \"uh\", \"um\", \"learn\", \"activity\", \"sale\", \"engage\", \"strategy\", \"quite\", \"outcome\", \"able\", \"read\", \"give\", \"long\", \"within\", \"situation\", \"teaching\", \"concept\", \"even\", \"thing\", \"book\", \"particular\", \"collaboration\", \"learning\", \"manage\", \"something\", \"actually\", \"skill\", \"engagement\", \"week\", \"explain\", \"yeah\", \"classroom\", \"deal\", \"think\", \"team\", \"increase\", \"use\", \"well\", \"impact\", \"student\", \"parent\", \"one\", \"also\", \"approach\", \"would\", \"time\", \"library\", \"like\", \"work\", \"take\", \"do\", \"teacher\", \"question\", \"understand\", \"user\", \"assistant\", \"get\", \"detail\", \"let\", \"great\", \"project\", \"s\", \"challenge\", \"share\", \"improvement\", \"issue\", \"please\", \"travel\", \"year\", \"diary\", \"allam\", \"prabhu\", \"enrollment\", \"vijay\", \"government\", \"irregular\", \"archana\", \"walk\", \"file\", \"card\", \"spend\", \"separate\", \"high\", \"kunal\", \"srinivas\", \"standout\", \"nnow\", \"deepa\", \"anekal\", \"visit\", \"girl\", \"today\", \"bangalore\", \"principal\", \"technical\", \"nice\", \"dive\", \"maam\", \"awareness\", \"professor\", \"elaborate\", \"name\", \"hello\", \"m\", \"could\", \"I\", \"primary\", \"assist\", \"school\", \"please\", \"address\", \"attendance\", \"step\", \"assistant\", \"share\", \"user\", \"thank\", \"mohini\", \"apologize\", \"ji\", \"challenge\", \"role\", \"cluster\", \"improvement\", \"micro\", \"issue\", \"tell\", \"collect\", \"experience\", \"project\", \"teacher\", \"report\", \"detail\", \"take\", \"like\", \"mein\", \"ke\", \"hai\", \"aur\", \"hain\", \"aapne\", \"aap\", \"ki\", \"ka\", \"naam\", \"kya\", \"se\", \"sakte\", \"apne\", \"ko\", \"liye\", \"bahut\", \"karne\", \"bata\", \"kiya\", \"mujhe\", \"kar\", \"bacchon\", \"baare\", \"aapke\", \"ya\", \"bataya\", \"vidyalay\", \"ek\", \"dhanyavaad\", \"baat\", \"main\", \"ji\", \"assistant\", \"user\", \"school\", \"project\"], \"Freq\": [15795.0, 7839.0, 7394.0, 7161.0, 6884.0, 4992.0, 4520.0, 4494.0, 10950.0, 4214.0, 15924.0, 4005.0, 6815.0, 6680.0, 10419.0, 12304.0, 3366.0, 3339.0, 3076.0, 2849.0, 8689.0, 2782.0, 2757.0, 2477.0, 30900.0, 6732.0, 2125.0, 4795.0, 2100.0, 2048.0, 15793.053265204024, 2920.6222096653423, 2965.7544894130856, 2402.432833209186, 1403.4635092873048, 1467.3208560358532, 1327.623978592976, 1375.5048261276515, 1233.1304514120127, 2728.441009132081, 1114.9892718008007, 1052.1315922385584, 974.940415731847, 952.2587998770641, 934.3505540230445, 948.0539939896664, 948.0107857291368, 873.1610180606402, 835.619297783877, 850.4872384646939, 804.3918607385488, 772.1408123826917, 915.8511059745758, 897.7119625771977, 793.8936683099469, 760.2587584109344, 712.1267696642393, 724.2319393389827, 685.685436540284, 759.818132106769, 1766.3896066324924, 1288.597668195929, 1159.2257147918226, 2808.424397033967, 1965.2814744900063, 854.1561857356759, 2395.7091054535395, 3048.7953243043794, 2121.90325613984, 10675.237024496932, 3944.7935950272513, 2381.9601716508937, 4585.642842683194, 1970.257934198951, 2558.2864438191777, 3926.669634381369, 1286.7343799836742, 5421.6454097100295, 3341.6498128066783, 4634.799694365093, 2754.7296984641152, 5015.2531083153, 2537.3257574744516, 2909.420059984587, 10627.185956006417, 11109.936069547974, 2588.342196913044, 3259.142278863985, 2830.9127185041143, 2801.686520477643, 3777.1551218224618, 2665.5395771246676, 3289.133600496306, 3285.6932651931884, 2962.940619469182, 2664.204583362313, 2764.1088295960817, 2479.6592214899365, 1998.4691627559846, 1256.8485190887368, 991.7767927585863, 991.7767927585863, 1004.7217100802181, 832.3709960270611, 870.6975794367186, 850.5988042338502, 806.56394820497, 1081.9853917996275, 784.6730505976152, 871.5894330670066, 757.0230862591461, 708.5413952644233, 1220.4759169326533, 646.2625072377917, 605.380979999986, 571.2866074804024, 536.8463801273118, 685.8940444504199, 511.91412821136606, 444.77720034889165, 481.7487181526525, 529.7300871452429, 381.0577685653817, 439.41785295352145, 388.83211063882266, 318.65947646975116, 283.7503701860314, 1346.606187715552, 1178.7207309703117, 522.907679797126, 972.2719296043133, 6028.684909519263, 6117.078794147842, 4022.354789357246, 8379.961634142604, 4078.8439067493064, 766.994425296114, 1041.3168965833372, 10864.346830777466, 7479.538809742162, 3752.890964402724, 1690.3375240968437, 3561.896309485803, 15520.85261254643, 6375.625372402602, 13648.61864452985, 4304.273937044451, 2584.6206291754147, 1478.98777324227, 5003.050505452194, 5164.345009212907, 2143.7680699972766, 2288.762667439863, 3801.17145006467, 3190.229576182054, 3063.138462751224, 2624.9187064354323, 1840.4874964601072, 2014.6688454682594, 3034.674655440879, 2744.6411862850427, 2132.7437766020066, 2045.5248280123772, 2120.8576511709393, 2008.3226139660997, 7838.61140356392, 7394.167632263911, 7161.070132533658, 6884.2451124660365, 4992.2063281786395, 4519.49749247578, 4493.533289132834, 4213.986110487062, 4004.4547663055077, 3365.9562895115578, 3339.205757136215, 3075.317267926835, 2849.2902193719788, 2781.8261179445917, 2756.967704334964, 2476.5593303207716, 2125.2357957934832, 2099.5850080435803, 2047.563367193883, 1998.6533293721486, 1845.9651808331157, 1792.9507472665837, 1759.9993292336333, 1711.9666458186846, 1589.3898771308368, 1517.3121958720324, 1435.497705855474, 1381.0887124023902, 1302.1599476329034, 1253.360930542384, 1530.1206169440964, 1900.7338582049213, 3259.4556714598853, 4269.315587866598, 4142.159533709331, 3023.9210632383288, 2287.0354331811536], \"Total\": [15795.0, 7839.0, 7394.0, 7161.0, 6884.0, 4992.0, 4520.0, 4494.0, 10950.0, 4214.0, 15924.0, 4005.0, 6815.0, 6680.0, 10419.0, 12304.0, 3366.0, 3339.0, 3076.0, 2849.0, 8689.0, 2782.0, 2757.0, 2477.0, 30900.0, 6732.0, 2125.0, 4795.0, 2100.0, 2048.0, 15795.358278453683, 2922.845778464133, 2968.2048690032593, 2404.7108967711856, 1405.8249229926491, 1469.7957095921913, 1329.902194537117, 1377.8800115924423, 1235.3778340669448, 2733.6796181517843, 1117.229133733688, 1054.408177269459, 977.1849951882689, 954.5161930681278, 936.5953866527543, 950.3826838264907, 950.3550323244935, 875.4637474637717, 837.8754133884573, 852.8174349445495, 806.6275047061256, 774.4008874371375, 918.547461751119, 900.3607847961014, 796.3311468528188, 762.6534923374919, 714.371520157653, 726.6045395737605, 687.9374871488446, 762.3183825971089, 1780.4201735447523, 1294.9836266780253, 1164.6639472761833, 2852.86437683229, 2000.599564319962, 859.1289543969552, 2502.7275348971566, 3231.671520145534, 2217.258742621584, 12304.482361461894, 4466.79340133573, 2593.704217697869, 5366.726226692126, 2124.2796188759553, 2923.8215373119333, 4885.528083775943, 1351.2772451101198, 7431.752797274267, 4290.598287166102, 6757.4420365997385, 3580.78330700909, 7761.757042006951, 3252.36792253357, 4160.2764350887, 28417.964134245598, 30900.104269961004, 3609.79642886272, 5306.65249113945, 4388.370494366913, 4319.732102071765, 9098.865210444495, 4353.929423051442, 9235.336006057887, 10700.213555895238, 7443.431357918638, 5729.125278854565, 10419.065320839818, 2481.7607551756164, 2000.7652136886986, 1259.087788632405, 993.8648992288186, 993.8648992288186, 1006.8475587984186, 834.4355872199144, 872.9010690865578, 852.8355368425074, 808.80033677117, 1085.0079228234367, 786.8937095331408, 874.1078164215645, 759.2412003919935, 710.7825021341204, 1224.4180612907664, 648.3996600358083, 607.4599638045923, 573.3784714415908, 538.943792368057, 688.6768199666367, 514.1228085160354, 446.8702666397891, 484.0305239472531, 532.2479617236007, 383.13072439514576, 442.0559093170914, 391.1787245032271, 320.87425044761443, 285.927257306328, 1361.3251204594137, 1197.6053188975134, 527.9444127697938, 997.1085750019652, 6680.420358657144, 6815.833878615894, 4795.640210728923, 10950.92369984981, 5024.796460311518, 801.8221611187388, 1133.6967615402677, 15924.455974262499, 10419.065320839818, 4833.072925162061, 2054.1414046788036, 5093.274478159905, 30900.104269961004, 10700.213555895238, 28417.964134245598, 6732.843276711875, 3547.050542330576, 1757.9180634198838, 8689.437367135963, 9235.336006057887, 2963.1694139203455, 3386.0784486547336, 7443.431357918638, 5812.74472533727, 5729.125278854565, 4658.46288993977, 2696.7223621746907, 3466.769858263022, 9098.865210444495, 7761.757042006951, 4668.112412960145, 5306.65249113945, 6757.4420365997385, 7431.752797274267, 7839.3129626902755, 7394.873412918493, 7161.77166417723, 6884.96501030275, 4992.907243058972, 4520.1979628832705, 4494.234086645427, 4214.690443253128, 4005.155344119299, 3366.6570347218594, 3339.9112984021654, 3076.019310974079, 2849.9918636302355, 2782.5271873158135, 2757.66923583809, 2477.2609782265217, 2125.9369766437317, 2100.2854485008497, 2048.2640458219735, 1999.3545056459454, 1846.665934189559, 1793.6522472366926, 1760.7024000501544, 1712.670669906855, 1590.090665470451, 1518.0452733396098, 1436.1987360295636, 1381.789072399317, 1302.8604268221613, 1254.0615769614558, 1533.3563256940752, 1940.4244303852506, 8689.437367135963, 30900.104269961004, 28417.964134245598, 15924.455974262499, 9098.865210444495], \"Category\": [\"Default\", \"Default\", \"Default\", \"Default\", \"Default\", \"Default\", \"Default\", \"Default\", \"Default\", \"Default\", \"Default\", \"Default\", \"Default\", \"Default\", \"Default\", \"Default\", \"Default\", \"Default\", \"Default\", \"Default\", \"Default\", \"Default\", \"Default\", \"Default\", \"Default\", \"Default\", \"Default\", \"Default\", \"Default\", \"Default\", \"Topic1\", \"Topic1\", \"Topic1\", \"Topic1\", \"Topic1\", \"Topic1\", \"Topic1\", \"Topic1\", \"Topic1\", \"Topic1\", \"Topic1\", \"Topic1\", \"Topic1\", \"Topic1\", \"Topic1\", \"Topic1\", \"Topic1\", \"Topic1\", \"Topic1\", \"Topic1\", \"Topic1\", \"Topic1\", \"Topic1\", \"Topic1\", \"Topic1\", \"Topic1\", \"Topic1\", \"Topic1\", \"Topic1\", \"Topic1\", \"Topic1\", \"Topic1\", \"Topic1\", \"Topic1\", \"Topic1\", \"Topic1\", \"Topic1\", \"Topic1\", \"Topic1\", \"Topic1\", \"Topic1\", \"Topic1\", \"Topic1\", \"Topic1\", \"Topic1\", \"Topic1\", \"Topic1\", \"Topic1\", \"Topic1\", \"Topic1\", \"Topic1\", \"Topic1\", \"Topic1\", \"Topic1\", \"Topic1\", \"Topic1\", \"Topic1\", \"Topic1\", \"Topic1\", \"Topic1\", \"Topic1\", \"Topic1\", \"Topic1\", \"Topic1\", \"Topic1\", \"Topic1\", \"Topic1\", \"Topic2\", \"Topic2\", \"Topic2\", \"Topic2\", \"Topic2\", \"Topic2\", \"Topic2\", \"Topic2\", \"Topic2\", \"Topic2\", \"Topic2\", \"Topic2\", \"Topic2\", \"Topic2\", \"Topic2\", \"Topic2\", \"Topic2\", \"Topic2\", \"Topic2\", \"Topic2\", \"Topic2\", \"Topic2\", \"Topic2\", \"Topic2\", \"Topic2\", \"Topic2\", \"Topic2\", \"Topic2\", \"Topic2\", \"Topic2\", \"Topic2\", \"Topic2\", \"Topic2\", \"Topic2\", \"Topic2\", \"Topic2\", \"Topic2\", \"Topic2\", \"Topic2\", \"Topic2\", \"Topic2\", \"Topic2\", \"Topic2\", \"Topic2\", \"Topic2\", \"Topic2\", \"Topic2\", \"Topic2\", \"Topic2\", \"Topic2\", \"Topic2\", \"Topic2\", \"Topic2\", \"Topic2\", \"Topic2\", \"Topic2\", \"Topic2\", \"Topic2\", \"Topic2\", \"Topic2\", \"Topic2\", \"Topic2\", \"Topic2\", \"Topic2\", \"Topic2\", \"Topic2\", \"Topic2\", \"Topic2\", \"Topic3\", \"Topic3\", \"Topic3\", \"Topic3\", \"Topic3\", \"Topic3\", \"Topic3\", \"Topic3\", \"Topic3\", \"Topic3\", \"Topic3\", \"Topic3\", \"Topic3\", \"Topic3\", \"Topic3\", \"Topic3\", \"Topic3\", \"Topic3\", \"Topic3\", \"Topic3\", \"Topic3\", \"Topic3\", \"Topic3\", \"Topic3\", \"Topic3\", \"Topic3\", \"Topic3\", \"Topic3\", \"Topic3\", \"Topic3\", \"Topic3\", \"Topic3\", \"Topic3\", \"Topic3\", \"Topic3\", \"Topic3\", \"Topic3\"], \"logprob\": [30.0, 29.0, 28.0, 27.0, 26.0, 25.0, 24.0, 23.0, 22.0, 21.0, 20.0, 19.0, 18.0, 17.0, 16.0, 15.0, 14.0, 13.0, 12.0, 11.0, 10.0, 9.0, 8.0, 7.0, 6.0, 5.0, 4.0, 3.0, 2.0, 1.0, -3.3877, -5.0755, -5.0602, -5.2708, -5.8084, -5.7639, -5.8639, -5.8285, -5.9377, -5.1436, -6.0384, -6.0965, -6.1727, -6.1962, -6.2152, -6.2006, -6.2007, -6.2829, -6.3269, -6.3092, -6.365, -6.4059, -6.2352, -6.2552, -6.3781, -6.4214, -6.4868, -6.4699, -6.5246, -6.422, -5.5784, -5.8937, -5.9995, -5.1147, -5.4717, -6.3049, -5.2736, -5.0325, -5.395, -3.7794, -4.7749, -5.2794, -4.6244, -5.4691, -5.208, -4.7795, -5.8952, -4.4569, -4.9408, -4.6137, -5.134, -4.5348, -5.2162, -5.0793, -3.7839, -3.7395, -5.1963, -4.9658, -5.1067, -5.1171, -4.8183, -5.1669, -4.9567, -4.9577, -5.0611, -5.1674, -5.1306, -4.8776, -5.0933, -5.5571, -5.794, -5.794, -5.781, -5.9692, -5.9242, -5.9475, -6.0007, -5.7069, -6.0282, -5.9231, -6.0641, -6.1302, -5.5865, -6.2223, -6.2876, -6.3456, -6.4077, -6.1627, -6.4553, -6.5959, -6.516, -6.4211, -6.7505, -6.608, -6.7303, -6.9293, -7.0454, -5.4881, -5.6213, -6.4341, -5.8138, -3.9892, -3.9746, -4.3938, -3.6599, -4.3799, -6.051, -5.7452, -3.4002, -3.7735, -4.4632, -5.2608, -4.5154, -3.0435, -3.9332, -3.1721, -4.3261, -4.8361, -5.3943, -4.1757, -4.1439, -5.0231, -4.9577, -4.4504, -4.6256, -4.6663, -4.8207, -5.1757, -5.0852, -4.6756, -4.7761, -5.0283, -5.07, -5.0339, -5.0884, -3.461, -3.5194, -3.5514, -3.5908, -3.9122, -4.0117, -4.0174, -4.0816, -4.1327, -4.3063, -4.3143, -4.3966, -4.473, -4.497, -4.5059, -4.6132, -4.7662, -4.7783, -4.8034, -4.8276, -4.9071, -4.9362, -4.9547, -4.9824, -5.0567, -5.1031, -5.1585, -5.1972, -5.256, -5.2942, -5.0947, -4.8778, -4.3385, -4.0686, -4.0988, -4.4135, -4.6928], \"loglift\": [30.0, 29.0, 28.0, 27.0, 26.0, 25.0, 24.0, 23.0, 22.0, 21.0, 20.0, 19.0, 18.0, 17.0, 16.0, 15.0, 14.0, 13.0, 12.0, 11.0, 10.0, 9.0, 8.0, 7.0, 6.0, 5.0, 4.0, 3.0, 2.0, 1.0, 0.8021, 0.8015, 0.8015, 0.8013, 0.8006, 0.8006, 0.8006, 0.8006, 0.8005, 0.8004, 0.8003, 0.8001, 0.8, 0.7999, 0.7999, 0.7998, 0.7998, 0.7997, 0.7996, 0.7995, 0.7995, 0.7994, 0.7993, 0.7993, 0.7992, 0.7991, 0.7991, 0.799, 0.799, 0.799, 0.7944, 0.7973, 0.7976, 0.7866, 0.7845, 0.7965, 0.7586, 0.744, 0.7583, 0.6602, 0.678, 0.7171, 0.645, 0.727, 0.6687, 0.5838, 0.7533, 0.4869, 0.5523, 0.4252, 0.54, 0.3656, 0.554, 0.4447, -0.1813, -0.2206, 0.4697, 0.3148, 0.3639, 0.3693, -0.0769, 0.3116, -0.2301, -0.3784, -0.1189, 0.0366, -0.5246, 1.163, 1.1627, 1.1621, 1.1618, 1.1618, 1.1618, 1.1614, 1.1613, 1.1613, 1.1611, 1.1611, 1.1611, 1.161, 1.161, 1.1607, 1.1607, 1.1606, 1.1604, 1.1602, 1.16, 1.1598, 1.1596, 1.1592, 1.1592, 1.1591, 1.1585, 1.1579, 1.1579, 1.157, 1.1562, 1.153, 1.148, 1.1543, 1.1387, 1.0612, 1.0557, 0.988, 0.8963, 0.9553, 1.1195, 1.0789, 0.7815, 0.8324, 0.9109, 0.9689, 0.8062, 0.4753, 0.6461, 0.4305, 0.7165, 0.8473, 0.9911, 0.6118, 0.5826, 0.8402, 0.7722, 0.4919, 0.5639, 0.5378, 0.5902, 0.7819, 0.6211, 0.0658, 0.1243, 0.3805, 0.2106, 0.0051, -0.1446, 1.4294, 1.4294, 1.4294, 1.4294, 1.4294, 1.4294, 1.4294, 1.4294, 1.4293, 1.4293, 1.4293, 1.4293, 1.4293, 1.4293, 1.4293, 1.4292, 1.4292, 1.4292, 1.4292, 1.4292, 1.4291, 1.4291, 1.4291, 1.4291, 1.4291, 1.429, 1.429, 1.429, 1.429, 1.429, 1.4274, 1.4089, 0.449, -0.5498, -0.4963, -0.2318, 0.0486]}, \"token.table\": {\"Topic\": [1, 2, 3, 3, 3, 3, 1, 2, 3, 1, 3, 1, 2, 3, 1, 2, 3, 2, 3, 1, 2, 3, 2, 3, 3, 1, 2, 3, 1, 2, 3, 2, 3, 1, 2, 3, 1, 2, 3, 1, 2, 3, 3, 1, 2, 3, 3, 2, 3, 3, 3, 2, 3, 3, 3, 1, 2, 3, 1, 2, 3, 1, 2, 3, 1, 2, 3, 1, 2, 3, 1, 3, 1, 2, 3, 1, 2, 3, 1, 2, 3, 1, 2, 3, 1, 2, 3, 1, 2, 3, 3, 2, 3, 2, 3, 1, 2, 3, 3, 1, 2, 3, 1, 2, 3, 1, 2, 3, 2, 3, 1, 2, 3, 1, 2, 3, 1, 2, 3, 2, 3, 1, 2, 3, 2, 3, 1, 3, 2, 3, 1, 2, 3, 3, 3, 1, 2, 3, 1, 2, 3, 1, 2, 3, 1, 2, 3, 1, 2, 3, 2, 3, 1, 2, 3, 1, 2, 3, 3, 3, 3, 3, 3, 3, 3, 2, 3, 3, 1, 2, 3, 1, 3, 1, 2, 3, 1, 3, 1, 2, 3, 3, 1, 3, 1, 2, 3, 1, 2, 3, 1, 2, 3, 1, 2, 3, 3, 1, 2, 3, 1, 2, 3, 3, 3, 1, 2, 3, 2, 3, 2, 3, 1, 2, 3, 1, 3, 1, 2, 3, 1, 3, 1, 2, 3, 2, 3, 1, 2, 3, 1, 2, 3, 1, 2, 3, 1, 2, 3, 1, 2, 3, 1, 2, 3, 1, 3, 1, 2, 3, 1, 2, 3, 1, 2, 3, 3, 1, 2, 3, 1, 2, 3, 3, 2, 3, 1, 2, 3, 1, 3, 1, 3, 1, 2, 3, 2, 3, 2, 3, 2, 3, 1, 2, 3, 1, 3, 1, 2, 3, 1, 2, 3, 1, 2, 3, 1, 2, 3, 1, 3, 1, 2, 3, 1, 2, 3, 1, 2, 3, 1, 3, 1, 2, 3, 1, 2, 3, 1, 2, 3, 2, 3, 1, 2, 3, 1, 3, 1, 2, 3, 1, 2, 3, 1, 2, 3, 3, 2, 3, 2, 3, 1, 2, 3, 1, 3, 1, 2, 3, 1, 3, 1, 2, 3, 1, 2, 3, 3, 1, 2, 3, 2, 3], \"Freq\": [0.1219949912084591, 0.8117741747786372, 0.06627134106430159, 0.9999479140069445, 0.9993140859863306, 0.9997349755711791, 0.9979223541361353, 0.001097421943698096, 0.0007316146291320639, 0.9988726724801615, 0.0008317008097253635, 0.9965207104351426, 0.0013112114610988718, 0.0026224229221977436, 0.1781475291873708, 0.7765245958655084, 0.04531278616961, 0.9981235887993775, 0.0020123459451600353, 0.8545246778549872, 0.14515366856716855, 0.000372666671546004, 0.9958710088701127, 0.0038901211283988778, 0.9998105365086039, 0.15757275937031984, 0.8413361411866536, 0.0011377094539373274, 0.9273732057187504, 0.0630802079016815, 0.009414956403236046, 0.9977740652552679, 0.002472798179071296, 0.08026837783003385, 0.9182349595721455, 0.001764140172088656, 0.35954571230364396, 0.5022960396638037, 0.13815487361154422, 0.1762293477827074, 0.8227281705877777, 0.0009736428054293227, 0.9998598380236783, 0.014194993736041345, 0.9844645655760439, 0.0016699992630636877, 0.9996084069642581, 0.001956492401491902, 0.99781112476087, 0.9996010682724494, 0.9995592641484552, 0.9944386491098839, 0.005220150389028262, 0.9998710879964368, 0.9991653411192398, 0.9966963211244236, 0.0011725839072052042, 0.0023451678144104085, 0.0011440236332559235, 0.9975886081991653, 0.002288047266511847, 0.35613214265757, 0.5591566995085714, 0.08467477517732433, 0.9953793804379019, 0.0038610526781920167, 0.0015444210712768065, 0.1993456472540301, 0.6760032393547776, 0.12462794539437141, 0.996899684031764, 0.0025826416684760723, 0.23176282763346373, 0.6823097645529173, 0.08603036161754174, 0.9975219447002523, 0.0010522383382914053, 0.0021044766765828107, 0.2217164566705272, 0.7652322516058558, 0.013058259186114246, 0.9951368398674745, 0.0034344670918635876, 0.0017172335459317938, 0.0014520599082287183, 0.9961130970449007, 0.0029041198164574365, 0.6141348063476122, 0.38555379373648807, 0.00037688542887242237, 0.999153488966604, 0.9983418244134727, 0.001588451590156679, 0.9932596237081964, 0.006994786082452088, 0.7693847305999537, 0.23011724791809868, 0.0005585370095099482, 0.9993395863406028, 0.02306669562033871, 0.9748186149117054, 0.002005799619159888, 0.9980978923982796, 0.0006803666614848532, 0.0013607333229697064, 0.9964154647653477, 0.001376264454095784, 0.002752528908191568, 0.9981650064279607, 0.0019863980227422104, 0.9971857801412003, 0.0011422517527390611, 0.0022845035054781223, 0.41825678060051635, 0.5812326985586486, 0.0005769059042765744, 0.996958773853504, 0.0013117878603335579, 0.0026235757206671158, 0.9975934366863037, 0.0025416393291370796, 0.7169379356983183, 0.2825644105147932, 0.0005540478637544964, 0.9958049671522898, 0.004131970818059294, 0.9977160863113796, 0.0018967986431775278, 0.9978221253772239, 0.0022912103912220987, 0.6486513361919242, 0.35094768938863563, 0.0004629916746551921, 0.9998922523345599, 0.9998182936283798, 0.026262377162917287, 0.8974690564556707, 0.07629293924422899, 0.001633429024961968, 0.9963917052268005, 0.001633429024961968, 0.9570376064865779, 0.042394691333524186, 0.0009020147092239188, 0.39806909710369465, 0.5106515822109833, 0.09122136919791045, 0.9940300529149837, 0.003491908850989404, 0.002327939233992936, 0.9978477247215762, 0.0023451180369484753, 0.4649924500398809, 0.5346365895165748, 0.0003490934309608715, 0.04914012058075736, 0.575756494767047, 0.3750530514582863, 0.9997115357532897, 0.9996363580299931, 0.9998640906163239, 0.9998818894023301, 0.9998361817404091, 0.9998226899507094, 0.9997573183072891, 0.9962991034947862, 0.003084517348281072, 0.9997271489208107, 0.9992571708825477, 0.0003369039686050397, 0.0006738079372100794, 0.9972266411293952, 0.002177350744824007, 0.6451141724779128, 0.3545735260952428, 0.00045575003354144316, 0.9524322300677226, 0.04736259729940501, 0.7295721679532476, 0.27019197957398033, 0.0002691155175039645, 0.9998946504914841, 0.9977639902382579, 0.0020466953645912984, 0.09216704768867916, 0.8386784294205148, 0.0690210244003457, 0.00954951892433515, 0.9894770762368806, 0.0014691567575900232, 0.017006588601571154, 0.0036074581882120627, 0.9796825736844473, 0.9973779568857655, 0.0011106658762647724, 0.0022213317525295448, 0.9999600777910302, 0.3322010670076275, 0.5487940982673909, 0.11887671533002103, 0.1409621864794396, 0.7287745040987027, 0.13053098467996108, 0.9996393856748913, 0.999804840613379, 0.037422794761114916, 0.9024881184590473, 0.06017585397587279, 0.9941589253578313, 0.006232971318857877, 0.9963933300734087, 0.003710962123178431, 0.9183776560745334, 0.08096528454057599, 0.0007710979480054856, 0.9980752171510826, 0.001618937902921464, 0.8831838962644444, 0.11641460736565554, 0.0004477484898679059, 0.9967426046213452, 0.0024794592154759832, 0.265282913091211, 0.7179146852106578, 0.01679613234115844, 0.9981235887993775, 0.0020123459451600353, 0.04115625833284141, 0.9565712164027079, 0.0024943186868388732, 0.0022621572948653638, 0.9930870524458947, 0.0045243145897307276, 0.0037882776133707947, 0.9906345958964629, 0.005682416420056192, 0.4151067097536976, 0.33355807892572736, 0.2513500252069649, 0.7800470489278766, 0.21922488998248957, 0.0006149365777909946, 0.9986355766999845, 0.000725752599345919, 0.001451505198691838, 0.9980047658386436, 0.0017901430777374774, 0.4800655600705503, 0.45692987042859606, 0.0629804884697643, 0.11001733430040168, 0.7235495850922123, 0.16637590739293875, 0.6123204445816532, 0.3874660877754122, 0.0004593551722292972, 0.9996519766800415, 0.9979905584639689, 0.0007113261286272052, 0.0014226522572544104, 0.12785366126733835, 0.6822211080591178, 0.18989659708862042, 0.9996686266011262, 0.9974921975023746, 0.0028138002750419592, 0.30709667455091044, 0.595875957680038, 0.09710086575118562, 0.9972289136912901, 0.0021353938194674307, 0.9966802705724752, 0.0027996636813833573, 0.9970726413728362, 0.0012557589941723378, 0.0025115179883446756, 0.9970481048830907, 0.0026342089957281127, 0.9959504099839185, 0.003292398049533615, 0.9958518298819088, 0.003488097477694952, 0.2933279968331397, 0.6993536310037776, 0.007264481849281238, 0.9985696733602435, 0.0015038699900003668, 0.8675700193154411, 0.13222823619917776, 0.0001625423923776002, 0.6859104339920131, 0.3138761662345329, 0.0002959699823050758, 0.6461165909804457, 0.353657037336256, 0.00025767361554554166, 0.9974929216756165, 0.0010522077232865154, 0.002104415446573031, 0.9822055522979868, 0.017494755384442513, 0.0025563762478901133, 0.994430360429254, 0.005112752495780227, 0.4361953820407641, 0.563490589496558, 0.0004293261634259489, 0.36047177993801105, 0.6392544461694271, 0.0002970513225694364, 0.9977617037587092, 0.0023869897219107876, 0.9842739188036321, 0.015072570693930264, 0.0007010497997176867, 0.8038025639522857, 0.19588465844215366, 0.0004093723269428498, 0.0018788235407452916, 0.9957764765950046, 0.003757647081490583, 0.9992905217910533, 0.000805879453057301, 0.9998506980081041, 6.33097383656116e-05, 0.0001266194767312232, 0.9993684995363994, 0.0006842646350814101, 0.6992323816429228, 0.30022043474458937, 0.00048073728541967874, 0.9573555117730616, 0.0003995640700221459, 0.042353791422347464, 0.37395360025786417, 0.4802947859150831, 0.14575287590741257, 0.9994289487338708, 0.9970811561045364, 0.0023968297021743665, 0.9958147436081338, 0.004475571881384871, 0.0009216522561400042, 0.9972277411434846, 0.0018433045122800084, 0.9971836290578167, 0.0029072409010431973, 0.9434746016088579, 0.05600816756025034, 0.0006188747796712744, 0.9973639074052375, 0.002095302326481591, 0.7789123512206868, 0.22071513961878828, 0.00046613545854020755, 0.8748823987225096, 0.12449460247654164, 0.0006840362773436354, 0.999311434673282, 0.9919006907700657, 0.0067399820437377056, 0.001123330340622951, 0.9986179219481728, 0.0009996175394876604], \"Term\": [\"I\", \"I\", \"I\", \"aap\", \"aapke\", \"aapne\", \"able\", \"able\", \"able\", \"activity\", \"activity\", \"actually\", \"actually\", \"actually\", \"address\", \"address\", \"address\", \"allam\", \"allam\", \"also\", \"also\", \"also\", \"anekal\", \"anekal\", \"apne\", \"apologize\", \"apologize\", \"apologize\", \"approach\", \"approach\", \"approach\", \"archana\", \"archana\", \"assist\", \"assist\", \"assist\", \"assistant\", \"assistant\", \"assistant\", \"attendance\", \"attendance\", \"attendance\", \"aur\", \"awareness\", \"awareness\", \"awareness\", \"baare\", \"baat\", \"baat\", \"bacchon\", \"bahut\", \"bangalore\", \"bangalore\", \"bata\", \"bataya\", \"book\", \"book\", \"book\", \"card\", \"card\", \"card\", \"challenge\", \"challenge\", \"challenge\", \"classroom\", \"classroom\", \"classroom\", \"cluster\", \"cluster\", \"cluster\", \"collaboration\", \"collaboration\", \"collect\", \"collect\", \"collect\", \"concept\", \"concept\", \"concept\", \"could\", \"could\", \"could\", \"deal\", \"deal\", \"deal\", \"deepa\", \"deepa\", \"deepa\", \"detail\", \"detail\", \"detail\", \"dhanyavaad\", \"diary\", \"diary\", \"dive\", \"dive\", \"do\", \"do\", \"do\", \"ek\", \"elaborate\", \"elaborate\", \"elaborate\", \"engage\", \"engage\", \"engage\", \"engagement\", \"engagement\", \"engagement\", \"enrollment\", \"enrollment\", \"even\", \"even\", \"even\", \"experience\", \"experience\", \"experience\", \"explain\", \"explain\", \"explain\", \"file\", \"file\", \"get\", \"get\", \"get\", \"girl\", \"girl\", \"give\", \"give\", \"government\", \"government\", \"great\", \"great\", \"great\", \"hai\", \"hain\", \"hello\", \"hello\", \"hello\", \"high\", \"high\", \"high\", \"impact\", \"impact\", \"impact\", \"improvement\", \"improvement\", \"improvement\", \"increase\", \"increase\", \"increase\", \"irregular\", \"irregular\", \"issue\", \"issue\", \"issue\", \"ji\", \"ji\", \"ji\", \"ka\", \"kar\", \"karne\", \"ke\", \"ki\", \"kiya\", \"ko\", \"kunal\", \"kunal\", \"kya\", \"learn\", \"learn\", \"learn\", \"learning\", \"learning\", \"let\", \"let\", \"let\", \"library\", \"library\", \"like\", \"like\", \"like\", \"liye\", \"long\", \"long\", \"m\", \"m\", \"m\", \"maam\", \"maam\", \"maam\", \"main\", \"main\", \"main\", \"manage\", \"manage\", \"manage\", \"mein\", \"micro\", \"micro\", \"micro\", \"mohini\", \"mohini\", \"mohini\", \"mujhe\", \"naam\", \"name\", \"name\", \"name\", \"nice\", \"nice\", \"nnow\", \"nnow\", \"one\", \"one\", \"one\", \"outcome\", \"outcome\", \"parent\", \"parent\", \"parent\", \"particular\", \"particular\", \"please\", \"please\", \"please\", \"prabhu\", \"prabhu\", \"primary\", \"primary\", \"primary\", \"principal\", \"principal\", \"principal\", \"professor\", \"professor\", \"professor\", \"project\", \"project\", \"project\", \"question\", \"question\", \"question\", \"quite\", \"quite\", \"quite\", \"read\", \"read\", \"report\", \"report\", \"report\", \"role\", \"role\", \"role\", \"s\", \"s\", \"s\", \"sakte\", \"sale\", \"sale\", \"sale\", \"school\", \"school\", \"school\", \"se\", \"separate\", \"separate\", \"share\", \"share\", \"share\", \"situation\", \"situation\", \"skill\", \"skill\", \"something\", \"something\", \"something\", \"spend\", \"spend\", \"srinivas\", \"srinivas\", \"standout\", \"standout\", \"step\", \"step\", \"step\", \"strategy\", \"strategy\", \"student\", \"student\", \"student\", \"take\", \"take\", \"take\", \"teacher\", \"teacher\", \"teacher\", \"teaching\", \"teaching\", \"teaching\", \"team\", \"team\", \"technical\", \"technical\", \"technical\", \"tell\", \"tell\", \"tell\", \"thank\", \"thank\", \"thank\", \"thing\", \"thing\", \"think\", \"think\", \"think\", \"time\", \"time\", \"time\", \"today\", \"today\", \"today\", \"travel\", \"travel\", \"uh\", \"uh\", \"uh\", \"um\", \"um\", \"understand\", \"understand\", \"understand\", \"use\", \"use\", \"use\", \"user\", \"user\", \"user\", \"vidyalay\", \"vijay\", \"vijay\", \"visit\", \"visit\", \"walk\", \"walk\", \"walk\", \"week\", \"week\", \"well\", \"well\", \"well\", \"within\", \"within\", \"work\", \"work\", \"work\", \"would\", \"would\", \"would\", \"ya\", \"yeah\", \"yeah\", \"yeah\", \"year\", \"year\"]}, \"R\": 30, \"lambda.step\": 0.01, \"plot.opts\": {\"xlab\": \"PC1\", \"ylab\": \"PC2\"}, \"topic.order\": [1, 3, 2]};\n",
              "\n",
              "function LDAvis_load_lib(url, callback){\n",
              "  var s = document.createElement('script');\n",
              "  s.src = url;\n",
              "  s.async = true;\n",
              "  s.onreadystatechange = s.onload = callback;\n",
              "  s.onerror = function(){console.warn(\"failed to load library \" + url);};\n",
              "  document.getElementsByTagName(\"head\")[0].appendChild(s);\n",
              "}\n",
              "\n",
              "if(typeof(LDAvis) !== \"undefined\"){\n",
              "   // already loaded: just create the visualization\n",
              "   !function(LDAvis){\n",
              "       new LDAvis(\"#\" + \"ldavis_el46351365379710465766539275286\", ldavis_el46351365379710465766539275286_data);\n",
              "   }(LDAvis);\n",
              "}else if(typeof define === \"function\" && define.amd){\n",
              "   // require.js is available: use it to load d3/LDAvis\n",
              "   require.config({paths: {d3: \"https://d3js.org/d3.v5\"}});\n",
              "   require([\"d3\"], function(d3){\n",
              "      window.d3 = d3;\n",
              "      LDAvis_load_lib(\"https://cdn.jsdelivr.net/gh/bmabey/pyLDAvis@3.4.0/pyLDAvis/js/ldavis.v3.0.0.js\", function(){\n",
              "        new LDAvis(\"#\" + \"ldavis_el46351365379710465766539275286\", ldavis_el46351365379710465766539275286_data);\n",
              "      });\n",
              "    });\n",
              "}else{\n",
              "    // require.js not available: dynamically load d3 & LDAvis\n",
              "    LDAvis_load_lib(\"https://d3js.org/d3.v5.js\", function(){\n",
              "         LDAvis_load_lib(\"https://cdn.jsdelivr.net/gh/bmabey/pyLDAvis@3.4.0/pyLDAvis/js/ldavis.v3.0.0.js\", function(){\n",
              "                 new LDAvis(\"#\" + \"ldavis_el46351365379710465766539275286\", ldavis_el46351365379710465766539275286_data);\n",
              "            })\n",
              "         });\n",
              "}\n",
              "</script>"
            ]
          },
          "metadata": {},
          "execution_count": 23
        }
      ]
    },
    {
      "cell_type": "code",
      "source": [],
      "metadata": {
        "id": "3bxxQWaV-Wmm"
      },
      "execution_count": null,
      "outputs": []
    }
  ]
}