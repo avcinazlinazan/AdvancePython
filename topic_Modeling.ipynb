{
  "nbformat": 4,
  "nbformat_minor": 0,
  "metadata": {
    "colab": {
      "name": "topic_Modeling",
      "provenance": [],
      "include_colab_link": true
    },
    "kernelspec": {
      "name": "python3",
      "display_name": "Python 3"
    },
    "accelerator": "GPU"
  },
  "cells": [
    {
      "cell_type": "markdown",
      "metadata": {
        "id": "view-in-github",
        "colab_type": "text"
      },
      "source": [
        "<a href=\"https://colab.research.google.com/github/avcinazlinazan/AdvancePython/blob/main/topic_Modeling.ipynb\" target=\"_parent\"><img src=\"https://colab.research.google.com/assets/colab-badge.svg\" alt=\"Open In Colab\"/></a>"
      ]
    },
    {
      "cell_type": "code",
      "metadata": {
        "id": "gs8j4mFLIiiO"
      },
      "source": [
        "from google.colab import drive\n",
        "drive.mount('/content/drive')"
      ],
      "execution_count": null,
      "outputs": []
    },
    {
      "cell_type": "code",
      "metadata": {
        "id": "DmxhbnHvIul-"
      },
      "source": [
        "import os\n",
        "os.chdir('/content/drive/My Drive/')"
      ],
      "execution_count": null,
      "outputs": []
    },
    {
      "cell_type": "markdown",
      "metadata": {
        "id": "dPcXhNPNjHSS"
      },
      "source": [
        "***Import Package and Dataset***"
      ]
    },
    {
      "cell_type": "code",
      "metadata": {
        "id": "-RqOi-rwIbm5"
      },
      "source": [
        "datafile = '/content/drive/My Drive/Reviews.csv'"
      ],
      "execution_count": null,
      "outputs": []
    },
    {
      "cell_type": "code",
      "metadata": {
        "id": "PtV-7JemITuN"
      },
      "source": [
        "!pip install pyldavis"
      ],
      "execution_count": null,
      "outputs": []
    },
    {
      "cell_type": "code",
      "metadata": {
        "id": "URjBbSVOcg1K",
        "outputId": "4b6af069-f58d-4e7f-adb2-946eb8d45205",
        "colab": {
          "base_uri": "https://localhost:8080/",
          "height": 68
        }
      },
      "source": [
        "import nltk\n",
        "nltk.download('punkt')"
      ],
      "execution_count": null,
      "outputs": [
        {
          "output_type": "stream",
          "text": [
            "[nltk_data] Downloading package punkt to /root/nltk_data...\n",
            "[nltk_data]   Unzipping tokenizers/punkt.zip.\n"
          ],
          "name": "stdout"
        },
        {
          "output_type": "execute_result",
          "data": {
            "text/plain": [
              "True"
            ]
          },
          "metadata": {
            "tags": []
          },
          "execution_count": 5
        }
      ]
    },
    {
      "cell_type": "code",
      "metadata": {
        "id": "XNhppMjbApOo",
        "outputId": "049de7a5-33d5-4715-94c3-cb74e5a74eba",
        "colab": {
          "base_uri": "https://localhost:8080/",
          "height": 126
        }
      },
      "source": [
        "import pandas as pd\n",
        "import numpy as np\n",
        "#read the csv file\n",
        "query_df = pd.read_csv(datafile,error_bad_lines=False)\n",
        "query_df = query_df.iloc[:8000]#subset of dataframe\n",
        "query_df['Review'] = query_df['Review'].astype(str)\n",
        "query_df['Review'].head()"
      ],
      "execution_count": null,
      "outputs": [
        {
          "output_type": "execute_result",
          "data": {
            "text/plain": [
              "0                  3 yıldır kullanıyorum ve memnunum:)\n",
              "1                        3 yıldır kullanıyorum müthiş \n",
              "2    Ürün bugün elime geçti çok fazla inceleme fırs...\n",
              "3    Almaya karar verdim. Hemencecik geldi. Keyifle...\n",
              "4    Günlük kullanımınızı çok çok iyi karsılıyor kı...\n",
              "Name: Review, dtype: object"
            ]
          },
          "metadata": {
            "tags": []
          },
          "execution_count": 41
        }
      ]
    },
    {
      "cell_type": "markdown",
      "metadata": {
        "id": "He4CJAqWT_jr"
      },
      "source": [
        "***Preprocess the text data***"
      ]
    },
    {
      "cell_type": "code",
      "metadata": {
        "id": "eydXCYO7Ib2A"
      },
      "source": [
        "#text processing\n",
        "import re\n",
        "import string\n",
        "from gensim import corpora, models, similarities\n",
        "\n"
      ],
      "execution_count": null,
      "outputs": []
    },
    {
      "cell_type": "markdown",
      "metadata": {
        "id": "ZpqcGkboVK7E"
      },
      "source": [
        "***`Remove Emoji`***"
      ]
    },
    {
      "cell_type": "code",
      "metadata": {
        "id": "vyDirdg5Vep8"
      },
      "source": [
        "\n",
        "#!/usr/bin/env python\n",
        "import re\n",
        "\n",
        "def deEmoji(text):\n",
        "\n",
        "  emoji_pattern = re.compile(\"[\"\n",
        "          u\"\\U0001F600-\\U0001F64F\"  # emoticons\n",
        "          u\"\\U0001F300-\\U0001F5FF\"  # symbols & pictographs\n",
        "          u\"\\U0001F680-\\U0001F6FF\"  # transport & map symbols\n",
        "          u\"\\U0001F1E0-\\U0001F1FF\"  # flags (iOS)\n",
        "                            \"]+\", flags=re.UNICODE)\n",
        "  return str(emoji_pattern.sub('', text) )# no emoji\n"
      ],
      "execution_count": null,
      "outputs": []
    },
    {
      "cell_type": "markdown",
      "metadata": {
        "id": "C3H2pldSgRkV"
      },
      "source": [
        "***Turkish and Arabic Stopwords***"
      ]
    },
    {
      "cell_type": "code",
      "metadata": {
        "id": "nZ8ztvcxbxwM"
      },
      "source": [
        "with open('stopwords-tr.txt', 'r') as f:\n",
        "    myList = [line.strip() for line in f]"
      ],
      "execution_count": null,
      "outputs": []
    },
    {
      "cell_type": "markdown",
      "metadata": {
        "id": "PMlwT6qKV3gC"
      },
      "source": [
        "***Normalization Functions***"
      ]
    },
    {
      "cell_type": "code",
      "metadata": {
        "id": "pQULYJ_HrY_0"
      },
      "source": [
        "def word_tokenize(sentence):\n",
        "    \"\"\"\n",
        "\n",
        "    Args:\n",
        "        sentence (str): any sentence.\n",
        "    Returns:\n",
        "        list: each item is a word.\n",
        "    \"\"\"\n",
        "\n",
        "\n",
        "    acronym_each_dot = r\"(?:[a-zğçşöüı]\\.){2,}\"\n",
        "    acronym_end_dot = r\"\\b[a-zğçşöüı]{2,3}\\.\"\n",
        "    suffixes = r\"[a-zğçşöüı]{3,}' ?[a-zğçşöüı]{0,3}\"\n",
        "    numbers = r\"\\d+[.,:\\d]+\"\n",
        "    any_word = r\"[a-zğçşöüı]+\"\n",
        "    punctuations = r\"[a-zğçşöüı]*[.,!?;:]\"\n",
        "    word_regex = \"|\".join([acronym_each_dot,\n",
        "                           acronym_end_dot,\n",
        "                           suffixes,\n",
        "                           numbers,\n",
        "                           any_word,\n",
        "                           punctuations])\n",
        "\n",
        "    sentence = re.compile(\"%s\"%word_regex, re.I).findall(sentence)\n",
        "    return sentence"
      ],
      "execution_count": null,
      "outputs": []
    },
    {
      "cell_type": "code",
      "metadata": {
        "id": "kKb37VhTSwp2"
      },
      "source": [
        "\n",
        "def initial_clean(text):\n",
        "     \"\"\"\n",
        "     Function to clean text-remove punctuations, lowercase text etc.\n",
        "     \"\"\"\n",
        "     text = text.translate(str.maketrans('', '', string.punctuation))\n",
        "     text = text.lower() # lower case text\n",
        "     text = word_tokenize(text)\n",
        "     return text\n"
      ],
      "execution_count": null,
      "outputs": []
    },
    {
      "cell_type": "code",
      "metadata": {
        "id": "9U3W6OFYa7GR"
      },
      "source": [
        "def remove_stop_words(text):\n",
        "     stop_words = myList\n",
        "     return [word for word in text if word not in stop_words]"
      ],
      "execution_count": null,
      "outputs": []
    },
    {
      "cell_type": "code",
      "metadata": {
        "id": "-KPL6cBXbxsR"
      },
      "source": [
        "def apply_all(text):\n",
        "     \"\"\"\n",
        "     This function applies all the functions above into one\n",
        "     \"\"\"\n",
        "     return remove_stop_words(initial_clean(deEmoji(text)))"
      ],
      "execution_count": null,
      "outputs": []
    },
    {
      "cell_type": "code",
      "metadata": {
        "id": "-COCSWtca7WK",
        "outputId": "d3ab312b-da39-4fbc-f55d-0607bdf8c341",
        "colab": {
          "base_uri": "https://localhost:8080/",
          "height": 35
        }
      },
      "source": [
        "# clean texts and create new column \"tokenized\"\n",
        "import time\n",
        "t1 = time.time()\n",
        "query_df['tokenized_texts'] = query_df['Review'].apply(apply_all) #noisy text data ->>>> normalized text data\n",
        "t2 = time.time()\n",
        "print(\"Time to clean and tokenize\", len(query_df), \"texts:\", (t2-t1)/60, \"min\") #Time to clean and tokenize 3209 reviews: 0.21254388093948365 min"
      ],
      "execution_count": null,
      "outputs": [
        {
          "output_type": "stream",
          "text": [
            "Time to clean and tokenize 8000 texts: 0.03089307149251302 min\n"
          ],
          "name": "stdout"
        }
      ]
    },
    {
      "cell_type": "code",
      "metadata": {
        "id": "abXU-0N6lp6q",
        "colab": {
          "base_uri": "https://localhost:8080/",
          "height": 228
        },
        "outputId": "7fd61fab-a495-4d5b-deb5-4df172ad559b"
      },
      "source": [
        "query_df.head(6)"
      ],
      "execution_count": null,
      "outputs": [
        {
          "output_type": "execute_result",
          "data": {
            "text/html": [
              "<div>\n",
              "<style scoped>\n",
              "    .dataframe tbody tr th:only-of-type {\n",
              "        vertical-align: middle;\n",
              "    }\n",
              "\n",
              "    .dataframe tbody tr th {\n",
              "        vertical-align: top;\n",
              "    }\n",
              "\n",
              "    .dataframe thead th {\n",
              "        text-align: right;\n",
              "    }\n",
              "</style>\n",
              "<table border=\"1\" class=\"dataframe\">\n",
              "  <thead>\n",
              "    <tr style=\"text-align: right;\">\n",
              "      <th></th>\n",
              "      <th>Rating</th>\n",
              "      <th>Review</th>\n",
              "      <th>tokenized_texts</th>\n",
              "    </tr>\n",
              "  </thead>\n",
              "  <tbody>\n",
              "    <tr>\n",
              "      <th>0</th>\n",
              "      <td>1</td>\n",
              "      <td>3 yıldır kullanıyorum ve memnunum:)</td>\n",
              "      <td>[yıldır, kullanıyorum, memnunum]</td>\n",
              "    </tr>\n",
              "    <tr>\n",
              "      <th>1</th>\n",
              "      <td>1</td>\n",
              "      <td>3 yıldır kullanıyorum müthiş</td>\n",
              "      <td>[yıldır, kullanıyorum, müthiş]</td>\n",
              "    </tr>\n",
              "    <tr>\n",
              "      <th>2</th>\n",
              "      <td>1</td>\n",
              "      <td>Ürün bugün elime geçti çok fazla inceleme fırs...</td>\n",
              "      <td>[ürün, bugün, elime, geçti, fazla, inceleme, f...</td>\n",
              "    </tr>\n",
              "    <tr>\n",
              "      <th>3</th>\n",
              "      <td>1</td>\n",
              "      <td>Almaya karar verdim. Hemencecik geldi. Keyifle...</td>\n",
              "      <td>[almaya, karar, verdim, hemencecik, geldi, key...</td>\n",
              "    </tr>\n",
              "    <tr>\n",
              "      <th>4</th>\n",
              "      <td>1</td>\n",
              "      <td>Günlük kullanımınızı çok çok iyi karsılıyor kı...</td>\n",
              "      <td>[günlük, kullanımınızı, karsılıyor, mükemmel]</td>\n",
              "    </tr>\n",
              "    <tr>\n",
              "      <th>5</th>\n",
              "      <td>1</td>\n",
              "      <td>gayet güzel</td>\n",
              "      <td>[güzel]</td>\n",
              "    </tr>\n",
              "  </tbody>\n",
              "</table>\n",
              "</div>"
            ],
            "text/plain": [
              "   Rating  ...                                    tokenized_texts\n",
              "0       1  ...                   [yıldır, kullanıyorum, memnunum]\n",
              "1       1  ...                     [yıldır, kullanıyorum, müthiş]\n",
              "2       1  ...  [ürün, bugün, elime, geçti, fazla, inceleme, f...\n",
              "3       1  ...  [almaya, karar, verdim, hemencecik, geldi, key...\n",
              "4       1  ...      [günlük, kullanımınızı, karsılıyor, mükemmel]\n",
              "5       1  ...                                            [güzel]\n",
              "\n",
              "[6 rows x 3 columns]"
            ]
          },
          "metadata": {
            "tags": []
          },
          "execution_count": 51
        }
      ]
    },
    {
      "cell_type": "markdown",
      "metadata": {
        "id": "QgzPrIThSDH1"
      },
      "source": [
        "***Create Gensim dictionary and corpus***"
      ]
    },
    {
      "cell_type": "code",
      "metadata": {
        "id": "QTWL-OiTbxnJ"
      },
      "source": [
        "#LDA\n",
        "import gensim\n",
        "import pyLDAvis.gensim"
      ],
      "execution_count": null,
      "outputs": []
    },
    {
      "cell_type": "code",
      "metadata": {
        "id": "jCKVSG99bxks",
        "outputId": "d3a34f0d-2da4-46fa-d312-8abc9a6a5e5d",
        "colab": {
          "base_uri": "https://localhost:8080/",
          "height": 35
        }
      },
      "source": [
        "#Create a Gensim dictionary from the tokenized data\n",
        "tokenized = query_df['tokenized_texts']\n",
        "#Creating term dictionary of corpus, where each unique term is assigned an index.\n",
        "dictionary = corpora.Dictionary(tokenized)\n",
        "#Filter terms which occurs in less than 1 query and more than 80% of the queries.\n",
        "dictionary.filter_extremes(no_below=1, no_above=0.8)\n",
        "#convert the dictionary to a bag of words corpus\n",
        "corpus = [dictionary.doc2bow(tokens) for tokens in tokenized]\n",
        "print(corpus[:1])"
      ],
      "execution_count": null,
      "outputs": [
        {
          "output_type": "stream",
          "text": [
            "[[(0, 1), (1, 1), (2, 1)]]\n"
          ],
          "name": "stdout"
        }
      ]
    },
    {
      "cell_type": "code",
      "metadata": {
        "id": "d4elGKYhbuCg",
        "colab": {
          "base_uri": "https://localhost:8080/",
          "height": 35
        },
        "outputId": "3aff963c-fba2-430b-e258-96f2b7bda567"
      },
      "source": [
        "[[(dictionary[id], freq) for id, freq in cp] for cp in corpus[:1]]"
      ],
      "execution_count": null,
      "outputs": [
        {
          "output_type": "execute_result",
          "data": {
            "text/plain": [
              "[[('kullanıyorum', 1), ('memnunum', 1), ('yıldır', 1)]]"
            ]
          },
          "metadata": {
            "tags": []
          },
          "execution_count": 44
        }
      ]
    },
    {
      "cell_type": "code",
      "metadata": {
        "id": "_xckL3GPbxhz"
      },
      "source": [
        "#LDA\n",
        "ldamodel = gensim.models.ldamodel.LdaModel(corpus, num_topics = 8, id2word=dictionary, passes=15)\n",
        "ldamodel.save('mOdel.gensim')#save model\n",
        "topics = ldamodel.print_topics(num_words=30)#words in each topic group\n"
      ],
      "execution_count": null,
      "outputs": []
    },
    {
      "cell_type": "code",
      "metadata": {
        "id": "sgcOAUmAEcch",
        "outputId": "e4ed0417-555c-4896-e98e-3c2a1900b930",
        "colab": {
          "base_uri": "https://localhost:8080/",
          "height": 183
        }
      },
      "source": [
        "#8 topic and topic groups\n",
        "for topic in topics:\n",
        "   print(topic)"
      ],
      "execution_count": null,
      "outputs": [
        {
          "output_type": "stream",
          "text": [
            "(0, '0.024*\"hızı\" + 0.012*\"usb\" + 0.011*\"yazma\" + 0.009*\"okuma\" + 0.008*\"ürün\" + 0.007*\"yeterli\" + 0.007*\"aldım\" + 0.007*\"veri\" + 0.007*\"aktarım\" + 0.006*\"sinyal\" + 0.006*\"mb\" + 0.006*\"gb\" + 0.006*\"30\" + 0.005*\"küçük\" + 0.005*\"tl\" + 0.004*\"yavaş\" + 0.004*\"bi\" + 0.004*\"güzel\" + 0.004*\"hız\" + 0.004*\"20\" + 0.004*\"normal\" + 0.004*\"ürünü\" + 0.004*\"kablosu\" + 0.004*\"mbs\" + 0.004*\"bellek\" + 0.004*\"dk\" + 0.003*\"bence\" + 0.003*\"16\" + 0.003*\"tercih\" + 0.003*\"hızlı\"')\n",
            "(1, '0.008*\"ssd\" + 0.006*\"cok\" + 0.004*\"tesekkurler\" + 0.004*\"ses\" + 0.004*\"urun\" + 0.004*\"bilgisayar\" + 0.003*\"eski\" + 0.003*\"pc\" + 0.003*\"usb\" + 0.003*\"kablo\" + 0.003*\"yeni\" + 0.003*\"karşılıyor\" + 0.002*\"işletim\" + 0.002*\"hızlandı\" + 0.002*\"d\" + 0.002*\"veriyor\" + 0.002*\"idare\" + 0.002*\"eder\" + 0.002*\"degil\" + 0.002*\"bi\" + 0.002*\"guzel\" + 0.002*\"laptop\" + 0.002*\"icin\" + 0.002*\"yorumları\" + 0.002*\"kullaniyorum\" + 0.002*\"gözle\" + 0.002*\"bilgisayarımın\" + 0.002*\"icinde\" + 0.002*\"uyumlu\" + 0.002*\"sistemi\"')\n",
            "(2, '0.009*\"aldım\" + 0.008*\"10\" + 0.008*\"kurulumu\" + 0.006*\"basit\" + 0.006*\"kolay\" + 0.006*\"sn\" + 0.005*\"sorun\" + 0.005*\"windows\" + 0.005*\"evin\" + 0.005*\"kurulum\" + 0.005*\"saniyede\" + 0.005*\"kulaklık\" + 0.004*\"modem\" + 0.004*\"ssd\" + 0.004*\"memnun\" + 0.004*\"aynı\" + 0.004*\"wifi\" + 0.004*\"ürünü\" + 0.004*\"oda\" + 0.003*\"kalitesi\" + 0.003*\"bağlantı\" + 0.003*\"başka\" + 0.003*\"yaptım\" + 0.003*\"pc\" + 0.003*\"duvar\" + 0.003*\"tane\" + 0.003*\"kablosu\" + 0.003*\"taktım\" + 0.003*\"kat\" + 0.003*\"tavsiye\"')\n",
            "(3, '0.041*\"hızlı\" + 0.035*\"ürün\" + 0.034*\"teşekkürler\" + 0.025*\"kargo\" + 0.021*\"cok\" + 0.014*\"elime\" + 0.013*\"hepsiburada\" + 0.013*\"güzel\" + 0.013*\"geldi\" + 0.009*\"memnun\" + 0.008*\"urun\" + 0.008*\"kaliteli\" + 0.008*\"uygun\" + 0.007*\"sipariş\" + 0.007*\"ulaştı\" + 0.007*\"teslimat\" + 0.007*\"kaldım\" + 0.007*\"sorunsuz\" + 0.006*\"fiyat\" + 0.006*\"süper\" + 0.006*\"teşekkür\" + 0.005*\"gönderi\" + 0.005*\"guzel\" + 0.005*\"günde\" + 0.005*\"hizli\" + 0.004*\"hepsiburadacom\" + 0.004*\"verdim\" + 0.004*\"kısa\" + 0.004*\"net\" + 0.004*\"icin\"')\n",
            "(4, '0.016*\"bi\" + 0.016*\"m\" + 0.009*\"internet\" + 0.009*\"r\" + 0.008*\"çekim\" + 0.007*\"çekiyor\" + 0.007*\"n\" + 0.006*\"gücü\" + 0.006*\"modem\" + 0.006*\"kurulum\" + 0.006*\"full\" + 0.005*\"kurulumu\" + 0.005*\"fi\" + 0.005*\"cihaz\" + 0.005*\"tavsi\" + 0.005*\"diş\" + 0.005*\"ürün\" + 0.005*\"li\" + 0.005*\"çi\" + 0.005*\"ederi\" + 0.005*\"kolay\" + 0.004*\"si\" + 0.004*\"wifi\" + 0.003*\"ni\" + 0.003*\"katta\" + 0.003*\"ş\" + 0.003*\"mbps\" + 0.003*\"k\" + 0.003*\"wps\" + 0.003*\"kablosuz\"')\n",
            "(5, '0.014*\"gb\" + 0.008*\"ssd\" + 0.006*\"ürünü\" + 0.005*\"eski\" + 0.004*\"aldım\" + 0.004*\"16\" + 0.004*\"disk\" + 0.004*\"pişman\" + 0.004*\"hdd\" + 0.004*\"10\" + 0.004*\"bilgisayarım\" + 0.003*\"yıllık\" + 0.003*\"32\" + 0.003*\"görür\" + 0.003*\"başladı\" + 0.003*\"bilgisayar\" + 0.003*\"alın\" + 0.003*\"başka\" + 0.003*\"kutu\" + 0.003*\"fazla\" + 0.002*\"yeni\" + 0.002*\"arkadaşlar\" + 0.002*\"etmem\" + 0.002*\"toshiba\" + 0.002*\"cihazın\" + 0.002*\"olmazsınız\" + 0.002*\"performans\" + 0.002*\"12\" + 0.002*\"ay\" + 0.002*\"sata\"')\n",
            "(6, '0.047*\"ürün\" + 0.040*\"tavsiye\" + 0.038*\"ederim\" + 0.025*\"güzel\" + 0.018*\"elime\" + 0.014*\"kullanışlı\" + 0.013*\"ürünü\" + 0.013*\"gün\" + 0.012*\"ulaştı\" + 0.011*\"hızlı\" + 0.011*\"aldım\" + 0.009*\"kullanıyorum\" + 0.008*\"kesinlikle\" + 0.007*\"kaliteli\" + 0.007*\"fiyatına\" + 0.007*\"küçük\" + 0.006*\"mükemmel\" + 0.006*\"sipariş\" + 0.006*\"gerçekten\" + 0.006*\"başarılı\" + 0.005*\"teşekkürler\" + 0.005*\"hemen\" + 0.005*\"teşekkür\" + 0.005*\"şık\" + 0.005*\"kısa\" + 0.005*\"fiyata\" + 0.005*\"kargo\" + 0.005*\"ediyorum\" + 0.005*\"fiyatı\" + 0.004*\"geldi\"')\n",
            "(7, '0.031*\"ürün\" + 0.016*\"tavsiye\" + 0.016*\"güzel\" + 0.014*\"mouse\" + 0.014*\"uygun\" + 0.013*\"ederim\" + 0.013*\"fiyata\" + 0.012*\"fiyat\" + 0.009*\"kaliteli\" + 0.009*\"küçük\" + 0.008*\"aldım\" + 0.008*\"ses\" + 0.008*\"kullanışlı\" + 0.008*\"kalitesi\" + 0.008*\"ürünü\" + 0.008*\"uzun\" + 0.007*\"fiyatı\" + 0.007*\"kullanıyorum\" + 0.007*\"pil\" + 0.006*\"performans\" + 0.006*\"gerçekten\" + 0.006*\"bence\" + 0.006*\"harika\" + 0.005*\"kesinlikle\" + 0.005*\"hızlı\" + 0.005*\"büyük\" + 0.005*\"kullanımı\" + 0.005*\"rahat\" + 0.005*\"fazla\" + 0.004*\"mükemmel\"')\n"
          ],
          "name": "stdout"
        }
      ]
    },
    {
      "cell_type": "code",
      "metadata": {
        "id": "d36tRU-Nb2sa",
        "colab": {
          "base_uri": "https://localhost:8080/",
          "height": 35
        },
        "outputId": "f65e2b4c-8ac8-4076-d1d3-15bb63c048d4"
      },
      "source": [
        "get_document_topics = ldamodel.get_document_topics(corpus[0])\n",
        "print(get_document_topics)"
      ],
      "execution_count": null,
      "outputs": [
        {
          "output_type": "stream",
          "text": [
            "[(0, 0.03126284), (1, 0.031250004), (2, 0.03126983), (3, 0.03126666), (4, 0.031250667), (5, 0.031258944), (6, 0.7811505), (7, 0.03129058)]\n"
          ],
          "name": "stdout"
        }
      ]
    },
    {
      "cell_type": "markdown",
      "metadata": {
        "id": "EoUMXJnB4Mih"
      },
      "source": [
        "***Visualizing topics using pyLDAvis***"
      ]
    },
    {
      "cell_type": "code",
      "metadata": {
        "id": "ZAyCwndG3_mR",
        "outputId": "e5647287-8eac-46fc-da7b-c4b4f23cab42",
        "colab": {
          "base_uri": "https://localhost:8080/",
          "height": 917
        }
      },
      "source": [
        "#visualizing topics\n",
        "lda_viz = gensim.models.ldamodel.LdaModel.load('mOdel.gensim')#load lda model\n",
        "lda_display = pyLDAvis.gensim.prepare(lda_viz, corpus, dictionary, sort_topics=True)\n",
        "pyLDAvis.display(lda_display)"
      ],
      "execution_count": null,
      "outputs": [
        {
          "output_type": "stream",
          "text": [
            "/usr/local/lib/python3.6/dist-packages/smart_open/smart_open_lib.py:253: UserWarning: This function is deprecated, use smart_open.open instead. See the migration notes for details: https://github.com/RaRe-Technologies/smart_open/blob/master/README.rst#migrating-to-the-new-open-function\n",
            "  'See the migration notes for details: %s' % _MIGRATION_NOTES_URL\n"
          ],
          "name": "stderr"
        },
        {
          "output_type": "execute_result",
          "data": {
            "text/html": [
              "\n",
              "<link rel=\"stylesheet\" type=\"text/css\" href=\"https://cdn.rawgit.com/bmabey/pyLDAvis/files/ldavis.v1.0.0.css\">\n",
              "\n",
              "\n",
              "<div id=\"ldavis_el1211402800465376085432031552\"></div>\n",
              "<script type=\"text/javascript\">\n",
              "\n",
              "var ldavis_el1211402800465376085432031552_data = {\"mdsDat\": {\"x\": [0.17775351452969454, 0.2136878979451677, 0.1446384475274447, -0.018840705058308965, -0.08678462803248368, -0.13930512441999116, -0.1058003082484027, -0.18534909424312], \"y\": [-0.05571075481876156, 0.0018747222516544025, 0.15445723045985696, -0.13518942151222538, -0.08817120595771563, 0.17751577556057546, -0.10636410287438333, 0.05158775689099925], \"topics\": [1, 2, 3, 4, 5, 6, 7, 8], \"cluster\": [1, 1, 1, 1, 1, 1, 1, 1], \"Freq\": [24.078628540039062, 18.70487403869629, 11.567362785339355, 10.714893341064453, 10.333309173583984, 8.82362174987793, 8.702713966369629, 7.074593544006348]}, \"tinfo\": {\"Term\": [\"tavsiye\", \"ederim\", \"\\u00fcr\\u00fcn\", \"h\\u0131zl\\u0131\", \"te\\u015fekk\\u00fcrler\", \"elime\", \"kargo\", \"h\\u0131z\\u0131\", \"cok\", \"g\\u00fczel\", \"mouse\", \"kullan\\u0131\\u015fl\\u0131\", \"m\", \"ula\\u015ft\\u0131\", \"g\\u00fcn\", \"hepsiburada\", \"gb\", \"bi\", \"yazma\", \"kaliteli\", \"geldi\", \"fiyat\", \"uygun\", \"ssd\", \"okuma\", \"pil\", \"urun\", \"kurulumu\", \"ses\", \"usb\", \"pil\", \"logitech\", \"ergonomik\", \"pili\", \"ele\", \"mouse\", \"tech\", \"siyah\", \"gidiyor\", \"g\\u00f6r\\u00fcnt\\u00fcs\\u00fc\", \"\\u00e7eken\", \"bak\\u0131m\\u0131ndan\", \"d\\u00fczg\\u00fcn\", \"alabilece\\u011finiz\", \"etmiyor\", \"yumu\\u015fak\", \"araba\", \"\\u00fcr\\u00fcnlerden\", \"mesafesi\", \"lazer\", \"\\u00e7antas\\u0131\", \"dinlemek\", \"fps\", \"pille\", \"kar\\u015f\\u0131la\\u015fmad\\u0131m\", \"oturmas\\u0131\", \"ileri\", \"s\\u00fcredir\", \"kablosunu\", \"\\u00f6m\\u00fcrl\\u00fc\", \"\\u00f6mr\\u00fc\", \"a\\u011f\\u0131r\", \"kullan\\u0131m\\u0131\", \"uzun\", \"oturuyor\", \"fare\", \"sesi\", \"al\\u0131nabilecek\", \"kullan\\u0131m\", \"malzeme\", \"a\\u00e7\\u0131s\\u0131ndan\", \"fiyat\", \"ses\", \"mause\", \"t\\u0131klama\", \"fiyata\", \"uygun\", \"ideal\", \"harika\", \"performans\", \"s\\u00fcre\", \"kalitesi\", \"fiyat\\u0131\", \"sessiz\", \"bence\", \"\\u00fcr\\u00fcn\", \"b\\u00fcy\\u00fck\", \"k\\u00fc\\u00e7\\u00fck\", \"rahat\", \"g\\u00fczel\", \"kaliteli\", \"tavsiye\", \"kullan\\u0131yorum\", \"ederim\", \"kullan\\u0131\\u015fl\\u0131\", \"ger\\u00e7ekten\", \"ald\\u0131m\", \"\\u00fcr\\u00fcn\\u00fc\", \"al\\u0131n\", \"fazla\", \"kesinlikle\", \"h\\u0131zl\\u0131\", \"m\\u00fckemmel\", \"telefon\", \"verildi\", \"verdikten\", \"g\\u00f6rd\\u00fc\", \"oran\\u0131\", \"d\\u00fc\\u015f\\u00fcnen\", \"v\", \"olunur\", \"bilgisayar\\u0131mda\", \"program\", \"saatte\", \"resimde\", \"performans\\u0131n\\u0131\", \"edebilirim\", \"telefonumda\", \"i\\u00e7\", \"telefonuma\", \"\\u015fekli\", \"bildi\\u011fim\", \"yaklas\\u0131k\", \"elimdeydi\", \"\\u015fart\", \"say\\u0131lmaz\", \"250\", \"se\\u00e7ene\\u011fi\", \"mesela\", \"taraf\\u0131nda\", \"\\u00e7antaya\", \"oturdu\", \"\\u00fcr\\u00fcnd\\u00fc\", \"g\\u00fcn\", \"masa\\u00fcst\\u00fc\", \"ak\\u015fam\", \"olmas\\u0131da\", \"ayr\\u0131\", \"ertesi\", \"24\", \"sipari\\u015fi\", \"ederim\", \"kargoya\", \"ula\\u015ft\\u0131\", \"tavsiye\", \"elime\", \"tu\\u015flar\\u0131\", \"ge\\u00e7ti\", \"kullan\\u0131\\u015fl\\u0131\", \"\\u015fiddetle\", \"samsung\", \"\\u00fcr\\u00fcn\", \"g\\u00fczel\", \"k\\u0131sa\", \"arkada\\u015flara\", \"hemen\", \"alman\\u0131z\\u0131\", \"te\\u015fekk\\u00fcr\", \"s\\u00fcrede\", \"fiyat\\u0131na\", \"kesinlikle\", \"ediyorum\", \"\\u00fcr\\u00fcn\\u00fc\", \"sipari\\u015f\", \"kullan\\u0131yorum\", \"ba\\u015far\\u0131l\\u0131\", \"ald\\u0131m\", \"m\\u00fckemmel\", \"h\\u0131zl\\u0131\", \"kaliteli\", \"\\u015f\\u0131k\", \"k\\u00fc\\u00e7\\u00fck\", \"ger\\u00e7ekten\", \"fiyat\\u0131\", \"te\\u015fekk\\u00fcrler\", \"geldi\", \"kargo\", \"fiyata\", \"net\", \"gore\", \"hic\", \"b\\u0131r\", \"tavs\\u0131ye\", \"gun\", \"eder\\u0131m\", \"cuma\", \"tahmin\", \"dbi\", \"cs\", \"t\\u015fkler\", \"ii\", \"fiyati\", \"pazartesi\", \"ailesine\", \"ekibine\", \"cumartesi\", \"\\u0131y\\u0131\", \"h\\u0131zda\", \"fiyatina\", \"sipari\\u015fim\", \"kullan\\u0131sl\\u0131\", \"oldukca\", \"\\u00f6\\u011flen\", \"tarafa\", \"go\", \"siparis\", \"bugun\", \"taktim\", \"teslimat\", \"h\\u0131zl\\u0131yd\\u0131\", \"cok\", \"te\\u015fekk\\u00fcrler\", \"kargo\", \"g\\u00f6nderi\", \"hepsiburada\", \"urun\", \"guzel\", \"h\\u0131zl\\u0131\", \"hizli\", \"kald\\u0131m\", \"icin\", \"geldi\", \"g\\u00fcn\\u00fc\", \"ulasti\", \"memnun\", \"gercekten\", \"hizmet\", \"elime\", \"\\u00fcr\\u00fcn\", \"sipari\\u015f\", \"g\\u00fcnde\", \"te\\u015fekk\\u00fcr\", \"sorunsuz\", \"hepsiburadacom\", \"s\\u00fcper\", \"ula\\u015ft\\u0131\", \"g\\u00fczel\", \"hb\", \"kaliteli\", \"uygun\", \"fiyat\", \"verdim\", \"k\\u0131sa\", \"yazma\", \"okuma\", \"tl\", \"mbs\", \"dk\", \"hale\", \"dakikada\", \"mbsn\", \"orjinal\", \"anten\", \"bilgisayar\\u0131ma\", \"dvd\", \"nokta\", \"kopyalama\", \"giri\\u015fi\", \"sekilde\", \"super\", \"garanti\", \"p\", \"kutusu\", \"\\u0131s\\u0131n\\u0131yor\", \"yaparken\", \"civar\\u0131nda\", \"yar\\u0131\", \"y\\u00fczeylerde\", \"civar\\u0131\", \"evimde\", \"yat\", \"h\\u0131zla\", \"ba\\u011fl\\u0131\", \"aktar\\u0131m\", \"mb\", \"h\\u0131z\\u0131\", \"yava\\u015f\", \"h\\u0131z\\u0131n\\u0131\", \"30\", \"veri\", \"sinyal\", \"20\", \"yeterli\", \"usb\", \"aktar\\u0131m\\u0131\", \"ortalama\", \"h\\u0131z\", \"almaya\", \"kablosu\", \"normal\", \"gb\", \"a\\u015f\\u0131r\\u0131\", \"bellek\", \"ald\\u0131m\", \"k\\u00fc\\u00e7\\u00fck\", \"\\u00fcr\\u00fcn\", \"bi\", \"16\", \"tercih\", \"g\\u00fczel\", \"\\u00fcr\\u00fcn\\u00fc\", \"bence\", \"h\\u0131zl\\u0131\", \"windows\", \"saniyede\", \"oda\", \"duvar\", \"win\", \"aras\\u0131\", \"haf\\u0131za\", \"ram\", \"tplink\", \"sat\\u0131c\\u0131\", \"g\\u00fc\\u00e7l\\u00fc\", \"\\u00e7ekimi\", \"kattaki\", \"200\", \"class\", \"sonuna\", \"a\\u00e7\\u0131lma\", \"dolu\", \"malzemeden\", \"canavar\", \"yarar\", \"\\u015fuana\", \"performans\\u0131na\", \"1520\", \"11\", \"laptopa\", \"odada\", \"kullanacaksan\\u0131z\", \"teknik\", \"\\u015farj\", \"stabil\", \"evin\", \"sn\", \"basit\", \"kulakl\\u0131\\u011f\\u0131\", \"seviyesi\", \"modeme\", \"bulamazs\\u0131n\\u0131z\", \"\\u015fimdiye\", \"alm\\u0131\\u015f\", \"kurulumu\", \"gelen\", \"10\", \"kulakl\\u0131k\", \"kurulum\", \"yapt\\u0131m\", \"wifi\", \"modem\", \"kolay\", \"ba\\u011flant\\u0131\", \"sorun\", \"ald\\u0131m\", \"kat\", \"ssd\", \"ayn\\u0131\", \"memnun\", \"pc\", \"kablosu\", \"ba\\u015fka\", \"\\u00fcr\\u00fcn\\u00fc\", \"kalitesi\", \"tane\", \"takt\\u0131m\", \"tavsiye\", \"m\", \"r\", \"n\", \"full\", \"fi\", \"tavsi\", \"di\\u015f\", \"li\", \"\\u00e7i\", \"ederi\", \"si\", \"ni\", \"\\u015f\", \"\\u015fi\", \"z\", \"kali\", \"\\u011fi\", \"tp\", \"gi\", \"hard\", \"edi\", \"pi\", \"lgi\", \"kata\", \"arkadaslar\", \"hi\", \"x\", \"ri\", \"yor\", \"link\", \"internet\", \"katta\", \"k\", \"di\", \"\\u00e7ekiyor\", \"g\\u00fcc\\u00fc\", \"bi\", \"\\u00e7ekim\", \"kurulum\", \"modem\", \"mbps\", \"wifi\", \"kurulumu\", \"cihaz\", \"wps\", \"kolay\", \"\\u00fcr\\u00fcn\", \"kablosuz\", \"y\\u0131ll\\u0131k\", \"ba\\u015flad\\u0131\", \"etmem\", \"cihaz\\u0131n\", \"diski\", \"ayar\\u0131\", \"yetersiz\", \"almay\\u0131n\", \"al\\u0131rsan\\u0131z\", \"yaz\\u0131l\\u0131m\", \"sayfa\", \"gelebilir\", \"\\u00e7in\", \"snde\", \"yazan\", \"iyidir\", \"ka\\u00e7\\u0131rmas\\u0131n\", \"ama\\u00e7l\\u0131\", \"siteden\", \"oluyordu\", \"a\\u00e7\\u0131p\", \"h\\u0131z\\u0131m\", \"deneme\", \"versiyonu\", \"noktaya\", \"ultra\", \"al\\u0131nca\", \"tepki\", \"32\", \"onuda\", \"kutu\", \"olmazs\\u0131n\\u0131z\", \"gb\", \"disk\", \"240\", \"toshiba\", \"pi\\u015fman\", \"40\", \"ssd\", \"hdd\", \"bilgisayar\\u0131m\", \"g\\u00f6r\\u00fcr\", \"eski\", \"16\", \"l\\u0131k\", \"12\", \"rahat\\u00e7a\", \"10\", \"\\u00fcr\\u00fcn\\u00fc\", \"bilgisayar\", \"ald\\u0131m\", \"ba\\u015fka\", \"yeni\", \"al\\u0131n\", \"fazla\", \"sata\", \"arkada\\u015flar\", \"olanlar\", \"ay\", \"performans\", \"tesekkurler\", \"kar\\u015f\\u0131l\\u0131yor\", \"i\\u015fletim\", \"bilgisayar\\u0131m\\u0131n\", \"icinde\", \"macbook\", \"buyuk\", \"yuksek\", \"tesekkur\", \"g\\u00f6r\\u00fcl\\u00fcr\", \"cevap\", \"pro\", \"dandik\", \"olursak\", \"kullananlar\", \"telefondan\", \"sinir\", \"kargoyla\", \"performansl\\u0131\", \"ald\\u0131g\\u0131m\", \"pahal\\u0131ya\", \"yap\\u0131ld\\u0131\", \"kapanma\", \"gelmi\\u015f\", \"ge\\u00e7ince\", \"kopuyor\", \"sa\\u011fa\", \"sola\", \"g\\u00fcc\\u00fcn\\u00fc\", \"not\", \"g\\u00f6zle\", \"tak\\u0131nca\", \"degil\", \"idare\", \"d\", \"zarar\", \"yorumlar\\u0131\", \"kullaniyorum\", \"ssd\", \"eder\", \"h\\u0131zland\\u0131\", \"oldugu\", \"bilgisayar\", \"urun\", \"sistemi\", \"eski\", \"cok\", \"pc\", \"kablo\", \"ses\", \"uyumlu\", \"veriyor\", \"yeni\", \"icin\", \"usb\", \"guzel\", \"laptop\", \"bi\"], \"Freq\": [1479.0, 1342.0, 2748.0, 1099.0, 669.0, 644.0, 492.0, 403.0, 353.0, 1371.0, 439.0, 594.0, 184.0, 377.0, 335.0, 269.0, 330.0, 449.0, 154.0, 567.0, 380.0, 506.0, 635.0, 209.0, 128.0, 205.0, 157.0, 178.0, 329.0, 349.0, 205.25770568847656, 91.88774108886719, 87.77071380615234, 56.90227508544922, 134.8922882080078, 432.3189392089844, 36.883201599121094, 36.981536865234375, 32.38738250732422, 30.901308059692383, 30.384138107299805, 30.109107971191406, 29.284259796142578, 31.11307144165039, 24.164949417114258, 24.233667373657227, 24.105201721191406, 25.359663009643555, 22.964908599853516, 22.04969596862793, 21.990156173706055, 21.62578582763672, 21.524621963500977, 20.79833984375, 22.393028259277344, 20.710224151611328, 20.33899688720703, 20.152713775634766, 19.266698837280273, 18.991228103637695, 54.04742431640625, 48.219478607177734, 142.50332641601562, 233.95973205566406, 83.04621124267578, 55.268585205078125, 118.25787353515625, 82.85738372802734, 99.47525024414062, 79.13751220703125, 79.17151641845703, 369.41448974609375, 244.38262939453125, 87.96055603027344, 60.47920608520508, 384.6178283691406, 412.678955078125, 128.22769165039062, 180.3973846435547, 197.4176788330078, 92.27642822265625, 243.08489990234375, 223.33883666992188, 107.44964599609375, 187.1337432861328, 949.693115234375, 144.69541931152344, 265.2691345214844, 139.10926818847656, 487.6274719238281, 267.53167724609375, 495.335693359375, 215.41673278808594, 395.0377197265625, 243.34747314453125, 196.0926513671875, 257.2461853027344, 240.0663604736328, 134.2399444580078, 138.41404724121094, 158.01715087890625, 154.25299072265625, 136.9835968017578, 59.439170837402344, 31.096384048461914, 28.843006134033203, 28.79096031188965, 28.60457992553711, 21.261287689208984, 19.014759063720703, 18.492496490478516, 18.421354293823242, 18.123838424682617, 17.174345016479492, 17.084354400634766, 16.789127349853516, 16.71750259399414, 15.168466567993164, 14.550689697265625, 12.566350936889648, 12.025982856750488, 11.76327896118164, 11.780975341796875, 26.35611343383789, 11.191572189331055, 10.948162078857422, 10.966216087341309, 10.894296646118164, 10.599700927734375, 10.59689712524414, 10.36987590789795, 10.145756721496582, 9.87488079071045, 301.6686096191406, 43.04695129394531, 27.96653175354004, 20.119592666625977, 58.98912048339844, 67.66175079345703, 43.42006301879883, 25.66908836364746, 911.9308471679688, 50.59592056274414, 272.81201171875, 948.9091796875, 429.08538818359375, 27.980876922607422, 102.97727966308594, 334.68365478515625, 48.0540885925293, 64.4485092163086, 1111.1138916015625, 601.417236328125, 112.37996673583984, 52.231563568115234, 127.6801986694336, 42.55535125732422, 120.42233276367188, 79.84135437011719, 162.8898162841797, 190.02882385253906, 110.06488800048828, 307.21099853515625, 138.21438598632812, 201.46707153320312, 134.62893676757812, 268.00604248046875, 153.3195037841797, 271.8274230957031, 175.9067840576172, 112.7048568725586, 155.7313232421875, 136.8679962158203, 109.56122589111328, 128.67079162597656, 103.25511932373047, 110.23851013183594, 111.87191772460938, 56.0863037109375, 33.48237991333008, 29.741762161254883, 26.245351791381836, 25.12969207763672, 24.791954040527344, 23.916582107543945, 23.53292465209961, 20.7357234954834, 20.478504180908203, 19.25372314453125, 19.057409286499023, 19.048391342163086, 18.73888397216797, 18.510902404785156, 18.401046752929688, 18.256418228149414, 18.0959529876709, 17.65552520751953, 16.65190315246582, 15.666513442993164, 15.330428123474121, 15.049420356750488, 14.1110200881958, 13.53879451751709, 13.48829174041748, 12.26686954498291, 11.938066482543945, 11.795090675354004, 11.279619216918945, 102.98201751708984, 20.4805850982666, 303.8440246582031, 491.23358154296875, 360.45501708984375, 77.87223052978516, 196.40170288085938, 120.76710510253906, 77.76616668701172, 600.9085083007812, 70.34803009033203, 102.0152359008789, 53.32636260986328, 186.08323669433594, 44.490257263183594, 24.671567916870117, 135.19979858398438, 33.27062225341797, 30.172666549682617, 212.08425903320312, 515.6092529296875, 105.80838775634766, 74.42396545410156, 85.41339111328125, 99.73599243164062, 59.65629959106445, 87.91210174560547, 103.64603424072266, 194.8885955810547, 46.535194396972656, 117.00865936279297, 115.41773986816406, 92.36901092529297, 57.14162826538086, 56.48696517944336, 153.5760040283203, 128.03065490722656, 61.198368072509766, 48.28065872192383, 47.997501373291016, 37.17802047729492, 35.82271957397461, 30.935909271240234, 30.881319046020508, 30.33041763305664, 29.8245906829834, 21.4066162109375, 21.06402587890625, 20.814477920532227, 20.471372604370117, 20.003013610839844, 19.938098907470703, 19.090972900390625, 18.74433135986328, 18.676002502441406, 18.241228103637695, 16.295568466186523, 13.698077201843262, 13.43940258026123, 13.44363784790039, 13.3724946975708, 13.279227256774902, 12.901346206665039, 12.689600944519043, 12.577227592468262, 88.30310821533203, 86.49398040771484, 329.25872802734375, 61.0361328125, 23.258438110351562, 80.52538299560547, 98.88396453857422, 87.93650817871094, 56.18670654296875, 101.24467468261719, 168.64125061035156, 27.93378257751465, 26.74790382385254, 58.87214279174805, 28.23453140258789, 48.569454193115234, 50.97114944458008, 85.10038757324219, 26.389850616455078, 48.05326461791992, 99.5288314819336, 66.87999725341797, 111.52020263671875, 60.29344177246094, 42.33712387084961, 39.287899017333984, 59.923126220703125, 50.713924407958984, 42.82613754272461, 38.65361022949219, 70.8307113647461, 62.293785095214844, 48.51908874511719, 35.15644836425781, 29.864900588989258, 27.536930084228516, 26.96920394897461, 25.834251403808594, 25.293752670288086, 22.492326736450195, 19.022369384765625, 18.1341495513916, 15.999367713928223, 15.468238830566406, 14.05379867553711, 13.89669132232666, 13.700162887573242, 13.08498764038086, 12.795262336730957, 11.948627471923828, 12.973005294799805, 11.044724464416504, 10.938825607299805, 10.847637176513672, 10.332998275756836, 9.939842224121094, 21.89479637145996, 9.792160034179688, 9.686596870422363, 9.680313110351562, 15.93155574798584, 64.44792175292969, 72.23178100585938, 84.1874771118164, 27.22964859008789, 18.5422420501709, 25.002756118774414, 15.214179039001465, 23.884042739868164, 19.921762466430664, 101.08802032470703, 31.858211517333984, 102.5777359008789, 59.7818489074707, 64.14693450927734, 37.883445739746094, 50.73480224609375, 56.928104400634766, 75.15584564208984, 39.328285217285156, 71.4517822265625, 118.53681945800781, 33.575645446777344, 56.000553131103516, 53.23343276977539, 53.74409103393555, 37.37201690673828, 34.72011184692383, 38.161659240722656, 49.343833923339844, 43.32612228393555, 34.85054397583008, 33.72775650024414, 33.05916976928711, 184.11611938476562, 95.44055938720703, 76.11580657958984, 63.05338668823242, 55.67472839355469, 54.19343948364258, 53.52996826171875, 52.541969299316406, 52.15774154663086, 51.764217376708984, 45.528656005859375, 39.08391571044922, 33.42689514160156, 28.890764236450195, 26.40290069580078, 26.1112117767334, 25.243873596191406, 25.17522430419922, 24.871273040771484, 23.81459617614746, 23.668874740600586, 22.95476531982422, 21.466447830200195, 21.26081657409668, 21.11443519592285, 19.93305778503418, 19.738265991210938, 19.537410736083984, 18.93022346496582, 18.858043670654297, 101.75591278076172, 35.8095703125, 30.862625122070312, 26.67613983154297, 81.60560607910156, 70.5595932006836, 184.1400909423828, 85.25485229492188, 64.32526397705078, 66.26840209960938, 32.019222259521484, 44.91834259033203, 56.439327239990234, 54.410552978515625, 30.697189331054688, 51.615570068359375, 53.01626205444336, 29.78788185119629, 34.12730026245117, 30.239606857299805, 25.4659423828125, 23.01734733581543, 20.337169647216797, 18.57009506225586, 17.301137924194336, 17.123395919799805, 16.596153259277344, 15.450613021850586, 14.544666290283203, 14.463324546813965, 13.09547233581543, 12.870742797851562, 12.677318572998047, 12.631340026855469, 12.502218246459961, 11.992426872253418, 11.739426612854004, 11.342936515808105, 11.168548583984375, 10.979607582092285, 10.755779266357422, 10.439220428466797, 10.355586051940918, 10.207683563232422, 10.163416862487793, 9.940279960632324, 32.43050765991211, 9.734039306640625, 28.387447357177734, 22.42279815673828, 149.68167114257812, 45.294151306152344, 17.047222137451172, 24.719467163085938, 42.63398361206055, 15.036781311035156, 82.81304931640625, 41.59355545043945, 40.17401123046875, 30.316604614257812, 49.95343017578125, 47.417015075683594, 17.553865432739258, 21.747283935546875, 15.87475872039795, 40.62916564941406, 65.2236557006836, 29.717573165893555, 49.03315353393555, 28.653987884521484, 27.350257873535156, 28.68199348449707, 28.170440673828125, 20.946340560913086, 25.63970184326172, 19.990623474121094, 20.970962524414062, 22.22812843322754, 40.21995162963867, 23.615400314331055, 22.018632888793945, 16.951892852783203, 16.600234985351562, 13.585692405700684, 12.873405456542969, 11.327901840209961, 11.15185260772705, 11.00493049621582, 10.485401153564453, 9.92667293548584, 9.910794258117676, 8.995638847351074, 8.480243682861328, 8.46866512298584, 8.42101764678955, 8.30346965789795, 8.242594718933105, 8.198261260986328, 8.008251190185547, 7.816158294677734, 7.581535816192627, 7.564038276672363, 7.430236339569092, 7.197633743286133, 7.16676139831543, 7.16676139831543, 6.987778186798096, 6.924757480621338, 17.084444046020508, 14.905412673950195, 19.68004608154297, 21.166093826293945, 21.234830856323242, 12.157533645629883, 18.259199142456055, 17.12700080871582, 69.47942352294922, 20.518531799316406, 21.50489044189453, 13.108813285827637, 31.96870994567871, 36.31742858886719, 15.21139144897461, 30.569963455200195, 49.407569885253906, 28.350799560546875, 24.886308670043945, 37.382347106933594, 15.623146057128906, 21.179718017578125, 23.71273422241211, 18.283830642700195, 26.035938262939453, 19.126270294189453, 18.575775146484375, 19.428373336791992], \"Total\": [1479.0, 1342.0, 2748.0, 1099.0, 669.0, 644.0, 492.0, 403.0, 353.0, 1371.0, 439.0, 594.0, 184.0, 377.0, 335.0, 269.0, 330.0, 449.0, 154.0, 567.0, 380.0, 506.0, 635.0, 209.0, 128.0, 205.0, 157.0, 178.0, 329.0, 349.0, 205.9835205078125, 92.60211181640625, 88.49667358398438, 57.61371612548828, 136.64938354492188, 439.42333984375, 37.5931282043457, 37.71982192993164, 33.09825897216797, 31.611865997314453, 31.09663963317871, 30.831966400146484, 29.99483871459961, 31.916820526123047, 24.87487030029297, 24.94647789001465, 24.815073013305664, 26.116708755493164, 23.677127838134766, 22.762168884277344, 22.70171546936035, 22.33621597290039, 22.23592185974121, 21.508146286010742, 23.15733528137207, 21.420551300048828, 21.049386978149414, 20.862932205200195, 19.9815731048584, 19.701393127441406, 56.225128173828125, 50.63228225708008, 153.6459503173828, 260.3350830078125, 89.52030944824219, 59.61565017700195, 133.43914794921875, 93.05168151855469, 113.19292449951172, 90.85020446777344, 91.25047302246094, 506.8992004394531, 329.6737365722656, 105.47938537597656, 69.61361694335938, 580.8130493164062, 635.672607421875, 166.6590576171875, 248.5362548828125, 277.0574951171875, 118.28234100341797, 388.6958923339844, 350.6416320800781, 147.25035095214844, 302.9792785644531, 2748.087158203125, 219.5911407470703, 512.496337890625, 210.0289764404297, 1371.9931640625, 567.2498779296875, 1479.1378173828125, 460.0025634765625, 1342.958984375, 594.0575561523438, 432.1481018066406, 838.4714965820312, 778.8472290039062, 218.20660400390625, 234.86119079589844, 395.6278076171875, 1099.3336181640625, 360.8292236328125, 60.15571594238281, 31.820781707763672, 29.558244705200195, 29.507884979248047, 29.320829391479492, 21.97670555114746, 19.733562469482422, 19.207782745361328, 19.13740348815918, 18.841432571411133, 17.89012908935547, 17.799753189086914, 17.506181716918945, 17.434043884277344, 15.88403606414795, 15.265993118286133, 13.28219985961914, 12.742325782775879, 12.478513717651367, 12.500466346740723, 27.973249435424805, 11.908297538757324, 11.663809776306152, 11.684288024902344, 11.61095905303955, 11.31808853149414, 11.31794261932373, 11.085021018981934, 10.861129760742188, 10.589980125427246, 335.8786926269531, 47.728179931640625, 30.637096405029297, 21.870166778564453, 67.07836151123047, 79.59054565429688, 50.11622619628906, 28.696256637573242, 1342.958984375, 60.05111312866211, 377.0726013183594, 1479.1378173828125, 644.319091796875, 32.031654357910156, 144.95652770996094, 594.0575561523438, 60.95933532714844, 88.27388000488281, 2748.087158203125, 1371.9931640625, 178.68748474121094, 69.65519714355469, 216.75485229492188, 55.30516815185547, 213.32537841796875, 125.32747650146484, 320.31646728515625, 395.6278076171875, 192.21986389160156, 778.8472290039062, 269.29510498046875, 460.0025634765625, 263.7938232421875, 838.4714965820312, 360.8292236328125, 1099.3336181640625, 567.2498779296875, 271.3077392578125, 512.496337890625, 432.1481018066406, 350.6416320800781, 669.2191772460938, 380.00469970703125, 492.636474609375, 580.8130493164062, 56.81300735473633, 34.20633316040039, 30.465961456298828, 26.96885871887207, 25.853042602539062, 25.515472412109375, 24.63999366760254, 24.256649017333984, 21.45943832397461, 21.210660934448242, 19.97808265686035, 19.781044006347656, 19.775911331176758, 19.462444305419922, 19.234586715698242, 19.124710083007812, 18.981884002685547, 18.81939697265625, 18.37911605834961, 17.378421783447266, 16.39025115966797, 16.054706573486328, 15.772956848144531, 14.834864616394043, 14.262707710266113, 14.216142654418945, 12.99072551727295, 12.661707878112793, 12.51931381225586, 12.006707191467285, 110.61754608154297, 21.925905227661133, 353.8807067871094, 669.2191772460938, 492.636474609375, 95.98925018310547, 269.40020751953125, 157.71359252929688, 97.52128601074219, 1099.3336181640625, 93.63338470458984, 152.71607971191406, 72.23921966552734, 380.00469970703125, 61.149742126464844, 28.152894973754883, 277.7157287597656, 42.53179931640625, 37.633541107177734, 644.319091796875, 2748.087158203125, 269.29510498046875, 156.05502319335938, 213.32537841796875, 295.03179931640625, 123.55007934570312, 260.8681640625, 377.0726013183594, 1371.9931640625, 84.74978637695312, 567.2498779296875, 635.672607421875, 506.8992004394531, 151.26441955566406, 178.68748474121094, 154.29776000976562, 128.75230407714844, 61.92073059082031, 49.002201080322266, 48.7200927734375, 37.90058898925781, 36.54502868652344, 31.657215118408203, 31.603832244873047, 31.054367065429688, 30.54724884033203, 22.129459381103516, 21.786951065063477, 21.542213439941406, 21.197084426879883, 20.726469039916992, 20.660236358642578, 19.814287185668945, 19.467275619506836, 19.398120880126953, 18.962890625, 17.018203735351562, 14.424114227294922, 14.161117553710938, 14.166385650634766, 14.094121932983398, 14.001521110534668, 13.623592376708984, 13.412165641784668, 13.300057411193848, 95.8701171875, 98.77264404296875, 403.0780029296875, 69.59262084960938, 25.23708724975586, 108.13282012939453, 139.57505798339844, 122.65019989013672, 76.20306396484375, 166.85044860839844, 349.82781982421875, 35.02494430541992, 34.50597381591797, 139.59487915039062, 38.23599624633789, 103.61721801757812, 119.65225982666016, 330.7285461425781, 34.737525939941406, 127.96746063232422, 838.4714965820312, 512.496337890625, 2748.087158203125, 449.1041259765625, 140.16416931152344, 125.16899871826172, 1371.9931640625, 778.8472290039062, 302.9792785644531, 1099.3336181640625, 71.56045532226562, 63.02361297607422, 49.249290466308594, 35.886634826660156, 30.59434700012207, 28.266748428344727, 27.699254989624023, 26.56450653076172, 26.023317337036133, 23.22226333618164, 19.753543853759766, 18.86373519897461, 16.731170654296875, 16.19917106628418, 14.783552169799805, 14.62701416015625, 14.429937362670898, 13.815811157226562, 13.526334762573242, 12.678853988647461, 13.778970718383789, 11.774407386779785, 11.66860294342041, 11.577350616455078, 11.06353759765625, 10.66943359375, 23.503576278686523, 10.522520065307617, 10.416633605957031, 10.410478591918945, 17.21351432800293, 71.95831298828125, 80.86128234863281, 96.71346282958984, 30.54995346069336, 21.041170120239258, 29.485910415649414, 17.04770278930664, 29.31973648071289, 23.682153701782227, 178.80215454101562, 45.52125549316406, 224.92428588867188, 114.02928161621094, 129.12905883789062, 63.03114700317383, 102.88848114013672, 137.51226806640625, 275.14422607421875, 84.9870834350586, 279.8464050292969, 838.4714965820312, 66.43146514892578, 209.14828491210938, 212.1932373046875, 277.7157287597656, 117.44559478759766, 103.61721801757812, 161.1102752685547, 778.8472290039062, 388.6958923339844, 134.3971405029297, 117.2002182006836, 1479.1378173828125, 184.9361572265625, 96.16854858398438, 76.84386444091797, 63.781883239746094, 56.40290069580078, 54.92111587524414, 54.258365631103516, 53.26993179321289, 52.885562896728516, 52.49205017089844, 46.25664520263672, 39.811805725097656, 34.15485763549805, 29.618610382080078, 27.131088256835938, 26.839088439941406, 25.971569061279297, 25.903234481811523, 25.599124908447266, 24.54646110534668, 24.396665573120117, 23.682676315307617, 22.19420051574707, 21.98897933959961, 21.84514808654785, 20.66079330444336, 20.467756271362305, 20.265180587768555, 19.657920837402344, 19.586029052734375, 120.18751525878906, 39.511268615722656, 33.8363151550293, 29.221599578857422, 119.40442657470703, 105.89482879638672, 449.1041259765625, 157.37684631347656, 129.12905883789062, 137.51226806640625, 42.910099029541016, 102.88848114013672, 178.80215454101562, 167.4463653564453, 43.010589599609375, 275.14422607421875, 2748.087158203125, 129.40359497070312, 34.852169036865234, 30.964160919189453, 26.190750122070312, 23.743818283081055, 21.06138038635254, 19.295833587646484, 18.027082443237305, 17.848058700561523, 17.32162857055664, 16.175668716430664, 15.269680976867676, 15.188308715820312, 13.819844245910645, 13.595892906188965, 13.402166366577148, 13.356522560119629, 13.226563453674316, 12.71639633178711, 12.464579582214355, 12.068148612976074, 11.89343547821045, 11.704751014709473, 11.480110168457031, 11.162980079650879, 11.080696105957031, 10.93176555633545, 10.888372421264648, 10.66523551940918, 34.831966400146484, 10.45973014831543, 36.069759368896484, 28.335315704345703, 330.7285461425781, 78.9975814819336, 21.490514755249023, 35.547794342041016, 76.67083740234375, 18.20737075805664, 209.14828491210938, 82.95291900634766, 80.59152221679688, 53.95634460449219, 121.03247833251953, 140.16416931152344, 24.5576229095459, 41.77051544189453, 21.455490112304688, 224.92428588867188, 778.8472290039062, 108.9109115600586, 838.4714965820312, 161.1102752685547, 150.9858856201172, 218.20660400390625, 234.86119079589844, 54.66971969604492, 190.0477294921875, 47.35118865966797, 88.357177734375, 277.0574951171875, 40.95180892944336, 24.34758758544922, 22.753013610839844, 17.683990478515625, 17.33193016052246, 14.317039489746094, 13.604948997497559, 12.059707641601562, 11.884064674377441, 11.736401557922363, 11.216941833496094, 10.658114433288574, 10.64469051361084, 9.72830867767334, 9.212201118469238, 9.200695991516113, 9.15302562713623, 9.035258293151855, 8.974698066711426, 8.930402755737305, 8.741300582885742, 8.548588752746582, 8.312975883483887, 8.297483444213867, 8.16339111328125, 7.929786205291748, 7.8984055519104, 7.8984055519104, 7.721530914306641, 7.659015655517578, 18.896203994750977, 17.767723083496094, 25.10308837890625, 28.618602752685547, 30.590106964111328, 15.544403076171875, 27.640670776367188, 26.88922119140625, 209.14828491210938, 36.21451950073242, 42.6424674987793, 19.98651123046875, 108.9109115600586, 157.71359252929688, 28.894393920898438, 121.03247833251953, 353.8807067871094, 117.44559478759766, 91.44329833984375, 329.6737365722656, 32.39398956298828, 101.50473022460938, 150.9858856201172, 72.23921966552734, 349.82781982421875, 97.52128601074219, 125.22206115722656, 449.1041259765625], \"Category\": [\"Default\", \"Default\", \"Default\", \"Default\", \"Default\", \"Default\", \"Default\", \"Default\", \"Default\", \"Default\", \"Default\", \"Default\", \"Default\", \"Default\", \"Default\", \"Default\", \"Default\", \"Default\", \"Default\", \"Default\", \"Default\", \"Default\", \"Default\", \"Default\", \"Default\", \"Default\", \"Default\", \"Default\", \"Default\", \"Default\", \"Topic1\", \"Topic1\", \"Topic1\", \"Topic1\", \"Topic1\", \"Topic1\", \"Topic1\", \"Topic1\", \"Topic1\", \"Topic1\", \"Topic1\", \"Topic1\", \"Topic1\", \"Topic1\", \"Topic1\", \"Topic1\", \"Topic1\", \"Topic1\", \"Topic1\", \"Topic1\", \"Topic1\", \"Topic1\", \"Topic1\", \"Topic1\", \"Topic1\", \"Topic1\", \"Topic1\", \"Topic1\", \"Topic1\", \"Topic1\", \"Topic1\", \"Topic1\", \"Topic1\", \"Topic1\", \"Topic1\", \"Topic1\", \"Topic1\", \"Topic1\", \"Topic1\", \"Topic1\", \"Topic1\", \"Topic1\", \"Topic1\", \"Topic1\", \"Topic1\", \"Topic1\", \"Topic1\", \"Topic1\", \"Topic1\", \"Topic1\", \"Topic1\", \"Topic1\", \"Topic1\", \"Topic1\", \"Topic1\", \"Topic1\", \"Topic1\", \"Topic1\", \"Topic1\", \"Topic1\", \"Topic1\", \"Topic1\", \"Topic1\", \"Topic1\", \"Topic1\", \"Topic1\", \"Topic1\", \"Topic1\", \"Topic1\", \"Topic1\", \"Topic1\", \"Topic1\", \"Topic1\", \"Topic2\", \"Topic2\", \"Topic2\", \"Topic2\", \"Topic2\", \"Topic2\", \"Topic2\", \"Topic2\", \"Topic2\", \"Topic2\", \"Topic2\", \"Topic2\", \"Topic2\", \"Topic2\", \"Topic2\", \"Topic2\", \"Topic2\", \"Topic2\", \"Topic2\", \"Topic2\", \"Topic2\", \"Topic2\", \"Topic2\", \"Topic2\", \"Topic2\", \"Topic2\", \"Topic2\", \"Topic2\", \"Topic2\", \"Topic2\", \"Topic2\", \"Topic2\", \"Topic2\", \"Topic2\", \"Topic2\", \"Topic2\", \"Topic2\", \"Topic2\", \"Topic2\", \"Topic2\", \"Topic2\", \"Topic2\", \"Topic2\", \"Topic2\", \"Topic2\", \"Topic2\", \"Topic2\", \"Topic2\", \"Topic2\", \"Topic2\", \"Topic2\", \"Topic2\", \"Topic2\", \"Topic2\", \"Topic2\", \"Topic2\", \"Topic2\", \"Topic2\", \"Topic2\", \"Topic2\", \"Topic2\", \"Topic2\", \"Topic2\", \"Topic2\", \"Topic2\", \"Topic2\", \"Topic2\", \"Topic2\", \"Topic2\", \"Topic2\", \"Topic2\", \"Topic2\", \"Topic2\", \"Topic2\", \"Topic2\", \"Topic3\", \"Topic3\", \"Topic3\", \"Topic3\", \"Topic3\", \"Topic3\", \"Topic3\", \"Topic3\", \"Topic3\", \"Topic3\", \"Topic3\", \"Topic3\", \"Topic3\", \"Topic3\", \"Topic3\", \"Topic3\", \"Topic3\", \"Topic3\", \"Topic3\", \"Topic3\", \"Topic3\", \"Topic3\", \"Topic3\", \"Topic3\", \"Topic3\", \"Topic3\", \"Topic3\", \"Topic3\", \"Topic3\", \"Topic3\", \"Topic3\", \"Topic3\", \"Topic3\", \"Topic3\", \"Topic3\", \"Topic3\", \"Topic3\", \"Topic3\", \"Topic3\", \"Topic3\", \"Topic3\", \"Topic3\", \"Topic3\", \"Topic3\", \"Topic3\", \"Topic3\", \"Topic3\", \"Topic3\", \"Topic3\", \"Topic3\", \"Topic3\", \"Topic3\", \"Topic3\", \"Topic3\", \"Topic3\", \"Topic3\", \"Topic3\", \"Topic3\", \"Topic3\", \"Topic3\", \"Topic3\", \"Topic3\", \"Topic3\", \"Topic3\", \"Topic3\", \"Topic4\", \"Topic4\", \"Topic4\", \"Topic4\", \"Topic4\", \"Topic4\", \"Topic4\", \"Topic4\", \"Topic4\", \"Topic4\", \"Topic4\", \"Topic4\", \"Topic4\", \"Topic4\", \"Topic4\", \"Topic4\", \"Topic4\", \"Topic4\", \"Topic4\", \"Topic4\", \"Topic4\", \"Topic4\", \"Topic4\", \"Topic4\", \"Topic4\", \"Topic4\", \"Topic4\", \"Topic4\", \"Topic4\", \"Topic4\", \"Topic4\", \"Topic4\", \"Topic4\", \"Topic4\", \"Topic4\", \"Topic4\", \"Topic4\", \"Topic4\", \"Topic4\", \"Topic4\", \"Topic4\", \"Topic4\", \"Topic4\", \"Topic4\", \"Topic4\", \"Topic4\", \"Topic4\", \"Topic4\", \"Topic4\", \"Topic4\", \"Topic4\", \"Topic4\", \"Topic4\", \"Topic4\", \"Topic4\", \"Topic4\", \"Topic4\", \"Topic4\", \"Topic4\", \"Topic4\", \"Topic5\", \"Topic5\", \"Topic5\", \"Topic5\", \"Topic5\", \"Topic5\", \"Topic5\", \"Topic5\", \"Topic5\", \"Topic5\", \"Topic5\", \"Topic5\", \"Topic5\", \"Topic5\", \"Topic5\", \"Topic5\", \"Topic5\", \"Topic5\", \"Topic5\", \"Topic5\", \"Topic5\", \"Topic5\", \"Topic5\", \"Topic5\", \"Topic5\", \"Topic5\", \"Topic5\", \"Topic5\", \"Topic5\", \"Topic5\", \"Topic5\", \"Topic5\", \"Topic5\", \"Topic5\", \"Topic5\", \"Topic5\", \"Topic5\", \"Topic5\", \"Topic5\", \"Topic5\", \"Topic5\", \"Topic5\", \"Topic5\", \"Topic5\", \"Topic5\", \"Topic5\", \"Topic5\", \"Topic5\", \"Topic5\", \"Topic5\", \"Topic5\", \"Topic5\", \"Topic5\", \"Topic5\", \"Topic5\", \"Topic5\", \"Topic5\", \"Topic5\", \"Topic5\", \"Topic5\", \"Topic5\", \"Topic5\", \"Topic5\", \"Topic5\", \"Topic6\", \"Topic6\", \"Topic6\", \"Topic6\", \"Topic6\", \"Topic6\", \"Topic6\", \"Topic6\", \"Topic6\", \"Topic6\", \"Topic6\", \"Topic6\", \"Topic6\", \"Topic6\", \"Topic6\", \"Topic6\", \"Topic6\", \"Topic6\", \"Topic6\", \"Topic6\", \"Topic6\", \"Topic6\", \"Topic6\", \"Topic6\", \"Topic6\", \"Topic6\", \"Topic6\", \"Topic6\", \"Topic6\", \"Topic6\", \"Topic6\", \"Topic6\", \"Topic6\", \"Topic6\", \"Topic6\", \"Topic6\", \"Topic6\", \"Topic6\", \"Topic6\", \"Topic6\", \"Topic6\", \"Topic6\", \"Topic6\", \"Topic6\", \"Topic6\", \"Topic6\", \"Topic6\", \"Topic6\", \"Topic7\", \"Topic7\", \"Topic7\", \"Topic7\", \"Topic7\", \"Topic7\", \"Topic7\", \"Topic7\", \"Topic7\", \"Topic7\", \"Topic7\", \"Topic7\", \"Topic7\", \"Topic7\", \"Topic7\", \"Topic7\", \"Topic7\", \"Topic7\", \"Topic7\", \"Topic7\", \"Topic7\", \"Topic7\", \"Topic7\", \"Topic7\", \"Topic7\", \"Topic7\", \"Topic7\", \"Topic7\", \"Topic7\", \"Topic7\", \"Topic7\", \"Topic7\", \"Topic7\", \"Topic7\", \"Topic7\", \"Topic7\", \"Topic7\", \"Topic7\", \"Topic7\", \"Topic7\", \"Topic7\", \"Topic7\", \"Topic7\", \"Topic7\", \"Topic7\", \"Topic7\", \"Topic7\", \"Topic7\", \"Topic7\", \"Topic7\", \"Topic7\", \"Topic7\", \"Topic7\", \"Topic7\", \"Topic7\", \"Topic7\", \"Topic7\", \"Topic7\", \"Topic7\", \"Topic7\", \"Topic8\", \"Topic8\", \"Topic8\", \"Topic8\", \"Topic8\", \"Topic8\", \"Topic8\", \"Topic8\", \"Topic8\", \"Topic8\", \"Topic8\", \"Topic8\", \"Topic8\", \"Topic8\", \"Topic8\", \"Topic8\", \"Topic8\", \"Topic8\", \"Topic8\", \"Topic8\", \"Topic8\", \"Topic8\", \"Topic8\", \"Topic8\", \"Topic8\", \"Topic8\", \"Topic8\", \"Topic8\", \"Topic8\", \"Topic8\", \"Topic8\", \"Topic8\", \"Topic8\", \"Topic8\", \"Topic8\", \"Topic8\", \"Topic8\", \"Topic8\", \"Topic8\", \"Topic8\", \"Topic8\", \"Topic8\", \"Topic8\", \"Topic8\", \"Topic8\", \"Topic8\", \"Topic8\", \"Topic8\", \"Topic8\", \"Topic8\", \"Topic8\", \"Topic8\", \"Topic8\", \"Topic8\", \"Topic8\", \"Topic8\", \"Topic8\", \"Topic8\"], \"logprob\": [30.0, 29.0, 28.0, 27.0, 26.0, 25.0, 24.0, 23.0, 22.0, 21.0, 20.0, 19.0, 18.0, 17.0, 16.0, 15.0, 14.0, 13.0, 12.0, 11.0, 10.0, 9.0, 8.0, 7.0, 6.0, 5.0, 4.0, 3.0, 2.0, 1.0, -5.000999927520752, -5.804699897766113, -5.850500106811523, -6.283899784088135, -5.42080020904541, -4.256100177764893, -6.71750020980835, -6.714900016784668, -6.847499847412109, -6.894499778747559, -6.911399841308594, -6.920400142669678, -6.948200225830078, -6.887599945068359, -7.140399932861328, -7.137499809265137, -7.1427998542785645, -7.092100143432617, -7.191299915313721, -7.23199987411499, -7.2347002029418945, -7.251399993896484, -7.256100177764893, -7.29040002822876, -7.2164998054504395, -7.294600009918213, -7.312699794769287, -7.321899890899658, -7.3668999671936035, -7.38129997253418, -6.335400104522705, -6.44950008392334, -5.365900039672852, -4.870100021362305, -5.905900001525879, -6.3130998611450195, -5.5524001121521, -5.908199787139893, -5.725399971008301, -5.954100131988525, -5.953700065612793, -4.413400173187256, -4.826499938964844, -5.848400115966797, -6.2230000495910645, -4.373000144958496, -4.302599906921387, -5.471499919891357, -5.130099773406982, -5.039899826049805, -5.80049991607666, -4.831900119781494, -4.916600227355957, -5.648200035095215, -5.093400001525879, -3.469099998474121, -5.350599765777588, -4.744500160217285, -5.389999866485596, -4.135700225830078, -4.736000061035156, -4.119999885559082, -4.952700138092041, -4.34630012512207, -4.8308000564575195, -5.0467000007629395, -4.775199890136719, -4.844399929046631, -5.425600051879883, -5.394999980926514, -5.262599945068359, -5.2866997718811035, -5.405399799346924, -5.987800121307373, -6.6356000900268555, -6.710899829864502, -6.712699890136719, -6.719200134277344, -7.0157999992370605, -7.127500057220459, -7.155399799346924, -7.159200191497803, -7.17549991607666, -7.229300022125244, -7.234600067138672, -7.251999855041504, -7.25629997253418, -7.353499889373779, -7.395100116729736, -7.5416998863220215, -7.585700035095215, -7.607699871063232, -7.606200218200684, -6.801000118255615, -7.657599925994873, -7.679599761962891, -7.6778998374938965, -7.684500217437744, -7.711900234222412, -7.712200164794922, -7.733799934387207, -7.75570011138916, -7.782700061798096, -4.363399982452393, -6.310400009155273, -6.741700172424316, -7.071000099182129, -5.9953999519348145, -5.8582000732421875, -6.301799774169922, -6.827400207519531, -3.257200002670288, -6.148900032043457, -4.463900089263916, -3.217400074005127, -4.011099815368652, -6.741199970245361, -5.438199996948242, -4.259500026702881, -6.200399875640869, -5.906899929046631, -3.0596001148223877, -3.6733999252319336, -5.350800037384033, -6.117000102996826, -5.223199844360352, -6.321899890899658, -5.281700134277344, -5.692699909210205, -4.979700088500977, -4.8256001472473145, -5.371699810028076, -4.345200061798096, -5.143899917602539, -4.767099857330322, -5.170199871063232, -4.4816999435424805, -5.040200233459473, -4.467599868774414, -4.9028000831604, -5.3480000495910645, -5.024600028991699, -5.15369987487793, -5.376200199127197, -5.2154998779296875, -5.435500144958496, -5.370100021362305, -5.355400085449219, -5.565199851989746, -6.081099987030029, -6.1996002197265625, -6.3246002197265625, -6.368100166320801, -6.3815999031066895, -6.417600154876709, -6.433700084686279, -6.560299873352051, -6.572800159454346, -6.634399890899658, -6.644700050354004, -6.645199775695801, -6.661499977111816, -6.673799991607666, -6.679699897766113, -6.687600135803223, -6.696400165557861, -6.721099853515625, -6.779600143432617, -6.84060001373291, -6.862299919128418, -6.880799770355225, -6.945199966430664, -6.986599922180176, -6.990300178527832, -7.08519983291626, -7.112400054931641, -7.124499797821045, -7.169099807739258, -4.957600116729736, -6.572700023651123, -3.8756000995635986, -3.39520001411438, -3.7047998905181885, -5.237100124359131, -4.311999797821045, -4.798299789428711, -5.238399982452393, -3.193700075149536, -5.338699817657471, -4.9670000076293945, -5.615699768066406, -4.365900039672852, -5.796899795532227, -6.386499881744385, -4.685400009155273, -6.087500095367432, -6.185200214385986, -4.235199928283691, -3.3468000888824463, -4.930500030517578, -5.282400131225586, -5.144599914550781, -4.98960018157959, -5.503499984741211, -5.115799903869629, -4.951200008392334, -4.319699764251709, -5.7519001960754395, -4.829899787902832, -4.843599796295166, -5.066299915313721, -5.546599864959717, -5.55810022354126, -4.481400012969971, -4.663300037384033, -5.401500225067139, -5.638599872589111, -5.644400119781494, -5.899899959564209, -5.936999797821045, -6.083700180053711, -6.085400104522705, -6.103400230407715, -6.120200157165527, -6.451900005340576, -6.4679999351501465, -6.479899883270264, -6.496600151062012, -6.519700050354004, -6.522900104522705, -6.566400051116943, -6.584700107574463, -6.5883002281188965, -6.6118998527526855, -6.724699974060059, -6.8983001708984375, -6.917399883270264, -6.917099952697754, -6.922399997711182, -6.9293999671936035, -6.958199977874756, -6.974800109863281, -6.983699798583984, -5.034800052642822, -5.055500030517578, -3.7186999320983887, -5.404099941253662, -6.368899822235107, -5.126999855041504, -4.921599864959717, -5.039000034332275, -5.4868998527526855, -4.8979997634887695, -4.387800216674805, -6.185699939727783, -6.229100227355957, -5.440199851989746, -6.175000190734863, -5.632599830627441, -5.5843000411987305, -5.071700096130371, -6.242599964141846, -5.6433000564575195, -4.91510009765625, -5.312699794769287, -4.801400184631348, -5.416399955749512, -5.769899845123291, -5.844699859619141, -5.422500133514404, -5.589399814605713, -5.758399963378906, -5.860899925231934, -5.218999862670898, -5.347499847412109, -5.597400188446045, -5.91949987411499, -6.082600116729736, -6.16379976272583, -6.184599876403809, -6.22760009765625, -6.248799800872803, -6.366099834442139, -6.533699989318848, -6.581500053405762, -6.7067999839782715, -6.740499973297119, -6.836400032043457, -6.847700119018555, -6.8618998527526855, -6.907899856567383, -6.930200099945068, -6.998700141906738, -6.916399955749512, -7.077400207519531, -7.086999893188477, -7.095399856567383, -7.144000053405762, -7.182799816131592, -6.393099784851074, -7.197700023651123, -7.208600044250488, -7.209199905395508, -6.710999965667725, -5.313499927520752, -5.199399948120117, -5.046299934387207, -6.175000190734863, -6.559299945831299, -6.260300159454346, -6.7571001052856445, -6.306099891662598, -6.487500190734863, -4.86329984664917, -6.01800012588501, -4.848700046539307, -5.388599872589111, -5.3180999755859375, -5.844799995422363, -5.552700042724609, -5.4375, -5.159800052642822, -5.807400226593018, -5.210299968719482, -4.704100131988525, -5.9654998779296875, -5.453999996185303, -5.5046000480651855, -5.495100021362305, -5.858399868011475, -5.932000160217285, -5.837500095367432, -5.58050012588501, -5.710599899291992, -5.928299903869629, -5.960999965667725, -5.980999946594238, -4.105800151824951, -4.762899875640869, -4.989099979400635, -5.1774001121521, -5.3018999099731445, -5.328800201416016, -5.341100215911865, -5.359799861907959, -5.367099761962891, -5.37470006942749, -5.502999782562256, -5.655700206756592, -5.811999797821045, -5.957900047302246, -6.047900199890137, -6.059000015258789, -6.092800140380859, -6.0954999923706055, -6.107699871063232, -6.151100158691406, -6.157199859619141, -6.187900066375732, -6.254899978637695, -6.264500141143799, -6.271399974822998, -6.328999996185303, -6.338799953460693, -6.348999977111816, -6.3805999755859375, -6.384399890899658, -4.698800086975098, -5.743199825286865, -5.8917999267578125, -6.037600040435791, -4.91949987411499, -5.064899921417236, -4.1057000160217285, -4.875699996948242, -5.157400131225586, -5.127699851989746, -5.855000019073486, -5.516499996185303, -5.2881999015808105, -5.32480001449585, -5.897200107574463, -5.377600193023682, -5.350800037384033, -5.927299976348877, -5.777500152587891, -5.898399829864502, -6.070199966430664, -6.171299934387207, -6.295100212097168, -6.386000156402588, -6.4567999839782715, -6.467100143432617, -6.4984002113342285, -6.569900035858154, -6.63040018081665, -6.636000156402588, -6.735300064086914, -6.752600193023682, -6.7677998542785645, -6.771399974822998, -6.781700134277344, -6.823299884796143, -6.844600200653076, -6.879000186920166, -6.894499778747559, -6.911499977111816, -6.93209981918335, -6.961999893188477, -6.970099925994873, -6.984399795532227, -6.988800048828125, -7.011000156402588, -5.828499794006348, -7.0320000648498535, -5.961599826812744, -6.197500228881836, -4.299099922180176, -5.4944000244140625, -6.47160005569458, -6.099999904632568, -5.554900169372559, -6.597099781036377, -4.890999794006348, -5.579599857330322, -5.6143999099731445, -5.895899772644043, -5.396500110626221, -5.448599815368652, -6.442299842834473, -6.228099822998047, -6.542900085449219, -5.603099822998047, -5.129799842834473, -5.915800094604492, -5.41510009765625, -5.952300071716309, -5.998899936676025, -5.951300144195557, -5.969299793243408, -6.265600204467773, -6.063399791717529, -6.312300205230713, -6.264400005340576, -6.206200122833252, -5.406099796295166, -5.938600063323975, -6.008600234985352, -6.270100116729736, -6.290999889373779, -6.491399765014648, -6.545300006866455, -6.6732001304626465, -6.688899993896484, -6.702099800109863, -6.750500202178955, -6.805200099945068, -6.80679988861084, -6.90369987487793, -6.962699890136719, -6.964099884033203, -6.969699859619141, -6.983799934387207, -6.991099834442139, -6.996500015258789, -7.019999980926514, -7.044300079345703, -7.074699878692627, -7.077099800109863, -7.094900131225586, -7.126699924468994, -7.13100004196167, -7.13100004196167, -7.156300067901611, -7.16540002822876, -6.26230001449585, -6.39870023727417, -6.1209001541137695, -6.048099994659424, -6.0447998046875, -6.602499961853027, -6.195799827575684, -6.259799957275391, -4.859399795532227, -6.079100131988525, -6.032199859619141, -6.527200222015381, -5.635700225830078, -5.508200168609619, -6.378399848937988, -5.6803998947143555, -5.200399875640869, -5.755799770355225, -5.886099815368652, -5.479300022125244, -6.3516998291015625, -6.047399997711182, -5.9344000816345215, -6.194399833679199, -5.841000080108643, -6.149400234222412, -6.178599834442139, -6.133699893951416], \"loglift\": [30.0, 29.0, 28.0, 27.0, 26.0, 25.0, 24.0, 23.0, 22.0, 21.0, 20.0, 19.0, 18.0, 17.0, 16.0, 15.0, 14.0, 13.0, 12.0, 11.0, 10.0, 9.0, 8.0, 7.0, 6.0, 5.0, 4.0, 3.0, 2.0, 1.0, 1.420300006866455, 1.416100025177002, 1.4155999422073364, 1.4113999605178833, 1.4108999967575073, 1.4075000286102295, 1.4048000574111938, 1.404099941253662, 1.4020999670028687, 1.4011000394821167, 1.4006999731063843, 1.4000999927520752, 1.399899959564209, 1.398300051689148, 1.3948999643325806, 1.3948999643325806, 1.3947999477386475, 1.3944000005722046, 1.3933000564575195, 1.3919999599456787, 1.3919999599456787, 1.3914999961853027, 1.3912999629974365, 1.3903000354766846, 1.3903000354766846, 1.3901000022888184, 1.3895000219345093, 1.38919997215271, 1.3874000310897827, 1.3870999813079834, 1.3842999935150146, 1.375, 1.3486000299453735, 1.3170000314712524, 1.3487999439239502, 1.348099946975708, 1.3030999898910522, 1.307800054550171, 1.294700026512146, 1.2857999801635742, 1.2819000482559204, 1.1074999570846558, 1.124500036239624, 1.2422000169754028, 1.2832000255584717, 1.0117000341415405, 0.9918000102043152, 1.1617000102996826, 1.1033999919891357, 1.0849000215530396, 1.1756000518798828, 0.9545000195503235, 0.9728000164031982, 1.1087000370025635, 0.9419999718666077, 0.361299991607666, 1.006700038909912, 0.7652999758720398, 1.0118999481201172, 0.38940000534057617, 0.6722999811172485, 0.32989999651908875, 0.6651999950408936, 0.20020000636577606, 0.5314000248908997, 0.6337000131607056, 0.24230000376701355, 0.24690000712871552, 0.9380000233650208, 0.8950999975204468, 0.5060999989509583, -0.5400000214576721, 0.4553000032901764, 1.6643999814987183, 1.65339994430542, 1.651900053024292, 1.6518000364303589, 1.6517000198364258, 1.6433000564575195, 1.639299988746643, 1.6383999586105347, 1.6382999420166016, 1.6375999450683594, 1.635599970817566, 1.6354000568389893, 1.634600043296814, 1.6344000101089478, 1.6303000450134277, 1.6283999681472778, 1.621000051498413, 1.618499994277954, 1.617400050163269, 1.6171000003814697, 1.6167999505996704, 1.614300012588501, 1.6131000518798828, 1.6130000352859497, 1.6126999855041504, 1.61080002784729, 1.6105999946594238, 1.6096999645233154, 1.608299970626831, 1.6065000295639038, 1.569000005722046, 1.573199987411499, 1.5851999521255493, 1.593000054359436, 1.5478999614715576, 1.5140000581741333, 1.5329999923706055, 1.5649000406265259, 1.2892999649047852, 1.5051000118255615, 1.3526999950408936, 1.2324999570846558, 1.2697999477386475, 1.541200041770935, 1.3344999551773071, 1.1025999784469604, 1.4385000467300415, 1.361799955368042, 0.770799994468689, 0.8517000079154968, 1.2125999927520752, 1.3884999752044678, 1.1470999717712402, 1.4142999649047852, 1.104599952697754, 1.2254999876022339, 1.0002000331878662, 0.9430999755859375, 1.1188000440597534, 0.7461000084877014, 1.0094000101089478, 0.8507999777793884, 1.0037000179290771, 0.5357999801635742, 0.8205000162124634, 0.2791000008583069, 0.5055000185966492, 0.7979000210762024, 0.4851999878883362, 0.5266000032424927, 0.5131000280380249, 0.027499999850988388, 0.3734000027179718, 0.179299995303154, 0.02930000051856041, 2.1440999507904053, 2.1356000900268555, 2.1328999996185303, 2.1298000812530518, 2.1285998821258545, 2.128200054168701, 2.12719988822937, 2.126699924468994, 2.1226999759674072, 2.1219000816345215, 2.1201000213623047, 2.1196999549865723, 2.119499921798706, 2.1191000938415527, 2.1185998916625977, 2.1184000968933105, 2.118000030517578, 2.117799997329712, 2.11680006980896, 2.114300012588501, 2.111799955368042, 2.11080002784729, 2.109999895095825, 2.1070001125335693, 2.1048998832702637, 2.1043999195098877, 2.099600076675415, 2.098099946975708, 2.097399950027466, 2.0945000648498535, 2.0855000019073486, 2.0887999534606934, 2.004499912261963, 1.8478000164031982, 1.844599962234497, 1.9478000402450562, 1.84089994430542, 1.8901000022888184, 1.9306000471115112, 1.5529999732971191, 1.8710999488830566, 1.753499984741211, 1.8533999919891357, 1.4429999589920044, 1.8388999700546265, 2.0250000953674316, 1.4371000528335571, 1.9113999605178833, 1.9359999895095825, 1.045799970626831, 0.4837000072002411, 1.2228000164031982, 1.416599988937378, 1.2417000532150269, 1.0723999738693237, 1.4289000034332275, 1.0693000555038452, 0.8654999732971191, 0.2054000049829483, 1.5575000047683716, 0.5784000158309937, 0.45089998841285706, 0.4544999897480011, 1.183500051498413, 1.0053999423980713, 2.228800058364868, 2.2279000282287598, 2.2218000888824463, 2.2186999320983887, 2.218600034713745, 2.2142999172210693, 2.213599920272827, 2.2105000019073486, 2.210400104522705, 2.20989990234375, 2.2095999717712402, 2.2002999782562256, 2.1998000144958496, 2.199199914932251, 2.198699951171875, 2.197999954223633, 2.197999954223633, 2.1963000297546387, 2.19569993019104, 2.1956000328063965, 2.194700002670288, 2.1900999546051025, 2.1819000244140625, 2.1812000274658203, 2.1812000274658203, 2.180999994277954, 2.1805999279022217, 2.1791000366210938, 2.1782000064849854, 2.1777000427246094, 2.1512999534606934, 2.100800037384033, 2.0311999320983887, 2.102299928665161, 2.151900053024292, 1.9386999607086182, 1.8889000415802002, 1.9007999897003174, 1.9287999868392944, 1.7339999675750732, 1.5039000511169434, 2.0072999000549316, 1.9788999557495117, 1.3702000379562378, 1.930299997329712, 1.4758000373840332, 1.3802000284194946, 0.8761000037193298, 1.9586999416351318, 1.25409996509552, 0.10239999741315842, 0.19709999859333038, -0.9708999991416931, 0.22550000250339508, 1.0363999605178833, 1.0748000144958496, -0.8974000215530396, -0.49810001254081726, 0.2770000100135803, -1.114300012588501, 2.259500026702881, 2.2581000328063965, 2.2548999786376953, 2.2492001056671143, 2.245699882507324, 2.2435998916625977, 2.2430999279022217, 2.2418999671936035, 2.2414000034332275, 2.2379000186920166, 2.232100009918213, 2.2304000854492188, 2.225100040435791, 2.223599910736084, 2.2191998958587646, 2.218600034713745, 2.217900037765503, 2.215399980545044, 2.214200019836426, 2.2105000019073486, 2.2095000743865967, 2.2058000564575195, 2.205199956893921, 2.204699993133545, 2.2014999389648438, 2.1989998817443848, 2.198899984359741, 2.1979000568389893, 2.1970999240875244, 2.1970999240875244, 2.1923999786376953, 2.159600019454956, 2.156899929046631, 2.1310999393463135, 2.1547000408172607, 2.143399953842163, 2.1048998832702637, 2.1559998989105225, 2.06469988822937, 2.09689998626709, 1.6994999647140503, 1.9128999710083008, 1.4846999645233154, 1.6239999532699585, 1.570199966430664, 1.760699987411499, 1.5628000497817993, 1.3878999948501587, 0.972100019454956, 1.4991999864578247, 0.9046000242233276, 0.313400000333786, 1.587399959564209, 0.9520999789237976, 0.8870000243186951, 0.6273999810218811, 1.1246999502182007, 1.1763999462127686, 0.8295000195503235, -0.48919999599456787, 0.07580000162124634, 0.9200999736785889, 1.0241999626159668, -1.5311000347137451, 2.42330002784729, 2.420099973678589, 2.4182000160217285, 2.416300058364868, 2.4147000312805176, 2.414400100708008, 2.4142000675201416, 2.4140000343322754, 2.4138998985290527, 2.413800001144409, 2.411900043487549, 2.4093000888824463, 2.4061999320983887, 2.402899980545044, 2.4005000591278076, 2.4001998901367188, 2.3993000984191895, 2.399199962615967, 2.398900032043457, 2.3975000381469727, 2.3975000381469727, 2.3965001106262207, 2.394399881362915, 2.3940999507904053, 2.393699884414673, 2.391900062561035, 2.391400098800659, 2.391200065612793, 2.390000104904175, 2.389899969100952, 2.2613000869750977, 2.329400062561035, 2.335700035095215, 2.3366000652313232, 2.047100067138672, 2.021699905395508, 1.5362000465393066, 1.8147000074386597, 1.7309000492095947, 1.697700023651123, 2.134999990463257, 1.5988999605178833, 1.2746000289916992, 1.3035999536514282, 2.0905001163482666, 0.7542999982833862, -1.520300030708313, 0.958899974822998, 2.4205000400543213, 2.4179000854492188, 2.4135000705718994, 2.4105000495910645, 2.4065001010894775, 2.4031999111175537, 2.400399923324585, 2.400099992752075, 2.3987998962402344, 2.395699977874756, 2.392899990081787, 2.3926000595092773, 2.387700080871582, 2.386699914932251, 2.3859000205993652, 2.385699987411499, 2.385200023651123, 2.3828999996185303, 2.3815999031066895, 2.3796000480651855, 2.378700017929077, 2.3775999546051025, 2.3763999938964844, 2.374500036239624, 2.3738999366760254, 2.372999906539917, 2.3726000785827637, 2.3710999488830566, 2.3701000213623047, 2.3696000576019287, 2.2019999027252197, 2.2074999809265137, 1.6486999988555908, 1.8853000402450562, 2.20989990234375, 2.078200101852417, 1.854699969291687, 2.250200033187866, 1.5151000022888184, 1.7511999607086182, 1.7453999519348145, 1.8651000261306763, 1.5565999746322632, 1.357699990272522, 2.105799913406372, 1.7888000011444092, 2.1403000354766846, 0.7303000092506409, -0.03849999979138374, 1.142699956893921, -0.39750000834465027, 0.7146999835968018, 0.7330999970436096, 0.4124000072479248, 0.3208000063896179, 1.482200026512146, 0.438400000333786, 1.579200029373169, 1.0032999515533447, -0.08129999786615372, 2.6305999755859375, 2.6180999279022217, 2.6159000396728516, 2.6064000129699707, 2.6054999828338623, 2.5961999893188477, 2.593400001525879, 2.5861001014709473, 2.585099935531616, 2.5843000411987305, 2.581199884414673, 2.5776000022888184, 2.577199935913086, 2.5703999996185303, 2.5659000873565674, 2.5657999515533447, 2.5652999877929688, 2.564199924468994, 2.5636000633239746, 2.5631000995635986, 2.5611000061035156, 2.5590999126434326, 2.5566000938415527, 2.5560998916625977, 2.5546000003814697, 2.551800012588501, 2.551500082015991, 2.551500082015991, 2.548799991607666, 2.5478999614715576, 2.5478999614715576, 2.4730000495910645, 2.4052999019622803, 2.3469998836517334, 2.283600091934204, 2.402899980545044, 2.2339999675750732, 2.1975998878479004, 1.5465999841690063, 2.0804998874664307, 1.9641000032424927, 2.226900100708008, 1.4228999614715576, 1.1801999807357788, 2.0071001052856445, 1.2726000547409058, 0.6797999739646912, 1.2273000478744507, 1.3473000526428223, 0.4717999994754791, 1.9193999767303467, 1.0815999507904053, 0.7975000143051147, 1.2747000455856323, 0.050700001418590546, 1.019700050354004, 0.7404000163078308, -0.4918999969959259]}, \"token.table\": {\"Topic\": [1, 2, 3, 4, 5, 7, 8, 5, 1, 2, 3, 7, 5, 2, 3, 4, 6, 7, 2, 3, 4, 5, 6, 7, 5, 2, 4, 5, 5, 7, 2, 4, 5, 7, 2, 7, 1, 7, 3, 1, 2, 4, 1, 4, 2, 6, 1, 8, 1, 2, 3, 4, 5, 7, 8, 2, 4, 7, 4, 6, 8, 7, 1, 5, 1, 2, 5, 7, 8, 1, 2, 4, 5, 7, 7, 7, 4, 1, 5, 6, 1, 2, 3, 5, 6, 7, 8, 1, 2, 1, 2, 5, 6, 7, 7, 1, 2, 4, 5, 7, 2, 7, 8, 5, 7, 1, 2, 1, 4, 4, 5, 1, 1, 5, 4, 5, 7, 8, 4, 1, 2, 3, 4, 5, 6, 1, 2, 4, 5, 6, 7, 7, 1, 2, 3, 4, 5, 7, 8, 1, 2, 3, 4, 7, 8, 1, 2, 3, 4, 6, 7, 8, 2, 2, 3, 4, 7, 8, 1, 2, 4, 7, 4, 2, 8, 3, 2, 5, 8, 1, 2, 4, 5, 6, 7, 8, 3, 5, 8, 1, 2, 3, 5, 6, 7, 7, 4, 4, 5, 3, 8, 3, 3, 3, 1, 7, 8, 4, 8, 3, 3, 8, 7, 4, 6, 1, 1, 5, 7, 7, 6, 4, 5, 5, 4, 1, 2, 2, 1, 3, 7, 8, 6, 1, 2, 3, 5, 8, 3, 6, 1, 2, 3, 5, 3, 1, 6, 2, 5, 1, 2, 3, 1, 2, 3, 5, 6, 7, 8, 7, 1, 4, 5, 7, 1, 7, 1, 2, 3, 4, 5, 6, 7, 6, 1, 2, 3, 5, 7, 8, 1, 2, 3, 4, 5, 7, 3, 3, 1, 2, 5, 7, 1, 2, 4, 6, 1, 6, 4, 2, 3, 4, 5, 7, 1, 2, 3, 4, 6, 8, 7, 2, 3, 5, 8, 2, 3, 4, 8, 1, 2, 3, 4, 5, 6, 7, 8, 8, 1, 2, 3, 6, 6, 1, 4, 3, 3, 3, 3, 8, 2, 3, 2, 8, 1, 1, 2, 7, 2, 8, 1, 6, 8, 8, 2, 3, 7, 1, 2, 3, 4, 5, 2, 3, 1, 2, 3, 4, 6, 5, 5, 4, 6, 1, 2, 3, 4, 1, 2, 3, 5, 4, 5, 7, 8, 1, 2, 3, 4, 6, 8, 2, 3, 5, 1, 2, 3, 6, 3, 3, 6, 2, 3, 7, 1, 2, 3, 4, 5, 7, 3, 4, 2, 4, 7, 8, 1, 2, 3, 4, 5, 7, 8, 3, 8, 1, 2, 4, 5, 7, 7, 2, 4, 3, 8, 8, 5, 8, 1, 2, 4, 7, 3, 1, 4, 6, 7, 2, 8, 4, 6, 1, 6, 7, 8, 1, 4, 5, 1, 1, 2, 5, 6, 1, 3, 5, 6, 1, 2, 3, 5, 1, 2, 3, 5, 8, 8, 1, 2, 3, 4, 2, 3, 8, 1, 8, 5, 6, 7, 8, 6, 5, 6, 5, 7, 1, 2, 3, 4, 5, 6, 1, 2, 3, 5, 6, 8, 4, 2, 3, 5, 8, 5, 8, 5, 8, 6, 8, 1, 4, 5, 1, 2, 3, 1, 2, 4, 5, 7, 1, 2, 3, 5, 6, 1, 5, 6, 1, 7, 4, 1, 2, 3, 4, 6, 7, 1, 2, 3, 4, 6, 1, 2, 4, 5, 8, 5, 1, 6, 6, 6, 1, 4, 7, 6, 8, 1, 2, 5, 5, 2, 3, 6, 1, 2, 3, 4, 7, 4, 6, 7, 4, 4, 1, 2, 3, 4, 5, 6, 7, 1, 2, 5, 6, 8, 5, 8, 1, 2, 3, 1, 2, 3, 4, 5, 6, 7, 6, 3, 6, 4, 7, 1, 2, 4, 6, 7, 8, 5, 2, 5, 4, 1, 7, 4, 8, 3, 2, 3, 3, 7, 2, 8, 7, 7, 2, 4, 4, 5, 2, 1, 1, 2, 3, 4, 8, 3, 1, 2, 4, 5, 7, 8, 1, 2, 3, 4, 5, 7, 8, 8, 5, 2, 6, 1, 1, 1, 2, 3, 4, 5, 7, 8, 2, 6, 1, 2, 3, 4, 5, 6, 8, 3, 4, 7, 8, 5, 2, 6, 2, 2, 4, 8, 5, 4, 5, 6, 7, 8, 5, 7, 2, 8, 4, 1, 3, 5, 8, 1, 3, 4, 5, 1, 3, 4, 2, 5, 2, 6, 8, 1, 4, 3, 1, 2, 3, 5, 7, 2, 5, 3, 5, 7, 8, 7, 1, 4, 5, 7, 8, 5, 1, 2, 3, 4, 5, 6, 7, 8, 1, 2, 3, 4, 5, 6, 8, 5, 7, 8, 5, 7, 4, 1, 2, 3, 4, 6, 1, 2, 7, 2, 3, 1, 3, 3, 1, 2, 3, 4, 5, 7, 8, 2, 8, 1, 2, 3, 5, 6, 7, 3, 2, 6, 1, 2, 5, 8, 3, 1, 5, 2, 8, 2, 2, 7, 1, 2, 4, 5, 7, 8, 8, 1, 3, 1, 2, 3, 1, 2, 3, 6, 4, 2, 7, 6, 5, 2, 5, 1, 7, 3, 3, 8, 2, 3, 7, 3, 8, 1, 2, 3, 4, 5, 7, 8, 1, 2, 3, 5, 6, 7, 1, 8, 1, 2, 4, 5, 8, 2, 2, 2, 3, 4, 7, 1, 3, 4, 6, 2, 1, 2, 3, 4, 5, 8, 7, 5, 6, 8, 5, 5, 6, 8, 6, 2, 4, 4, 5, 7, 8, 8, 5, 4, 4, 1, 4, 7, 4, 7, 1, 2, 3, 4, 6, 7, 8, 1, 4, 5, 6, 8, 7, 6, 2, 8, 8, 1, 4, 7, 6, 5, 8, 1, 2, 1, 1, 5, 6, 8, 5, 1, 2, 5, 6, 6, 7, 1, 5, 7, 1, 3, 1, 2, 3, 4, 5, 6, 7, 2, 1, 1, 2, 3, 4, 5, 6, 7, 6, 4, 3, 6, 5, 2, 2, 6, 1, 2, 5, 7, 5, 1, 2, 3, 4, 7], \"Freq\": [0.08002693206071854, 0.06668911129236221, 0.07113505154848099, 0.13337822258472443, 0.45793187618255615, 0.18228356540203094, 0.013337821699678898, 0.9038700461387634, 0.11970166116952896, 0.2633436620235443, 0.09576132893562317, 0.5266873240470886, 0.9501309990882874, 0.32105210423469543, 0.021403472870588303, 0.29964861273765564, 0.007134491112083197, 0.3353210687637329, 0.03936849534511566, 0.06561415642499924, 0.7348785996437073, 0.013122831471264362, 0.1049826517701149, 0.026245662942528725, 0.9259732961654663, 0.8580055236816406, 0.05986085161566734, 0.07981447130441666, 0.186128631234169, 0.791046679019928, 0.9414352178573608, 0.7490787506103516, 0.13871829211711884, 0.11097463220357895, 0.057418521493673325, 0.9186963438987732, 0.16476844251155853, 0.8238421678543091, 0.9411907196044922, 0.010430779308080673, 0.052153896540403366, 0.9179085493087769, 0.17130647599697113, 0.799430251121521, 0.9139247536659241, 0.06528034061193466, 0.9712746739387512, 0.8958162665367126, 0.3065101206302643, 0.3196292221546173, 0.04770585522055626, 0.1192646399140358, 0.1419249176979065, 0.058439671993255615, 0.007155878469347954, 0.7775042057037354, 0.14465194940567017, 0.07232597470283508, 0.7322942614555359, 0.07846009731292725, 0.1569201946258545, 0.9524845480918884, 0.12667766213417053, 0.8445177674293518, 0.6140968799591064, 0.1374843865633011, 0.10998750478029251, 0.13290156424045563, 0.0045828125439584255, 0.8919774293899536, 0.05373357981443405, 0.010746716521680355, 0.04298686608672142, 0.9184108972549438, 0.9814319610595703, 0.9436635971069336, 0.9660477042198181, 0.9671541452407837, 0.990563154220581, 0.9613118767738342, 0.3157101571559906, 0.3104483187198639, 0.08945121616125107, 0.05788019672036171, 0.05788019672036171, 0.13680773973464966, 0.03683285415172577, 0.24405932426452637, 0.7465344071388245, 0.4187548756599426, 0.26030710339546204, 0.01131769921630621, 0.0679062008857727, 0.23767168819904327, 0.9846685528755188, 0.17908205091953278, 0.3958655893802643, 0.10367908328771591, 0.2497723400592804, 0.06597759574651718, 0.8795682787895203, 0.08944762498140335, 0.014907937496900558, 0.9702051877975464, 0.9248799681663513, 0.865748941898346, 0.12054731696844101, 0.9480117559432983, 0.039500489830970764, 0.74847012758255, 0.2302984893321991, 0.973016083240509, 0.12407786399126053, 0.8685450553894043, 0.42359378933906555, 0.4588932693004608, 0.011766494251787663, 0.08236546069383621, 0.9774394035339355, 0.30326715111732483, 0.511763334274292, 0.07581678777933121, 0.026535876095294952, 0.08339846879243851, 0.0037908393424004316, 0.4034503698348999, 0.10551778972148895, 0.04344850033521652, 0.23586329817771912, 0.03724157437682152, 0.1800009310245514, 0.9688620567321777, 0.04688692092895508, 0.29695048928260803, 0.1562897264957428, 0.3750953674316406, 0.05470140650868416, 0.02344346046447754, 0.0390724316239357, 0.617203950881958, 0.1716288924217224, 0.04620778188109398, 0.1419239044189453, 0.019803334027528763, 0.0033005557488650084, 0.21153223514556885, 0.11355940997600555, 0.08015958219766617, 0.13359931111335754, 0.4097045361995697, 0.006679965183138847, 0.04230644553899765, 0.9616529941558838, 0.27545449137687683, 0.045909080654382706, 0.11018180102109909, 0.27545449137687683, 0.2938181161880493, 0.04963301122188568, 0.33502283692359924, 0.11167427897453308, 0.4963301122188568, 0.9820851683616638, 0.9405664801597595, 0.9613214731216431, 0.9585189819335938, 0.05865893140435219, 0.8798839449882507, 0.9555346369743347, 0.6603180766105652, 0.09107835590839386, 0.08197052031755447, 0.09563226997852325, 0.022769588977098465, 0.036431342363357544, 0.013661753386259079, 0.9640749096870422, 0.9464578032493591, 0.8915085792541504, 0.11346916854381561, 0.19707803428173065, 0.17318978905677795, 0.17916184663772583, 0.322491317987442, 0.011944123543798923, 0.9686731696128845, 0.9223703145980835, 0.9705968499183655, 0.9469983577728271, 0.8590465784072876, 0.13846473395824432, 0.9510422348976135, 0.9894194602966309, 0.9564599990844727, 0.19614183902740479, 0.09807091951370239, 0.6864964365959167, 0.9850860834121704, 0.9394354820251465, 0.942922055721283, 0.19917868077754974, 0.796714723110199, 0.9581789374351501, 0.06844252347946167, 0.9239740371704102, 0.9849475026130676, 0.3417826294898987, 0.07595169544219971, 0.5696377158164978, 0.9496053457260132, 0.9952382445335388, 0.9852197766304016, 0.9409509301185608, 0.9752934575080872, 0.9489612579345703, 0.9668329954147339, 0.9555572271347046, 0.9751036763191223, 0.16567941009998322, 0.13806617259979248, 0.11045293509960175, 0.5798779129981995, 0.9906262159347534, 0.29412662982940674, 0.6790974140167236, 0.00819086842238903, 0.01563711278140545, 0.0029784974176436663, 0.9740262031555176, 0.9837409853935242, 0.29133304953575134, 0.5722613334655762, 0.11445227265357971, 0.02080950327217579, 0.9482725858688354, 0.9879298210144043, 0.007317998446524143, 0.9294593930244446, 0.035748440772295, 0.004656078293919563, 0.6658191680908203, 0.32902953028678894, 0.994387686252594, 0.8543728590011597, 0.13820737600326538, 0.18176938593387604, 0.1487204134464264, 0.41311225295066833, 0.25612959265708923, 0.9545354843139648, 0.96482914686203, 0.9284705519676208, 0.8894038200378418, 0.09727854281663895, 0.9225765466690063, 0.06709647178649902, 0.5875810980796814, 0.025547005236148834, 0.03832050785422325, 0.08941451460123062, 0.05109401047229767, 0.08089885115623474, 0.1192193552851677, 0.9928567409515381, 0.7279554009437561, 0.041428353637456894, 0.18149565160274506, 0.003945557400584221, 0.03156445920467377, 0.011836673133075237, 0.6628639101982117, 0.19283312559127808, 0.08952967077493668, 0.010330346412956715, 0.015495519153773785, 0.02926931530237198, 0.9762391448020935, 0.9761900305747986, 0.6359769701957703, 0.31371060013771057, 0.019963402301073074, 0.03137106075882912, 0.4214581847190857, 0.5088717341423035, 0.06556016206741333, 0.0031219124794006348, 0.9893900752067566, 0.9877412915229797, 0.9589040279388428, 0.2328193336725235, 0.03628353402018547, 0.2570083439350128, 0.0211653932929039, 0.45354416966438293, 0.14736659824848175, 0.27104929089546204, 0.4894676208496094, 0.07894638925790787, 0.007894638925790787, 0.002631546463817358, 0.9217616319656372, 0.10983879864215851, 0.17574207484722137, 0.7029682993888855, 0.9641477465629578, 0.04702363908290863, 0.775890052318573, 0.04702363908290863, 0.09404727816581726, 0.45354822278022766, 0.3170209527015686, 0.046280428767204285, 0.06942064315080643, 0.034710321575403214, 0.04396640881896019, 0.030082279816269875, 0.004628043156117201, 0.8574867844581604, 0.006898620165884495, 0.7105578780174255, 0.25524893403053284, 0.02759448066353798, 0.9765958786010742, 0.9668182134628296, 0.9435259699821472, 0.9237359166145325, 0.9647336602210999, 0.9797976613044739, 0.7998253703117371, 0.19482925534248352, 0.18752099573612213, 0.812591016292572, 0.9827881455421448, 0.9372549057006836, 0.9806444048881531, 0.37067002058029175, 0.07413400709629059, 0.55600506067276, 0.05292068049311638, 0.8996515870094299, 0.3116299510002136, 0.6704765558242798, 0.018886663019657135, 0.9065559506416321, 0.8991341590881348, 0.09824975579977036, 0.00297726527787745, 0.032039981335401535, 0.42292773723602295, 0.47419172525405884, 0.03844797611236572, 0.032039981335401535, 0.26165276765823364, 0.7195451259613037, 0.35568690299987793, 0.4380488395690918, 0.14212898910045624, 0.043731994926929474, 0.0204082652926445, 0.9618527293205261, 0.9747554659843445, 0.9762381315231323, 0.9777376651763916, 0.7242404222488403, 0.06437692791223526, 0.18910722434520721, 0.02011778950691223, 0.17699159681797028, 0.21238991618156433, 0.554573655128479, 0.04719775915145874, 0.2290455847978592, 0.15671540796756744, 0.506311297416687, 0.10849528014659882, 0.19838079810142517, 0.5905289053916931, 0.10149715095758438, 0.02306753396987915, 0.05536208301782608, 0.02768104150891304, 0.17074967920780182, 0.7275421023368835, 0.1002226397395134, 0.02428165264427662, 0.4856330454349518, 0.4856330454349518, 0.968017041683197, 0.9847055077552795, 0.7475966215133667, 0.2456388771533966, 0.1328601986169815, 0.7971612215042114, 0.05314408242702484, 0.1719260811805725, 0.028654346242547035, 0.07163586467504501, 0.42265161871910095, 0.18625324964523315, 0.12178096920251846, 0.9782246351242065, 0.9692692756652832, 0.11725400388240814, 0.14070481061935425, 0.23450800776481628, 0.5159175992012024, 0.1400848627090454, 0.24742262065410614, 0.546694815158844, 0.03547603636980057, 0.028198901563882828, 0.0018192839343100786, 0.0009096419671550393, 0.9121630191802979, 0.04560815170407295, 0.007442728150635958, 0.15381638705730438, 0.8162192106246948, 0.01736636646091938, 0.002480909461155534, 0.9397892951965332, 0.03962422534823418, 0.9113571643829346, 0.7336735129356384, 0.2491721212863922, 0.9808486104011536, 0.24459615349769592, 0.7337884306907654, 0.7680350542068481, 0.10200465470552444, 0.07800356298685074, 0.04200191795825958, 0.9607648253440857, 0.9501464366912842, 0.1497659683227539, 0.8486738204956055, 0.9733072519302368, 0.9825760722160339, 0.966904878616333, 0.05910808965563774, 0.9161754250526428, 0.4264937937259674, 0.21871477365493774, 0.07655017077922821, 0.273393452167511, 0.1930181086063385, 0.4728943705558777, 0.337781697511673, 0.9508760571479797, 0.595037579536438, 0.030911041423678398, 0.13909968733787537, 0.231832817196846, 0.17679867148399353, 0.6679061055183411, 0.15060627460479736, 0.9687363505363464, 0.4724549353122711, 0.31026890873908997, 0.20625831186771393, 0.010577348992228508, 0.6251673698425293, 0.19552560150623322, 0.06431763619184494, 0.11062633246183395, 0.0025727052707225084, 0.9623509049415588, 0.04262778162956238, 0.2232883721590042, 0.7307619452476501, 0.002029894385486841, 0.8492765426635742, 0.1498723328113556, 0.8854202032089233, 0.9500229358673096, 0.9857239127159119, 0.5118056535720825, 0.33116838335990906, 0.1354779750108719, 0.015053107403218746, 0.9550238847732544, 0.07592770457267761, 0.9111324548721313, 0.9562988877296448, 0.9828705787658691, 0.39936524629592896, 0.4802493453025818, 0.002527628093957901, 0.04802493378520012, 0.06319070607423782, 0.005055256187915802, 0.4325004518032074, 0.07268915325403214, 0.03634457662701607, 0.27258431911468506, 0.18899178504943848, 0.8827476501464844, 0.9748302102088928, 0.32447806000709534, 0.11400580406188965, 0.526180624961853, 0.035078708082437515, 0.8837984204292297, 0.09819982200860977, 0.9503427147865295, 0.868413507938385, 0.3347066044807434, 0.6322236061096191, 0.8746129870414734, 0.0706757977604866, 0.04417237266898155, 0.9307111501693726, 0.07159316539764404, 0.9509947896003723, 0.46738868951797485, 0.4369540810585022, 0.043478019535541534, 0.03913021832704544, 0.010869504883885384, 0.4090512692928314, 0.56391841173172, 0.025250079110264778, 0.4956281781196594, 0.4956281781196594, 0.11185547709465027, 0.5648701786994934, 0.3131953179836273, 0.19406838715076447, 0.7762735486030579, 0.9794763326644897, 0.517076849937439, 0.30439242720603943, 0.031219735741615295, 0.13073264062404633, 0.005853700451552868, 0.00975616741925478, 0.03357817605137825, 0.6267926096916199, 0.31339630484580994, 0.011192725971341133, 0.0055963629856705666, 0.3194325268268585, 0.11978720128536224, 0.2795034646987915, 0.12777301669120789, 0.15173044800758362, 0.9372568726539612, 0.9665159583091736, 0.9461930990219116, 0.9949327707290649, 0.970079243183136, 0.9934978485107422, 0.24432332813739777, 0.7329699397087097, 0.9949379563331604, 0.9778558015823364, 0.8695632815361023, 0.06604278087615967, 0.06604278087615967, 0.9610881209373474, 0.9009352326393127, 0.020951982587575912, 0.06285595148801804, 0.8342862129211426, 0.11376630514860153, 0.047402627766132355, 0.870686411857605, 0.12149112671613693, 0.20974083244800568, 0.7457451820373535, 0.046609073877334595, 0.9795478582382202, 0.9792396426200867, 0.17643941938877106, 0.0648144781589508, 0.48610857129096985, 0.003600804368034005, 0.19444343447685242, 0.036008045077323914, 0.036008045077323914, 0.9714016318321228, 0.9718955755233765, 0.4145084619522095, 0.4799571633338928, 0.10180909931659698, 0.8478626012802124, 0.13565801084041595, 0.9831066131591797, 0.0022757097613066435, 0.013654259033501148, 0.3796809911727905, 0.424023300409317, 0.05542788282036781, 0.041570913046598434, 0.024942547082901, 0.07205624878406525, 0.002771394094452262, 0.989018440246582, 0.9856897592544556, 0.9796088933944702, 0.9638797044754028, 0.9024703502655029, 0.3175869882106781, 0.11700572818517685, 0.426235169172287, 0.06686041504144669, 0.07521796971559525, 0.913955569267273, 0.9949381947517395, 0.04254671558737755, 0.9360277652740479, 0.9941569566726685, 0.570207417011261, 0.42237588763237, 0.30020245909690857, 0.650438666343689, 0.9437227845191956, 0.9144877791404724, 0.04572438821196556, 0.1764582395553589, 0.7764162421226501, 0.9371201395988464, 0.9251351356506348, 0.911490261554718, 0.9560475945472717, 0.9890579581260681, 0.9808937311172485, 0.7824732065200806, 0.2028634250164032, 0.9207145571708679, 0.9803669452667236, 0.9271638989448547, 0.05585324764251709, 0.011170649901032448, 0.9759968519210815, 0.915195643901825, 0.9878039360046387, 0.02554374188184738, 0.10217496752738953, 0.2469228357076645, 0.3150394856929779, 0.06811664253473282, 0.23840826749801636, 0.7110437750816345, 0.03970295190811157, 0.010828077793121338, 0.03970295190811157, 0.09745270013809204, 0.07940590381622314, 0.018046796321868896, 0.8913949131965637, 0.9427006840705872, 0.9710855484008789, 0.9711740016937256, 0.9952252507209778, 0.9893477559089661, 0.9763742685317993, 0.15651322901248932, 0.13042768836021423, 0.06521384418010712, 0.0912993773818016, 0.560839056968689, 0.9382522702217102, 0.9553413987159729, 0.9878489375114441, 0.6618134379386902, 0.13331493735313416, 0.08094121515750885, 0.004761247895658016, 0.014283743686974049, 0.04285122826695442, 0.057134974747896194, 0.04660811647772789, 0.09321623295545578, 0.7457298636436462, 0.13982434570789337, 0.9787495732307434, 0.9550694227218628, 0.9869144558906555, 0.950244665145874, 0.7250162959098816, 0.12461217492818832, 0.1359405517578125, 0.983758270740509, 0.12804162502288818, 0.21949993073940277, 0.036583323031663895, 0.38412487506866455, 0.21949993073940277, 0.9473667144775391, 0.9823387861251831, 0.9430880546569824, 0.8862548470497131, 0.9649496674537659, 0.7401256561279297, 0.05459943413734436, 0.0909990593791008, 0.11223217099905014, 0.8842982053756714, 0.0374702624976635, 0.02248215861618519, 0.05245836824178696, 0.7266536355018616, 0.1901523470878601, 0.07470270991325378, 0.09505175054073334, 0.9029915928840637, 0.9473808407783508, 0.9944517016410828, 0.8740279078483582, 0.27721112966537476, 0.717487633228302, 0.9477394223213196, 0.007426796481013298, 0.5124489665031433, 0.39362022280693054, 0.04827417805790901, 0.03713398426771164, 0.9060415029525757, 0.06969550251960754, 0.9343054890632629, 0.24226152896881104, 0.2076527327299118, 0.5191318392753601, 0.9627280235290527, 0.9809166193008423, 0.09893486648797989, 0.890413761138916, 0.9561710953712463, 0.8862548470497131, 0.9571331143379211, 0.2644307613372803, 0.28587108850479126, 0.025013720616698265, 0.05717422068119049, 0.2537105977535248, 0.06074760854244232, 0.03930727764964104, 0.010720166377723217, 0.2270941585302353, 0.2881045341491699, 0.33894652128219604, 0.016947325319051743, 0.0643998384475708, 0.030505185946822166, 0.033894650638103485, 0.26775261759757996, 0.3968476355075836, 0.32990947365760803, 0.9295022487640381, 0.05809389054775238, 0.9680431485176086, 0.32583507895469666, 0.2606680691242218, 0.33733513951301575, 0.011500061489641666, 0.06516701728105545, 0.7777999639511108, 0.1944499909877777, 0.016908694058656693, 0.6383277177810669, 0.35905933380126953, 0.9586380124092102, 0.9785903692245483, 0.9161546230316162, 0.042662035673856735, 0.32423147559165955, 0.0767916664481163, 0.11092129349708557, 0.2901018559932709, 0.13651852309703827, 0.0255972221493721, 0.11256366223096848, 0.8442274928092957, 0.3645910918712616, 0.11905015259981155, 0.04464380815625191, 0.2604221999645233, 0.11160951852798462, 0.09672825038433075, 0.914453387260437, 0.9719080924987793, 0.9832283854484558, 0.33465442061424255, 0.6415899991989136, 0.022310294210910797, 0.0006760695250704885, 0.9670041799545288, 0.984222412109375, 0.9600030183792114, 0.9807879328727722, 0.8694994449615479, 0.9787535071372986, 0.9443443417549133, 0.9376258254051208, 0.16777317225933075, 0.3675031363964081, 0.31157875061035156, 0.10385958105325699, 0.04793519154191017, 0.9256092309951782, 0.976757824420929, 0.0632810965180397, 0.9311361908912659, 0.032813724130392075, 0.5625209808349609, 0.39845237135887146, 0.05827687308192253, 0.19276195764541626, 0.7336908578872681, 0.013448508456349373, 0.9851304888725281, 0.28131139278411865, 0.7032785415649414, 0.9651304483413696, 0.960676908493042, 0.8741353154182434, 0.09365735203027725, 0.8619003295898438, 0.1292850524187088, 0.960515558719635, 0.8880081176757812, 0.10656097531318665, 0.723998486995697, 0.2758089601993561, 0.9147652983665466, 0.7672135233879089, 0.22826187312602997, 0.11148341745138168, 0.17723004519939423, 0.051453884690999985, 0.48309481143951416, 0.04573678597807884, 0.05717098340392113, 0.07432227581739426, 0.6497055292129517, 0.1211315393447876, 0.18091073632240295, 0.02831646241247654, 0.011011958122253418, 0.006292547564953566, 0.493918776512146, 0.493918776512146, 0.8988416194915771, 0.011523609980940819, 0.03841203451156616, 0.007682406809180975, 0.04225323721766472, 0.962826669216156, 0.9811137318611145, 0.44293299317359924, 0.3768235743045807, 0.05949845910072327, 0.11238598078489304, 0.12896287441253662, 0.10746905952692032, 0.7092958092689514, 0.05015222728252411, 0.9742060899734497, 0.5418466925621033, 0.1280728429555893, 0.04925878718495369, 0.04925878718495369, 0.019703514873981476, 0.2068869173526764, 0.8958181142807007, 0.4956822991371155, 0.4373667538166046, 0.068034827709198, 0.980573296546936, 0.9921680688858032, 0.7207527160644531, 0.27900105714797974, 0.9771466851234436, 0.9599641561508179, 0.9401697516441345, 0.047595515847206116, 0.6028765439987183, 0.1269213706254959, 0.2062472403049469, 0.9358269572257996, 0.9434667229652405, 0.9180066585540771, 0.9542270302772522, 0.11495471745729446, 0.8765296936035156, 0.969992458820343, 0.998070240020752, 0.9273186922073364, 0.2053171992301941, 0.31128737330436707, 0.0066231354139745235, 0.09272389858961105, 0.05298508331179619, 0.17882466316223145, 0.15895526111125946, 0.22774885594844818, 0.6053324937820435, 0.10788103938102722, 0.023973563686013222, 0.02996695600450039, 0.9430255889892578, 0.96653151512146, 0.32560715079307556, 0.6512143015861511, 0.9121282696723938, 0.9620596766471863, 0.9176652431488037, 0.975549042224884, 0.9583102464675903, 0.19299550354480743, 0.7719820141792297, 0.9690897464752197, 0.9021182656288147, 0.9647344946861267, 0.349479615688324, 0.08260427415370941, 0.540104866027832, 0.025416700169444084, 0.9542118906974792, 0.008374898694455624, 0.07537408918142319, 0.22612227499485016, 0.6867417097091675, 0.9832550883293152, 0.9406763315200806, 0.9604246616363525, 0.01778564229607582, 0.01778564229607582, 0.9643988013267517, 0.9815807938575745, 0.34569498896598816, 0.4042811989784241, 0.18776696920394897, 0.04075562208890915, 0.00036388947046361864, 0.01928614266216755, 0.002183336764574051, 0.9442888498306274, 0.9572415947914124, 0.30814772844314575, 0.3941722810268402, 0.04750610888004303, 0.06548139452934265, 0.06291349232196808, 0.03723451495170593, 0.08345667272806168, 0.9625910520553589, 0.9492223858833313, 0.9793724417686462, 0.966187596321106, 0.9605706334114075, 0.9237256646156311, 0.9417433142662048, 0.9791141152381897, 0.19685253500938416, 0.7874101400375366, 0.8185612559318542, 0.17053359746932983, 0.9342296123504639, 0.36858513951301575, 0.4165011942386627, 0.05897362157702446, 0.11057554185390472, 0.04423021525144577], \"Term\": [\"10\", \"10\", \"10\", \"10\", \"10\", \"10\", \"10\", \"11\", \"12\", \"12\", \"12\", \"12\", \"1520\", \"16\", \"16\", \"16\", \"16\", \"16\", \"20\", \"20\", \"20\", \"20\", \"20\", \"20\", \"200\", \"24\", \"24\", \"24\", \"240\", \"240\", \"250\", \"30\", \"30\", \"30\", \"32\", \"32\", \"40\", \"40\", \"ailesine\", \"aktar\\u0131m\", \"aktar\\u0131m\", \"aktar\\u0131m\", \"aktar\\u0131m\\u0131\", \"aktar\\u0131m\\u0131\", \"ak\\u015fam\", \"ak\\u015fam\", \"alabilece\\u011finiz\", \"ald\\u0131g\\u0131m\", \"ald\\u0131m\", \"ald\\u0131m\", \"ald\\u0131m\", \"ald\\u0131m\", \"ald\\u0131m\", \"ald\\u0131m\", \"ald\\u0131m\", \"alman\\u0131z\\u0131\", \"alman\\u0131z\\u0131\", \"alman\\u0131z\\u0131\", \"almaya\", \"almaya\", \"almaya\", \"almay\\u0131n\", \"alm\\u0131\\u015f\", \"alm\\u0131\\u015f\", \"al\\u0131n\", \"al\\u0131n\", \"al\\u0131n\", \"al\\u0131n\", \"al\\u0131n\", \"al\\u0131nabilecek\", \"al\\u0131nabilecek\", \"al\\u0131nabilecek\", \"al\\u0131nabilecek\", \"al\\u0131nca\", \"al\\u0131rsan\\u0131z\", \"ama\\u00e7l\\u0131\", \"anten\", \"araba\", \"aras\\u0131\", \"arkadaslar\", \"arkada\\u015flar\", \"arkada\\u015flar\", \"arkada\\u015flar\", \"arkada\\u015flar\", \"arkada\\u015flar\", \"arkada\\u015flar\", \"arkada\\u015flar\", \"arkada\\u015flara\", \"arkada\\u015flara\", \"ay\", \"ay\", \"ay\", \"ay\", \"ay\", \"ayar\\u0131\", \"ayn\\u0131\", \"ayn\\u0131\", \"ayn\\u0131\", \"ayn\\u0131\", \"ayn\\u0131\", \"ayr\\u0131\", \"ayr\\u0131\", \"ayr\\u0131\", \"a\\u00e7\\u0131lma\", \"a\\u00e7\\u0131p\", \"a\\u00e7\\u0131s\\u0131ndan\", \"a\\u00e7\\u0131s\\u0131ndan\", \"a\\u011f\\u0131r\", \"a\\u011f\\u0131r\", \"a\\u015f\\u0131r\\u0131\", \"a\\u015f\\u0131r\\u0131\", \"bak\\u0131m\\u0131ndan\", \"basit\", \"basit\", \"ba\\u011flant\\u0131\", \"ba\\u011flant\\u0131\", \"ba\\u011flant\\u0131\", \"ba\\u011flant\\u0131\", \"ba\\u011fl\\u0131\", \"ba\\u015far\\u0131l\\u0131\", \"ba\\u015far\\u0131l\\u0131\", \"ba\\u015far\\u0131l\\u0131\", \"ba\\u015far\\u0131l\\u0131\", \"ba\\u015far\\u0131l\\u0131\", \"ba\\u015far\\u0131l\\u0131\", \"ba\\u015fka\", \"ba\\u015fka\", \"ba\\u015fka\", \"ba\\u015fka\", \"ba\\u015fka\", \"ba\\u015fka\", \"ba\\u015flad\\u0131\", \"bellek\", \"bellek\", \"bellek\", \"bellek\", \"bellek\", \"bellek\", \"bellek\", \"bence\", \"bence\", \"bence\", \"bence\", \"bence\", \"bence\", \"bi\", \"bi\", \"bi\", \"bi\", \"bi\", \"bi\", \"bi\", \"bildi\\u011fim\", \"bilgisayar\", \"bilgisayar\", \"bilgisayar\", \"bilgisayar\", \"bilgisayar\", \"bilgisayar\\u0131m\", \"bilgisayar\\u0131m\", \"bilgisayar\\u0131m\", \"bilgisayar\\u0131m\", \"bilgisayar\\u0131ma\", \"bilgisayar\\u0131mda\", \"bilgisayar\\u0131m\\u0131n\", \"bugun\", \"bulamazs\\u0131n\\u0131z\", \"bulamazs\\u0131n\\u0131z\", \"buyuk\", \"b\\u00fcy\\u00fck\", \"b\\u00fcy\\u00fck\", \"b\\u00fcy\\u00fck\", \"b\\u00fcy\\u00fck\", \"b\\u00fcy\\u00fck\", \"b\\u00fcy\\u00fck\", \"b\\u00fcy\\u00fck\", \"b\\u0131r\", \"canavar\", \"cevap\", \"cihaz\", \"cihaz\", \"cihaz\", \"cihaz\", \"cihaz\", \"cihaz\", \"cihaz\\u0131n\", \"civar\\u0131\", \"civar\\u0131nda\", \"class\", \"cok\", \"cok\", \"cs\", \"cuma\", \"cumartesi\", \"d\", \"d\", \"d\", \"dakikada\", \"dandik\", \"dbi\", \"degil\", \"degil\", \"deneme\", \"di\", \"di\", \"dinlemek\", \"disk\", \"disk\", \"disk\", \"diski\", \"di\\u015f\", \"dk\", \"dolu\", \"duvar\", \"dvd\", \"d\\u00fczg\\u00fcn\", \"d\\u00fc\\u015f\\u00fcnen\", \"edebilirim\", \"eder\", \"eder\", \"eder\", \"eder\", \"ederi\", \"ederim\", \"ederim\", \"ederim\", \"ederim\", \"ederim\", \"eder\\u0131m\", \"edi\", \"ediyorum\", \"ediyorum\", \"ediyorum\", \"ediyorum\", \"ekibine\", \"ele\", \"ele\", \"elimdeydi\", \"elimdeydi\", \"elime\", \"elime\", \"elime\", \"ergonomik\", \"ertesi\", \"ertesi\", \"eski\", \"eski\", \"eski\", \"eski\", \"etmem\", \"etmiyor\", \"evimde\", \"evin\", \"evin\", \"fare\", \"fare\", \"fazla\", \"fazla\", \"fazla\", \"fazla\", \"fazla\", \"fazla\", \"fazla\", \"fi\", \"fiyat\", \"fiyat\", \"fiyat\", \"fiyat\", \"fiyat\", \"fiyat\", \"fiyata\", \"fiyata\", \"fiyata\", \"fiyata\", \"fiyata\", \"fiyata\", \"fiyati\", \"fiyatina\", \"fiyat\\u0131\", \"fiyat\\u0131\", \"fiyat\\u0131\", \"fiyat\\u0131\", \"fiyat\\u0131na\", \"fiyat\\u0131na\", \"fiyat\\u0131na\", \"fiyat\\u0131na\", \"fps\", \"full\", \"garanti\", \"gb\", \"gb\", \"gb\", \"gb\", \"gb\", \"geldi\", \"geldi\", \"geldi\", \"geldi\", \"geldi\", \"geldi\", \"gelebilir\", \"gelen\", \"gelen\", \"gelen\", \"gelmi\\u015f\", \"gercekten\", \"gercekten\", \"gercekten\", \"gercekten\", \"ger\\u00e7ekten\", \"ger\\u00e7ekten\", \"ger\\u00e7ekten\", \"ger\\u00e7ekten\", \"ger\\u00e7ekten\", \"ger\\u00e7ekten\", \"ger\\u00e7ekten\", \"ger\\u00e7ekten\", \"ge\\u00e7ince\", \"ge\\u00e7ti\", \"ge\\u00e7ti\", \"ge\\u00e7ti\", \"ge\\u00e7ti\", \"gi\", \"gidiyor\", \"giri\\u015fi\", \"go\", \"gore\", \"gun\", \"guzel\", \"guzel\", \"g\\u00f6nderi\", \"g\\u00f6nderi\", \"g\\u00f6rd\\u00fc\", \"g\\u00f6r\\u00fcl\\u00fcr\", \"g\\u00f6r\\u00fcnt\\u00fcs\\u00fc\", \"g\\u00f6r\\u00fcr\", \"g\\u00f6r\\u00fcr\", \"g\\u00f6r\\u00fcr\", \"g\\u00f6zle\", \"g\\u00f6zle\", \"g\\u00fcc\\u00fc\", \"g\\u00fcc\\u00fc\", \"g\\u00fcc\\u00fc\", \"g\\u00fcc\\u00fcn\\u00fc\", \"g\\u00fcn\", \"g\\u00fcn\", \"g\\u00fcn\", \"g\\u00fcnde\", \"g\\u00fcnde\", \"g\\u00fcnde\", \"g\\u00fcnde\", \"g\\u00fcnde\", \"g\\u00fcn\\u00fc\", \"g\\u00fcn\\u00fc\", \"g\\u00fczel\", \"g\\u00fczel\", \"g\\u00fczel\", \"g\\u00fczel\", \"g\\u00fczel\", \"g\\u00fc\\u00e7l\\u00fc\", \"haf\\u0131za\", \"hale\", \"hard\", \"harika\", \"harika\", \"harika\", \"harika\", \"hb\", \"hb\", \"hb\", \"hb\", \"hdd\", \"hdd\", \"hdd\", \"hdd\", \"hemen\", \"hemen\", \"hemen\", \"hemen\", \"hemen\", \"hemen\", \"hepsiburada\", \"hepsiburada\", \"hepsiburada\", \"hepsiburadacom\", \"hepsiburadacom\", \"hepsiburadacom\", \"hi\", \"hic\", \"hizli\", \"hizli\", \"hizmet\", \"hizmet\", \"hizmet\", \"h\\u0131z\", \"h\\u0131z\", \"h\\u0131z\", \"h\\u0131z\", \"h\\u0131z\", \"h\\u0131z\", \"h\\u0131zda\", \"h\\u0131zla\", \"h\\u0131zland\\u0131\", \"h\\u0131zland\\u0131\", \"h\\u0131zland\\u0131\", \"h\\u0131zland\\u0131\", \"h\\u0131zl\\u0131\", \"h\\u0131zl\\u0131\", \"h\\u0131zl\\u0131\", \"h\\u0131zl\\u0131\", \"h\\u0131zl\\u0131\", \"h\\u0131zl\\u0131\", \"h\\u0131zl\\u0131\", \"h\\u0131zl\\u0131yd\\u0131\", \"h\\u0131zl\\u0131yd\\u0131\", \"h\\u0131z\\u0131\", \"h\\u0131z\\u0131\", \"h\\u0131z\\u0131\", \"h\\u0131z\\u0131\", \"h\\u0131z\\u0131\", \"h\\u0131z\\u0131m\", \"h\\u0131z\\u0131n\\u0131\", \"h\\u0131z\\u0131n\\u0131\", \"icin\", \"icin\", \"icinde\", \"idare\", \"idare\", \"ideal\", \"ideal\", \"ideal\", \"ideal\", \"ii\", \"ileri\", \"internet\", \"internet\", \"iyidir\", \"i\\u00e7\", \"i\\u015fletim\", \"k\", \"k\", \"kablo\", \"kablo\", \"kablo\", \"kablo\", \"kablosu\", \"kablosu\", \"kablosu\", \"kablosunu\", \"kablosuz\", \"kablosuz\", \"kablosuz\", \"kablosuz\", \"kald\\u0131m\", \"kald\\u0131m\", \"kald\\u0131m\", \"kali\", \"kaliteli\", \"kaliteli\", \"kaliteli\", \"kaliteli\", \"kalitesi\", \"kalitesi\", \"kalitesi\", \"kalitesi\", \"kalitesi\", \"kapanma\", \"kargo\", \"kargo\", \"kargo\", \"kargo\", \"kargoya\", \"kargoya\", \"kargoyla\", \"kar\\u015f\\u0131la\\u015fmad\\u0131m\", \"kar\\u015f\\u0131l\\u0131yor\", \"kat\", \"kat\", \"kat\", \"kat\", \"kata\", \"katta\", \"katta\", \"kattaki\", \"ka\\u00e7\\u0131rmas\\u0131n\", \"kesinlikle\", \"kesinlikle\", \"kesinlikle\", \"kesinlikle\", \"kesinlikle\", \"kesinlikle\", \"kolay\", \"kolay\", \"kolay\", \"kolay\", \"kolay\", \"kopuyor\", \"kopyalama\", \"kulakl\\u0131k\", \"kulakl\\u0131k\", \"kulakl\\u0131k\", \"kulakl\\u0131k\", \"kulakl\\u0131\\u011f\\u0131\", \"kulakl\\u0131\\u011f\\u0131\", \"kullanacaksan\\u0131z\", \"kullananlar\", \"kullaniyorum\", \"kullaniyorum\", \"kullan\\u0131m\", \"kullan\\u0131m\", \"kullan\\u0131m\", \"kullan\\u0131m\\u0131\", \"kullan\\u0131m\\u0131\", \"kullan\\u0131sl\\u0131\", \"kullan\\u0131yorum\", \"kullan\\u0131yorum\", \"kullan\\u0131yorum\", \"kullan\\u0131yorum\", \"kullan\\u0131yorum\", \"kullan\\u0131\\u015fl\\u0131\", \"kullan\\u0131\\u015fl\\u0131\", \"kullan\\u0131\\u015fl\\u0131\", \"kurulum\", \"kurulum\", \"kurulumu\", \"kurulumu\", \"kurulumu\", \"kutu\", \"kutu\", \"kutusu\", \"k\\u00fc\\u00e7\\u00fck\", \"k\\u00fc\\u00e7\\u00fck\", \"k\\u00fc\\u00e7\\u00fck\", \"k\\u00fc\\u00e7\\u00fck\", \"k\\u00fc\\u00e7\\u00fck\", \"k\\u00fc\\u00e7\\u00fck\", \"k\\u0131sa\", \"k\\u0131sa\", \"k\\u0131sa\", \"k\\u0131sa\", \"k\\u0131sa\", \"laptop\", \"laptop\", \"laptop\", \"laptop\", \"laptop\", \"laptopa\", \"lazer\", \"lgi\", \"li\", \"link\", \"logitech\", \"l\\u0131k\", \"l\\u0131k\", \"m\", \"macbook\", \"malzeme\", \"malzeme\", \"malzeme\", \"malzemeden\", \"masa\\u00fcst\\u00fc\", \"masa\\u00fcst\\u00fc\", \"masa\\u00fcst\\u00fc\", \"mause\", \"mause\", \"mause\", \"mb\", \"mb\", \"mbps\", \"mbps\", \"mbps\", \"mbs\", \"mbsn\", \"memnun\", \"memnun\", \"memnun\", \"memnun\", \"memnun\", \"memnun\", \"memnun\", \"mesafesi\", \"mesela\", \"modem\", \"modem\", \"modem\", \"modeme\", \"modeme\", \"mouse\", \"mouse\", \"mouse\", \"m\\u00fckemmel\", \"m\\u00fckemmel\", \"m\\u00fckemmel\", \"m\\u00fckemmel\", \"m\\u00fckemmel\", \"m\\u00fckemmel\", \"m\\u00fckemmel\", \"n\", \"net\", \"ni\", \"nokta\", \"noktaya\", \"normal\", \"normal\", \"normal\", \"normal\", \"normal\", \"not\", \"oda\", \"odada\", \"odada\", \"okuma\", \"olanlar\", \"olanlar\", \"oldugu\", \"oldugu\", \"oldukca\", \"olmas\\u0131da\", \"olmas\\u0131da\", \"olmazs\\u0131n\\u0131z\", \"olmazs\\u0131n\\u0131z\", \"olunur\", \"olursak\", \"oluyordu\", \"onuda\", \"oran\\u0131\", \"orjinal\", \"ortalama\", \"ortalama\", \"oturdu\", \"oturmas\\u0131\", \"oturuyor\", \"oturuyor\", \"oturuyor\", \"p\", \"pahal\\u0131ya\", \"pazartesi\", \"pc\", \"pc\", \"pc\", \"pc\", \"pc\", \"pc\", \"performans\", \"performans\", \"performans\", \"performans\", \"performans\", \"performans\", \"performans\", \"performansl\\u0131\", \"performans\\u0131na\", \"performans\\u0131n\\u0131\", \"pi\", \"pil\", \"pili\", \"pille\", \"pi\\u015fman\", \"pi\\u015fman\", \"pi\\u015fman\", \"pi\\u015fman\", \"pi\\u015fman\", \"pro\", \"program\", \"r\", \"rahat\", \"rahat\", \"rahat\", \"rahat\", \"rahat\", \"rahat\", \"rahat\", \"rahat\\u00e7a\", \"rahat\\u00e7a\", \"rahat\\u00e7a\", \"rahat\\u00e7a\", \"ram\", \"resimde\", \"ri\", \"saatte\", \"samsung\", \"samsung\", \"samsung\", \"saniyede\", \"sata\", \"sata\", \"sata\", \"sata\", \"sata\", \"sat\\u0131c\\u0131\", \"sayfa\", \"say\\u0131lmaz\", \"sa\\u011fa\", \"sekilde\", \"ses\", \"ses\", \"ses\", \"ses\", \"sesi\", \"sesi\", \"sesi\", \"sesi\", \"sessiz\", \"sessiz\", \"sessiz\", \"seviyesi\", \"seviyesi\", \"se\\u00e7ene\\u011fi\", \"si\", \"sinir\", \"sinyal\", \"sinyal\", \"siparis\", \"sipari\\u015f\", \"sipari\\u015f\", \"sipari\\u015f\", \"sipari\\u015f\", \"sipari\\u015f\", \"sipari\\u015fi\", \"sipari\\u015fi\", \"sipari\\u015fim\", \"sistemi\", \"sistemi\", \"sistemi\", \"siteden\", \"siyah\", \"sn\", \"sn\", \"snde\", \"sola\", \"sonuna\", \"sorun\", \"sorun\", \"sorun\", \"sorun\", \"sorun\", \"sorun\", \"sorun\", \"sorun\", \"sorunsuz\", \"sorunsuz\", \"sorunsuz\", \"sorunsuz\", \"sorunsuz\", \"sorunsuz\", \"sorunsuz\", \"ssd\", \"ssd\", \"ssd\", \"stabil\", \"stabil\", \"super\", \"s\\u00fcper\", \"s\\u00fcper\", \"s\\u00fcper\", \"s\\u00fcper\", \"s\\u00fcper\", \"s\\u00fcre\", \"s\\u00fcre\", \"s\\u00fcre\", \"s\\u00fcrede\", \"s\\u00fcrede\", \"s\\u00fcredir\", \"tahmin\", \"taktim\", \"takt\\u0131m\", \"takt\\u0131m\", \"takt\\u0131m\", \"takt\\u0131m\", \"takt\\u0131m\", \"takt\\u0131m\", \"takt\\u0131m\", \"tak\\u0131nca\", \"tak\\u0131nca\", \"tane\", \"tane\", \"tane\", \"tane\", \"tane\", \"tane\", \"tarafa\", \"taraf\\u0131nda\", \"tavsi\", \"tavsiye\", \"tavsiye\", \"tavsiye\", \"tavsiye\", \"tavs\\u0131ye\", \"tech\", \"teknik\", \"telefon\", \"telefondan\", \"telefonuma\", \"telefonumda\", \"tepki\", \"tercih\", \"tercih\", \"tercih\", \"tercih\", \"tercih\", \"tesekkur\", \"tesekkurler\", \"teslimat\", \"teslimat\", \"te\\u015fekk\\u00fcr\", \"te\\u015fekk\\u00fcr\", \"te\\u015fekk\\u00fcr\", \"te\\u015fekk\\u00fcrler\", \"te\\u015fekk\\u00fcrler\", \"te\\u015fekk\\u00fcrler\", \"te\\u015fekk\\u00fcrler\", \"tl\", \"toshiba\", \"toshiba\", \"tp\", \"tplink\", \"tu\\u015flar\\u0131\", \"tu\\u015flar\\u0131\", \"t\\u0131klama\", \"t\\u0131klama\", \"t\\u015fkler\", \"ulasti\", \"ulasti\", \"ula\\u015ft\\u0131\", \"ula\\u015ft\\u0131\", \"ultra\", \"urun\", \"urun\", \"usb\", \"usb\", \"usb\", \"usb\", \"usb\", \"usb\", \"usb\", \"uygun\", \"uygun\", \"uygun\", \"uygun\", \"uygun\", \"uygun\", \"uyumlu\", \"uyumlu\", \"uzun\", \"uzun\", \"uzun\", \"uzun\", \"uzun\", \"v\", \"verdikten\", \"verdim\", \"verdim\", \"verdim\", \"verdim\", \"veri\", \"veri\", \"veri\", \"veri\", \"verildi\", \"veriyor\", \"veriyor\", \"veriyor\", \"veriyor\", \"veriyor\", \"veriyor\", \"versiyonu\", \"wifi\", \"wifi\", \"wifi\", \"win\", \"windows\", \"wps\", \"wps\", \"x\", \"yaklas\\u0131k\", \"yaparken\", \"yapt\\u0131m\", \"yapt\\u0131m\", \"yapt\\u0131m\", \"yapt\\u0131m\", \"yap\\u0131ld\\u0131\", \"yarar\", \"yar\\u0131\", \"yat\", \"yava\\u015f\", \"yava\\u015f\", \"yazan\", \"yazma\", \"yaz\\u0131l\\u0131m\", \"yeni\", \"yeni\", \"yeni\", \"yeni\", \"yeni\", \"yeni\", \"yeni\", \"yeterli\", \"yeterli\", \"yeterli\", \"yeterli\", \"yeterli\", \"yetersiz\", \"yor\", \"yorumlar\\u0131\", \"yorumlar\\u0131\", \"yuksek\", \"yumu\\u015fak\", \"y\\u00fczeylerde\", \"y\\u0131ll\\u0131k\", \"z\", \"zarar\", \"zarar\", \"\\u00e7antas\\u0131\", \"\\u00e7antaya\", \"\\u00e7eken\", \"\\u00e7ekim\", \"\\u00e7ekim\", \"\\u00e7ekim\", \"\\u00e7ekim\", \"\\u00e7ekimi\", \"\\u00e7ekiyor\", \"\\u00e7ekiyor\", \"\\u00e7ekiyor\", \"\\u00e7ekiyor\", \"\\u00e7i\", \"\\u00e7in\", \"\\u00f6mr\\u00fc\", \"\\u00f6mr\\u00fc\", \"\\u00f6mr\\u00fc\", \"\\u00f6m\\u00fcrl\\u00fc\", \"\\u00f6\\u011flen\", \"\\u00fcr\\u00fcn\", \"\\u00fcr\\u00fcn\", \"\\u00fcr\\u00fcn\", \"\\u00fcr\\u00fcn\", \"\\u00fcr\\u00fcn\", \"\\u00fcr\\u00fcn\", \"\\u00fcr\\u00fcn\", \"\\u00fcr\\u00fcnd\\u00fc\", \"\\u00fcr\\u00fcnlerden\", \"\\u00fcr\\u00fcn\\u00fc\", \"\\u00fcr\\u00fcn\\u00fc\", \"\\u00fcr\\u00fcn\\u00fc\", \"\\u00fcr\\u00fcn\\u00fc\", \"\\u00fcr\\u00fcn\\u00fc\", \"\\u00fcr\\u00fcn\\u00fc\", \"\\u00fcr\\u00fcn\\u00fc\", \"\\u011fi\", \"\\u0131s\\u0131n\\u0131yor\", \"\\u0131y\\u0131\", \"\\u015f\", \"\\u015farj\", \"\\u015fart\", \"\\u015fekli\", \"\\u015fi\", \"\\u015fiddetle\", \"\\u015fiddetle\", \"\\u015fimdiye\", \"\\u015fimdiye\", \"\\u015fuana\", \"\\u015f\\u0131k\", \"\\u015f\\u0131k\", \"\\u015f\\u0131k\", \"\\u015f\\u0131k\", \"\\u015f\\u0131k\"]}, \"R\": 30, \"lambda.step\": 0.01, \"plot.opts\": {\"xlab\": \"PC1\", \"ylab\": \"PC2\"}, \"topic.order\": [8, 7, 4, 1, 3, 5, 6, 2]};\n",
              "\n",
              "function LDAvis_load_lib(url, callback){\n",
              "  var s = document.createElement('script');\n",
              "  s.src = url;\n",
              "  s.async = true;\n",
              "  s.onreadystatechange = s.onload = callback;\n",
              "  s.onerror = function(){console.warn(\"failed to load library \" + url);};\n",
              "  document.getElementsByTagName(\"head\")[0].appendChild(s);\n",
              "}\n",
              "\n",
              "if(typeof(LDAvis) !== \"undefined\"){\n",
              "   // already loaded: just create the visualization\n",
              "   !function(LDAvis){\n",
              "       new LDAvis(\"#\" + \"ldavis_el1211402800465376085432031552\", ldavis_el1211402800465376085432031552_data);\n",
              "   }(LDAvis);\n",
              "}else if(typeof define === \"function\" && define.amd){\n",
              "   // require.js is available: use it to load d3/LDAvis\n",
              "   require.config({paths: {d3: \"https://cdnjs.cloudflare.com/ajax/libs/d3/3.5.5/d3.min\"}});\n",
              "   require([\"d3\"], function(d3){\n",
              "      window.d3 = d3;\n",
              "      LDAvis_load_lib(\"https://cdn.rawgit.com/bmabey/pyLDAvis/files/ldavis.v1.0.0.js\", function(){\n",
              "        new LDAvis(\"#\" + \"ldavis_el1211402800465376085432031552\", ldavis_el1211402800465376085432031552_data);\n",
              "      });\n",
              "    });\n",
              "}else{\n",
              "    // require.js not available: dynamically load d3 & LDAvis\n",
              "    LDAvis_load_lib(\"https://cdnjs.cloudflare.com/ajax/libs/d3/3.5.5/d3.min.js\", function(){\n",
              "         LDAvis_load_lib(\"https://cdn.rawgit.com/bmabey/pyLDAvis/files/ldavis.v1.0.0.js\", function(){\n",
              "                 new LDAvis(\"#\" + \"ldavis_el1211402800465376085432031552\", ldavis_el1211402800465376085432031552_data);\n",
              "            })\n",
              "         });\n",
              "}\n",
              "</script>"
            ],
            "text/plain": [
              "<IPython.core.display.HTML object>"
            ]
          },
          "metadata": {
            "tags": []
          },
          "execution_count": 56
        }
      ]
    },
    {
      "cell_type": "markdown",
      "metadata": {
        "id": "QjP2CI6l4vNK"
      },
      "source": [
        "***Dominant Topic within documents***"
      ]
    },
    {
      "cell_type": "code",
      "metadata": {
        "id": "552KTKcE3_wy",
        "outputId": "58cbc51f-fb91-4082-83e2-6b278198002d",
        "colab": {
          "base_uri": "https://localhost:8080/",
          "height": 348
        }
      },
      "source": [
        "def dominant_topic(ldamodel,corpus,content):\n",
        "     #Function to find the dominant topic in each query\n",
        "     sent_topics_df = pd.DataFrame()\n",
        "     # Get main topic in each query\n",
        "     for i, row in enumerate(ldamodel[corpus]):\n",
        "         row = sorted(row, key=lambda x: (x[1]), reverse=True)\n",
        "         # Get the Dominant topic, Perc Contribution and Keywords for each query\n",
        "         for j, (topic_num, prop_topic) in enumerate(row):\n",
        "             if j == 0:  # =&gt; dominant topic\n",
        "                 wp = ldamodel.show_topic(topic_num,topn=30)\n",
        "                 topic_keywords = \", \".join([word for word, prop in wp])\n",
        "                 sent_topics_df = sent_topics_df.append(pd.Series([int(topic_num), round(prop_topic,4), topic_keywords]), ignore_index=True)\n",
        "             else:\n",
        "                 break\n",
        "     sent_topics_df.columns = ['Dominant_Topic', 'Perc_Contribution', 'Topic_Keywords']\n",
        "     contents = pd.Series(content)#noisy data\n",
        "     sent_topics_df = pd.concat([sent_topics_df, contents], axis=1)\n",
        "     return(sent_topics_df)\n",
        "df_dominant_topic = dominant_topic(ldamodel=ldamodel, corpus=corpus, content=query_df['Review'])\n",
        "df_dominant_topic.head(10)"
      ],
      "execution_count": null,
      "outputs": [
        {
          "output_type": "execute_result",
          "data": {
            "text/html": [
              "<div>\n",
              "<style scoped>\n",
              "    .dataframe tbody tr th:only-of-type {\n",
              "        vertical-align: middle;\n",
              "    }\n",
              "\n",
              "    .dataframe tbody tr th {\n",
              "        vertical-align: top;\n",
              "    }\n",
              "\n",
              "    .dataframe thead th {\n",
              "        text-align: right;\n",
              "    }\n",
              "</style>\n",
              "<table border=\"1\" class=\"dataframe\">\n",
              "  <thead>\n",
              "    <tr style=\"text-align: right;\">\n",
              "      <th></th>\n",
              "      <th>Dominant_Topic</th>\n",
              "      <th>Perc_Contribution</th>\n",
              "      <th>Topic_Keywords</th>\n",
              "      <th>Review</th>\n",
              "    </tr>\n",
              "  </thead>\n",
              "  <tbody>\n",
              "    <tr>\n",
              "      <th>0</th>\n",
              "      <td>6.0</td>\n",
              "      <td>0.7811</td>\n",
              "      <td>ürün, tavsiye, ederim, güzel, elime, kullanışl...</td>\n",
              "      <td>3 yıldır kullanıyorum ve memnunum:)</td>\n",
              "    </tr>\n",
              "    <tr>\n",
              "      <th>1</th>\n",
              "      <td>6.0</td>\n",
              "      <td>0.7810</td>\n",
              "      <td>ürün, tavsiye, ederim, güzel, elime, kullanışl...</td>\n",
              "      <td>3 yıldır kullanıyorum müthiş</td>\n",
              "    </tr>\n",
              "    <tr>\n",
              "      <th>2</th>\n",
              "      <td>3.0</td>\n",
              "      <td>0.8099</td>\n",
              "      <td>hızlı, ürün, teşekkürler, kargo, cok, elime, h...</td>\n",
              "      <td>Ürün bugün elime geçti çok fazla inceleme fırs...</td>\n",
              "    </tr>\n",
              "    <tr>\n",
              "      <th>3</th>\n",
              "      <td>0.0</td>\n",
              "      <td>0.8905</td>\n",
              "      <td>hızı, usb, yazma, okuma, ürün, yeterli, aldım,...</td>\n",
              "      <td>Almaya karar verdim. Hemencecik geldi. Keyifle...</td>\n",
              "    </tr>\n",
              "    <tr>\n",
              "      <th>4</th>\n",
              "      <td>2.0</td>\n",
              "      <td>0.4729</td>\n",
              "      <td>aldım, 10, kurulumu, basit, kolay, sn, sorun, ...</td>\n",
              "      <td>Günlük kullanımınızı çok çok iyi karsılıyor kı...</td>\n",
              "    </tr>\n",
              "    <tr>\n",
              "      <th>5</th>\n",
              "      <td>6.0</td>\n",
              "      <td>0.5622</td>\n",
              "      <td>ürün, tavsiye, ederim, güzel, elime, kullanışl...</td>\n",
              "      <td>gayet güzel</td>\n",
              "    </tr>\n",
              "    <tr>\n",
              "      <th>6</th>\n",
              "      <td>7.0</td>\n",
              "      <td>0.9125</td>\n",
              "      <td>ürün, tavsiye, güzel, mouse, uygun, ederim, fi...</td>\n",
              "      <td>Çok kaliteli bir ürün ve fiyatı da uygun. Uzun...</td>\n",
              "    </tr>\n",
              "    <tr>\n",
              "      <th>7</th>\n",
              "      <td>7.0</td>\n",
              "      <td>0.9204</td>\n",
              "      <td>ürün, tavsiye, güzel, mouse, uygun, ederim, fi...</td>\n",
              "      <td>yaklaşık 5 senedir kullanıyorum. defalarca düş...</td>\n",
              "    </tr>\n",
              "    <tr>\n",
              "      <th>8</th>\n",
              "      <td>7.0</td>\n",
              "      <td>0.6578</td>\n",
              "      <td>ürün, tavsiye, güzel, mouse, uygun, ederim, fi...</td>\n",
              "      <td>Ürün günlük kullanım için çok uygun. Ürünle bi...</td>\n",
              "    </tr>\n",
              "    <tr>\n",
              "      <th>9</th>\n",
              "      <td>0.0</td>\n",
              "      <td>0.7771</td>\n",
              "      <td>hızı, usb, yazma, okuma, ürün, yeterli, aldım,...</td>\n",
              "      <td>Ürünü bir arkadaşım 2009 yılında hediye olarak...</td>\n",
              "    </tr>\n",
              "  </tbody>\n",
              "</table>\n",
              "</div>"
            ],
            "text/plain": [
              "   Dominant_Topic  ...                                             Review\n",
              "0             6.0  ...                3 yıldır kullanıyorum ve memnunum:)\n",
              "1             6.0  ...                      3 yıldır kullanıyorum müthiş \n",
              "2             3.0  ...  Ürün bugün elime geçti çok fazla inceleme fırs...\n",
              "3             0.0  ...  Almaya karar verdim. Hemencecik geldi. Keyifle...\n",
              "4             2.0  ...  Günlük kullanımınızı çok çok iyi karsılıyor kı...\n",
              "5             6.0  ...                                        gayet güzel\n",
              "6             7.0  ...  Çok kaliteli bir ürün ve fiyatı da uygun. Uzun...\n",
              "7             7.0  ...  yaklaşık 5 senedir kullanıyorum. defalarca düş...\n",
              "8             7.0  ...  Ürün günlük kullanım için çok uygun. Ürünle bi...\n",
              "9             0.0  ...  Ürünü bir arkadaşım 2009 yılında hediye olarak...\n",
              "\n",
              "[10 rows x 4 columns]"
            ]
          },
          "metadata": {
            "tags": []
          },
          "execution_count": 48
        }
      ]
    },
    {
      "cell_type": "code",
      "metadata": {
        "id": "1VZQEPZLmp-s"
      },
      "source": [
        "df_dominant_topic.to_csv('outputFile.csv')#save your results"
      ],
      "execution_count": null,
      "outputs": []
    }
  ]
}