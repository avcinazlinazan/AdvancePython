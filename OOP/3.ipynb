{
 "cells": [
  {
   "cell_type": "markdown",
   "metadata": {},
   "source": [
    "## OOP"
   ]
  },
  {
   "cell_type": "code",
   "execution_count": 6,
   "metadata": {},
   "outputs": [
    {
     "name": "stdout",
     "output_type": "stream",
     "text": [
      "<__main__.Araba object at 0x00000131864BF020>\n",
      "Kasa tipi  Suv\n"
     ]
    }
   ],
   "source": [
    "class Araba:\n",
    "    def marka(self):\n",
    "        return \"Araba\"\n",
    "    def model(self):\n",
    "        return \"Modeli\"\n",
    "    def hizi():\n",
    "        return \"Hizi\"\n",
    "    def kasatipi(self, kasa):\n",
    "        return f\"Kasa tipi  {kasa}\"\n",
    "\n",
    "araba1 = Araba()\n",
    "print(araba1)\n",
    "print(araba1.kasatipi(\"Suv\"))\n"
   ]
  },
  {
   "cell_type": "code",
   "execution_count": 1,
   "metadata": {},
   "outputs": [
    {
     "name": "stdout",
     "output_type": "stream",
     "text": [
      "John\n",
      "Mary.Simith@gmail.com\n"
     ]
    }
   ],
   "source": [
    "per1_isim = 'John'\n",
    "per1_soyisim ='Simith'\n",
    "per1_eposta = 'John.Simith@gmail.com'\n",
    "\n",
    "per2_isim = 'MAry'\n",
    "per2_soyisim ='Simith'\n",
    "per2_eposta = 'Mary.Simith@gmail.com'\n",
    "\n",
    "print(per1_isim)\n",
    "print(per2_eposta)"
   ]
  },
  {
   "cell_type": "code",
   "execution_count": 5,
   "metadata": {},
   "outputs": [],
   "source": [
    "def kisi_olustur():\n",
    "    isim=input(\"isim: \")\n",
    "    soyisim=input(\"soyisim: \")\n",
    "    eposta=input(\"eposta: \")\n",
    "    return isim, soyisim,eposta\n",
    "\n",
    "per1_isim, per1_soyisim, per1_eposta=kisi_olustur()"
   ]
  },
  {
   "cell_type": "code",
   "execution_count": 7,
   "metadata": {},
   "outputs": [
    {
     "name": "stdout",
     "output_type": "stream",
     "text": [
      "deniz\n",
      "koçak\n",
      "asas@gb.com\n"
     ]
    }
   ],
   "source": [
    "print(per1_isim)\n",
    "print(per1_soyisim)\n",
    "print(per1_eposta)"
   ]
  },
  {
   "cell_type": "code",
   "execution_count": 9,
   "metadata": {},
   "outputs": [
    {
     "name": "stdout",
     "output_type": "stream",
     "text": [
      "Kişi 1: \n",
      "isim: Arzu\n",
      "Soyisim: Can\n",
      "E-posta: arzu@g.com\n",
      "------------------------------\n",
      "Kişi 2: \n",
      "isim: Ali\n",
      "Soyisim: Demir\n",
      "E-posta: ali@a.com\n",
      "------------------------------\n"
     ]
    }
   ],
   "source": [
    "class Kisi:\n",
    "    def __init__(self, isim, soyisim, eposta):\n",
    "        self.ad=isim# ad değişken isim: parametre\n",
    "        self.soyad=soyisim\n",
    "        self.mail=eposta\n",
    "        #burda return yok. constructor da yok. self ile çağırabiliyoruz\n",
    "    def bilgileri_goruntule(self):\n",
    "        return f\"isim: {self.ad}\\nSoyisim: {self.soyad}\\nE-posta: {self.mail}\"\n",
    "\n",
    "kisi1 = Kisi(\"Arzu\",\"Can\",\"arzu@g.com\")\n",
    "kisi2=Kisi(\"Ali\",\"Demir\", \"ali@a.com\")\n",
    "print(\"Kişi 1: \")\n",
    "print(kisi1.bilgileri_goruntule())\n",
    "print(\"------------------------------\")\n",
    "\n",
    "print(\"Kişi 2: \")\n",
    "print(kisi2.bilgileri_goruntule())\n",
    "print(\"------------------------------\")\n"
   ]
  },
  {
   "cell_type": "code",
   "execution_count": 14,
   "metadata": {},
   "outputs": [
    {
     "name": "stdout",
     "output_type": "stream",
     "text": [
      "John Simith 50000 john.simith@email.com\n",
      "Azra Taş 60000 azra.taş@email.com\n"
     ]
    }
   ],
   "source": [
    "class Personel:\n",
    "    def __init__(self, isim, soyisim, maas):\n",
    "        self.ad=isim\n",
    "        self.soyad=soyisim\n",
    "        self.ucret=maas\n",
    "        self.eposta=f\"{isim.lower()}.{soyisim.lower()}@email.com\"\n",
    "\n",
    "person1 =Personel(isim='John', soyisim=\"Simith\", maas=50000)\n",
    "person2 =Personel(\"Azra\", \"Taş\", 60000)\n",
    "\n",
    "print(person1.ad, person1.soyad,person1.ucret,person1.eposta, end=\"\\n\")\n",
    "print(person2.ad, person2.soyad, person2.ucret, person2.eposta, end=\"\\n\")\n"
   ]
  },
  {
   "cell_type": "code",
   "execution_count": 22,
   "metadata": {},
   "outputs": [
    {
     "name": "stdout",
     "output_type": "stream",
     "text": [
      "Ahmet Özyurt\n",
      "45000\n",
      "47250.0\n",
      "Yaren Güzel\n",
      "55000\n",
      "57750.0\n",
      "\n",
      "{'ad': 'Ahmet', 'soyad': 'Özyurt', 'ucret': 47250.0, 'eposta': 'ahmet.özyurt@email.com'}\n",
      "{'ad': 'Yaren', 'soyad': 'Güzel', 'ucret': 57750.0, 'eposta': 'yaren.güzel@email.com'}\n"
     ]
    }
   ],
   "source": [
    "class Personel:\n",
    "    zam_orani=1.05\n",
    "    def __init__(self, isim, soyisim, maas):\n",
    "        self.ad=isim\n",
    "        self.soyad=soyisim\n",
    "        self.ucret=maas\n",
    "        self.eposta=f\"{isim.lower()}.{soyisim.lower()}@email.com\"\n",
    "\n",
    "    def tam_isim(self):\n",
    "        return f\"{self.ad} {self.soyad}\"\n",
    "    \n",
    "    def zam_uygula(self):\n",
    "        self.ucret = self.ucret * self.zam_orani\n",
    "        return self.ucret\n",
    "\n",
    "per1=Personel(\"Ahmet\",\"Özyurt\", 45000)\n",
    "per2=Personel(\"Yaren\", \"Güzel\", 55000)\n",
    "\n",
    "print(per1.tam_isim())\n",
    "print(per1.ucret)\n",
    "per1.zam_uygula()\n",
    "print(per1.ucret)\n",
    "\n",
    "print(per2.tam_isim())\n",
    "print(per2.ucret)\n",
    "per2.zam_uygula()\n",
    "print(per2.ucret)\n",
    "print()\n",
    "print(per1.__dict__)\n",
    "print(per2.__dict__)"
   ]
  },
  {
   "cell_type": "code",
   "execution_count": 29,
   "metadata": {},
   "outputs": [
    {
     "name": "stdout",
     "output_type": "stream",
     "text": [
      "0\n",
      "2\n",
      "1.05\n",
      "1.1\n",
      "(49500.00000000001, 1.1)\n",
      "Ahmet Özyurt\n",
      "49500.00000000001\n",
      "1.1\n",
      "54450.000000000015\n"
     ]
    }
   ],
   "source": [
    "class Personel:\n",
    "    zam_orani=1.05\n",
    "    personel_sayisi=0\n",
    "    def __init__(self, isim, soyisim, maas):\n",
    "        self.ad=isim\n",
    "        self.soyad=soyisim\n",
    "        self.ucret=maas\n",
    "        self.eposta=f\"{isim.lower()}.{soyisim.lower()}@email.com\"\n",
    "\n",
    "        Personel.personel_sayisi +=1\n",
    "\n",
    "    def tam_isim(self):\n",
    "        return f\"{self.ad} {self.soyad}\"\n",
    "    \n",
    "    def zam_uygula(self):\n",
    "        self.zam_orani =1.1\n",
    "        self.ucret = self.ucret * self.zam_orani\n",
    "        print(self.zam_orani)\n",
    "        return self.ucret, self.zam_orani\n",
    "\n",
    "print(Personel.personel_sayisi)\n",
    "per1=Personel(\"Ahmet\",\"Özyurt\", 45000)\n",
    "per2=Personel(\"Yaren\", \"Güzel\", 55000)\n",
    "print(Personel.personel_sayisi)\n",
    "\n",
    "print(Personel.zam_orani)\n",
    "print(per1.zam_uygula())\n",
    "print(per1.tam_isim())\n",
    "print(per1.ucret)\n",
    "per1.zam_uygula()\n",
    "print(per1.ucret)\n"
   ]
  },
  {
   "cell_type": "code",
   "execution_count": 31,
   "metadata": {},
   "outputs": [
    {
     "name": "stdout",
     "output_type": "stream",
     "text": [
      "Eski zama orani: (1.05) güncellendi. Yeni oran: 1.1\n",
      "1.1\n",
      "1.1\n",
      "1.1\n",
      "45000\n",
      "49500.00000000001\n"
     ]
    }
   ],
   "source": [
    "class Personel:\n",
    "    zam_orani=1.05\n",
    "    \n",
    "    def __init__(self, isim, soyisim, maas):\n",
    "        self.ad=isim\n",
    "        self.soyad=soyisim\n",
    "        self.ucret=maas\n",
    "        self.eposta=f\"{isim.lower()}.{soyisim.lower()}@email.com\"\n",
    "\n",
    "        \n",
    "\n",
    "    def tam_isim(self):\n",
    "        return f\"{self.ad} {self.soyad}\"\n",
    "    \n",
    "    def zam_uygula(self):\n",
    "        self.ucret = self.ucret * self.zam_orani\n",
    "        return self.ucret\n",
    "    #decorator fonksiyonlar kendisindeki özelliği alt fonksiyona aktararak daha iyi olmasını sağlar\n",
    "    @classmethod\n",
    "    def zam_oranini_belirle(cls, oran):# sınıfın özelliklerini kullanmasına rağmen sınıfa doğrudan bağlı olmayan özerk bir method dekorator olmazsa(@classmethod) hata verir.\n",
    "        eski_oran = cls.zam_orani\n",
    "        cls.zam_orani=oran\n",
    "        print(f\"Eski zama orani: ({eski_oran}) güncellendi. Yeni oran: {cls.zam_orani}\")\n",
    "\n",
    "\n",
    "per1=Personel(\"Ahmet\",\"Özyurt\", 45000)\n",
    "per2=Personel(\"Yaren\", \"Güzel\", 55000)\n",
    "Personel.zam_oranini_belirle(1.1)\n",
    "\n",
    "print(per1.zam_orani)\n",
    "print(Personel.zam_orani)\n",
    "print(per2.zam_orani)\n",
    "\n",
    "print(per1.ucret)\n",
    "per1.zam_uygula()\n",
    "print(per1.ucret)\n"
   ]
  },
  {
   "cell_type": "code",
   "execution_count": 37,
   "metadata": {},
   "outputs": [
    {
     "name": "stdout",
     "output_type": "stream",
     "text": [
      "Acımak - Reşat Nuri Gültekin - 1912\n",
      "Veri bilimi - Nazlı Avcı - 2025\n",
      "Django ile Web geliştirme - Nazan AVCI - 2026\n"
     ]
    }
   ],
   "source": [
    "class Kitap:\n",
    "    def __init__(self, baslik, yazar, yayin_yili):\n",
    "        self.baslik=baslik\n",
    "        self.yazar=yazar\n",
    "        self.yayin_yili=yayin_yili\n",
    "\n",
    "    def __str__(self):\n",
    "        return f\"{self.baslik} - {self.yazar} - {self.yayin_yili}\"\n",
    "    \n",
    "kitap1=Kitap(\"Acımak\",\"Reşat Nuri Gültekin\",1912)\n",
    "kitap2=Kitap(\"Veri bilimi\", \"Nazlı Avcı\",2025)\n",
    "kitap3=Kitap(\"Django ile Web geliştirme\", \"Nazan AVCI\", 2026)\n",
    "\n",
    "print(kitap1)\n",
    "print(kitap2)\n",
    "print(kitap3)"
   ]
  },
  {
   "cell_type": "code",
   "execution_count": 46,
   "metadata": {},
   "outputs": [
    {
     "name": "stdout",
     "output_type": "stream",
     "text": [
      "Ahmet Kaya  isimli müşteriye yeni hesap oluşturuldu\n",
      "Ahmet Kaya  isimli müşteriye yeni hesap oluşturuldu\n",
      "Ahmet Kaya isimli müşterinin hesapları: \n",
      "Hesap sahibi: Ahmet Kaya, Bakiye: 10000 TL\n",
      "Hesap sahibi: Ahmet Kaya, Bakiye: 50000 TL\n"
     ]
    }
   ],
   "source": [
    "class Hesap:\n",
    "    def __init__(self, hesap_sahibi, bakiye=0):\n",
    "        self.hesap_sahibi=hesap_sahibi\n",
    "        self.bakiye=bakiye\n",
    "\n",
    "    def para_yatir(self, miktar):\n",
    "        if miktar > 0:\n",
    "            self.bakiye +=miktar\n",
    "            print(f\"Hesabııza {miktar} TL yatırıldı. Güncel bakiyeniz{self.bakiye}\")\n",
    "        else:\n",
    "            print(\"Geçersiz bakiye girdiniz. Lütfen pozitif bir değer girin\")\n",
    "    \n",
    "    def para_cek(self, miktar):\n",
    "        if miktar > 0 and miktar <= self.bakiye:\n",
    "            self.bakiye -= miktar\n",
    "            print(f\"Hesabınızdan {miktar} TL para çekildi. Güncel bakiyeniz{self.bakiye}\")\n",
    "        elif miktar > self.bakiye:\n",
    "            print(\"Bakiyeniz yetersiz. Lütfen bakiyenizden daha az bir miktar değeri giriniz.\")\n",
    "        else:\n",
    "            print(\"Geçersiz miktar değeri girdiniz. Lütfen pozitif bir değer girin\")\n",
    "\n",
    "    def bakiye_sor(self):\n",
    "        print(f\"{self.hesap_sahibi} hesabının bakiyesi: {self.bakiye} TL'dir.\")\n",
    "\n",
    "class Musteri:\n",
    "    def __init__(self, isim):\n",
    "        self.isim=isim\n",
    "        self.hesaplar=[]\n",
    "\n",
    "    def hesap_olustur(self, baslangic_bakiye=0):\n",
    "        yeni_hesap =Hesap(self.isim, baslangic_bakiye)\n",
    "        self.hesaplar.append(yeni_hesap)\n",
    "        print(f\"{self.isim}  isimli müşteriye yeni hesap oluşturuldu\")\n",
    "    def hesaplarim(self):\n",
    "        print(f\"{self.isim} isimli müşterinin hesapları: \")\n",
    "        for hesap in self.hesaplar:\n",
    "            print(f\"Hesap sahibi: {hesap.hesap_sahibi}, Bakiye: {hesap.bakiye} TL\")\n",
    "\n",
    "musteri1 = Musteri(\"Ahmet Kaya\")\n",
    "\n",
    "musteri1.hesap_olustur(10000)\n",
    "musteri1.hesap_olustur(50000)\n",
    "musteri1.hesaplarim()"
   ]
  },
  {
   "cell_type": "code",
   "execution_count": 47,
   "metadata": {},
   "outputs": [
    {
     "name": "stdout",
     "output_type": "stream",
     "text": [
      "Hesabııza 2000 TL yatırıldı. Güncel bakiyeniz12000\n"
     ]
    }
   ],
   "source": [
    "musteri1.hesaplar[0].para_yatir(2000)"
   ]
  },
  {
   "cell_type": "code",
   "execution_count": 48,
   "metadata": {},
   "outputs": [
    {
     "name": "stdout",
     "output_type": "stream",
     "text": [
      "Hesabınızdan 5000 TL para çekildi. Güncel bakiyeniz45000\n"
     ]
    }
   ],
   "source": [
    "musteri1.hesaplar[1].para_cek(5000)"
   ]
  },
  {
   "cell_type": "code",
   "execution_count": null,
   "metadata": {},
   "outputs": [],
   "source": []
  }
 ],
 "metadata": {
  "kernelspec": {
   "display_name": "base",
   "language": "python",
   "name": "python3"
  },
  "language_info": {
   "codemirror_mode": {
    "name": "ipython",
    "version": 3
   },
   "file_extension": ".py",
   "mimetype": "text/x-python",
   "name": "python",
   "nbconvert_exporter": "python",
   "pygments_lexer": "ipython3",
   "version": "3.12.7"
  }
 },
 "nbformat": 4,
 "nbformat_minor": 2
}
