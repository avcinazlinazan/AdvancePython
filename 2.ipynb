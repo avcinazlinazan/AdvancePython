{
 "cells": [
  {
   "cell_type": "code",
   "execution_count": 1,
   "metadata": {},
   "outputs": [
    {
     "name": "stdout",
     "output_type": "stream",
     "text": [
      "200\n"
     ]
    }
   ],
   "source": [
    "import urllib3\n",
    "\n",
    "req = urllib3.request(\"GET\", \"https://www.yagmurana.info\")\n",
    "print(req.status)"
   ]
  },
  {
   "cell_type": "code",
   "execution_count": 2,
   "metadata": {},
   "outputs": [
    {
     "name": "stdout",
     "output_type": "stream",
     "text": [
      "200\n"
     ]
    }
   ],
   "source": [
    "from urllib3 import request\n",
    "\n",
    "istek = request(\"GET\",\"https://www.yagmurana.info\")\n",
    "print(istek.status)"
   ]
  },
  {
   "cell_type": "markdown",
   "metadata": {},
   "source": [
    "Ödev Beklentileri:\n",
    "Jupyter not defteri aracılığı ile öğrecilerin notlarının \n",
    "kaydedileceği bir oop temelli bir ödev hazırlanacak\n",
    "\n",
    "1- Bir öğrenci sınıfı oluşturulacak:\n",
    "ad:\n",
    "soyad:\n",
    "öğrenci no:\n",
    "2- Bu öğrenci sınıfının not ekle, not kaydet, ortalama \n",
    "hesaplayıp kaydeden ve ders notlarını tutacak bir alt \n",
    "metotları olacak.\n",
    "3- Not ekle metotu sınav notlarını ad, soyad, \n",
    "seviye(lisans vs), ders ve o derse ait 3 not girmesi için \n",
    "attributelar oluşturulacak. notlar encapsulation \n",
    "yapılacak notlara erişim get ve set metotları ile \n",
    "yapılacak. Notlar harici bir \"sinav_notlari.txt\" dosyasına \n",
    "aktarılacak, notları kaydederken ad soyad-seviye-ders: \n",
    "not1, not2, not3 şeklinde kayıt oluşturabilirsiniz\n",
    "4-Ortalamaları oku metotunda \"sinav_notlari.txt\" \n",
    "dosyasındaki isimleri ve notları satır satır okuyup her \n",
    "satırı bir başka metotun içerisine göndererek öğrenci \n",
    "adı, dersi ve notları ayırıp ortalama hesaplaması \n",
    "yaptıktan sonra Notun harf karşılığını belirleyip return \n",
    "edecek\n",
    "90 üstü A, 85 üstü BA, 80 üstü BB, 75 üstü CB, 70 üstü \n",
    "CC, 65 üstü DC, 60 üstü DD, 50 üstü FD, diğerleri FF \n",
    "olarak belirlenecek\n",
    "5- Notları kaydet ise belirlenen notları ve harf karşılığını\n",
    " \"notlar.txt\" dosyasına kaydedecek\n",
    "6-Lisans, Yüksek Lisans ve Doktara adında üç alt sınıf \n",
    "olacak\n",
    "7- Kullanıcıyı karşılayacak while true döngüsü ile seçim \n",
    "yapmasını sağlayacak menü yapılacak\n",
    "1. Not Gir\n",
    "2. Ortalama Oku > not ve harf hesapla içerecek\n",
    "3. Notları kaydet\n",
    "4. Çıkış"
   ]
  },
  {
   "cell_type": "markdown",
   "metadata": {},
   "source": [
    "## Builtins"
   ]
  },
  {
   "cell_type": "code",
   "execution_count": 3,
   "metadata": {},
   "outputs": [
    {
     "name": "stdout",
     "output_type": "stream",
     "text": [
      "\n",
      "Please wait a moment while I gather a list of all available modules...\n",
      "\n"
     ]
    },
    {
     "name": "stderr",
     "output_type": "stream",
     "text": [
      "c:\\Users\\PC\\anaconda333\\Lib\\site-packages\\paramiko\\pkey.py:82: CryptographyDeprecationWarning: TripleDES has been moved to cryptography.hazmat.decrepit.ciphers.algorithms.TripleDES and will be removed from this module in 48.0.0.\n",
      "  \"cipher\": algorithms.TripleDES,\n",
      "c:\\Users\\PC\\anaconda333\\Lib\\site-packages\\paramiko\\transport.py:219: CryptographyDeprecationWarning: Blowfish has been moved to cryptography.hazmat.decrepit.ciphers.algorithms.Blowfish and will be removed from this module in 45.0.0.\n",
      "  \"class\": algorithms.Blowfish,\n",
      "c:\\Users\\PC\\anaconda333\\Lib\\site-packages\\paramiko\\transport.py:243: CryptographyDeprecationWarning: TripleDES has been moved to cryptography.hazmat.decrepit.ciphers.algorithms.TripleDES and will be removed from this module in 48.0.0.\n",
      "  \"class\": algorithms.TripleDES,\n",
      "c:\\Users\\PC\\anaconda333\\Lib\\pkgutil.py:93: LangChainDeprecationWarning: As of langchain-core 0.3.0, LangChain uses pydantic v2 internally. The langchain_core.pydantic_v1 module was a compatibility shim for pydantic v1, and should no longer be used. Please update the code to import from Pydantic directly.\n",
      "\n",
      "For example, replace imports like: `from langchain_core.pydantic_v1 import BaseModel`\n",
      "with: `from pydantic import BaseModel`\n",
      "or the v1 compatibility namespace if you are working in a code base that has not been fully upgraded to pydantic 2 yet. \tfrom pydantic.v1 import BaseModel\n",
      "\n",
      "  yield from walk_packages(path, info.name+'.', onerror)\n",
      "c:\\Users\\PC\\anaconda333\\Lib\\site-packages\\nltk\\twitter\\__init__.py:20: UserWarning: The twython library has not been installed. Some functionality from the twitter package will not be available.\n",
      "  warnings.warn(\n",
      "c:\\Users\\PC\\anaconda333\\Lib\\pkgutil.py:78: UserWarning: The numpy.array_api submodule is still experimental. See NEP 47.\n",
      "  __import__(info.name)\n",
      "c:\\Users\\PC\\anaconda333\\Lib\\site-packages\\pydantic\\experimental\\__init__.py:7: PydanticExperimentalWarning:\n",
      "\n",
      "This module is experimental, its contents are subject to change and deprecation.\n",
      "\n",
      "[2024-12-21 15:03:53,989] No QCoreApplication instance found. Application patches not applied. You have to call load_stylesheet function after instantiation of QApplication to take effect. \n"
     ]
    },
    {
     "name": "stdout",
     "output_type": "stream",
     "text": [
      "3204bda914b7f2c6f497__mypyc code                marshal             smart_open\n",
      "IPython             codecs              math                smmap\n",
      "OpenSSL             codeop              matplotlib          smtplib\n",
      "PIL                 collections         matplotlib_inline   sndhdr\n",
      "PyQt5               colorama            mccabe              sniffio\n",
      "__future__          colorcet            mdit_py_plugins     snowballstemmer\n",
      "__hello__           colorsys            mdurl               socket\n",
      "__phello__          comm                menuinst            socketserver\n",
      "_abc                commctrl            mimetypes           socks\n",
      "_aix_support        compileall          mistune             sockshandler\n",
      "_argon2_cffi_bindings concurrent          mkl                 sortedcontainers\n",
      "_ast                conda               mkl_fft             soupsieve\n",
      "_asyncio            conda_build         mkl_random          sphinx\n",
      "_bisect             conda_content_trust ml_dtypes           spyder\n",
      "_black_version      conda_env           mmap                spyder_kernels\n",
      "_blake2             conda_index         mmapfile            sqlalchemy\n",
      "_brotli             conda_libmamba_solver mmsystem            sqlite3\n",
      "_bz2                conda_pack          modulefinder        sre_compile\n",
      "_cffi_backend       conda_package_handling more_itertools      sre_constants\n",
      "_codecs             conda_package_streaming mpmath              sre_parse\n",
      "_codecs_cn          conda_token         msgpack             ssl\n",
      "_codecs_hk          configparser        msilib              sspi\n",
      "_codecs_iso2022     constantly          msvcrt              sspicon\n",
      "_codecs_jp          contextlib          multidict           stack_data\n",
      "_codecs_kr          contextvars         multipledispatch    stat\n",
      "_codecs_tw          contourpy           multiprocessing     statistics\n",
      "_collections        cookiecutter        mypy                statsmodels\n",
      "_collections_abc    copy                mypy_extensions     streamlit\n",
      "_compat_pickle      copyreg             mypyc               string\n",
      "_compression        cpuinfo             nacl                stringprep\n",
      "_contextvars        crypt               namex               struct\n",
      "_csv                cryptography        navigator_updater   subprocess\n",
      "_ctypes             cssselect           nbclient            sunau\n",
      "_ctypes_test        csv                 nbconvert           sympy\n",
      "_datetime           ctypes              nbformat            symtable\n",
      "_decimal            curl                nest_asyncio        sys\n",
      "_distutils_hack     curses              netbios             sysconfig\n",
      "_elementtree        cwp                 netrc               tables\n",
      "_functools          cycler              networkx            tabnanny\n",
      "_hashlib            cytoolz             nltk                tabulate\n",
      "_heapq              dask                nntplib             tarfile\n",
      "_imp                dask_expr           notebook            tblib\n",
      "_io                 dataclasses         notebook_shim       telnetlib\n",
      "_json               datashader          nt                  tempfile\n",
      "_locale             datetime            ntpath              tenacity\n",
      "_lsprof             dateutil            ntsecuritycon       tensorboard\n",
      "_lzma               dbi                 nturl2path          tensorboard_data_server\n",
      "_markupbase         dbm                 numba               tensorflow\n",
      "_md5                dde                 numbergen           termcolor\n",
      "_msi                debugpy             numbers             terminado\n",
      "_multibytecodec     decimal             numexpr             test\n",
      "_multiprocessing    decorator           numpy               test_pycosat\n",
      "_nsis               defusedxml          numpydoc            text_unidecode\n",
      "_opcode             diff_match_patch    odbc                textdistance\n",
      "_operator           difflib             opcode              textwrap\n",
      "_osx_support        dill                openai              this\n",
      "_overlapped         dis                 openpyxl            threading\n",
      "_pickle             distributed         operator            threadpoolctl\n",
      "_plotly_future_     distro              opt_einsum          three_merge\n",
      "_plotly_utils       docstring_to_markdown optparse            tifffile\n",
      "_py_abc             doctest             optree              tiktoken\n",
      "_pydatetime         docutils            orjson              time\n",
      "_pydecimal          dotenv              os                  timeit\n",
      "_pyio               email               overrides           timer\n",
      "_pylong             encodings           packaging           tinycss2\n",
      "_pytest             ensurepip           pandas              tkinter\n",
      "_queue              enum                pandocfilters       tldextract\n",
      "_random             erfa                panel               tlz\n",
      "_ruamel_yaml        errno               param               token\n",
      "_sha1               et_xmlfile          paramiko            tokenize\n",
      "_sha2               executing           parsel              toml\n",
      "_sha3               fastjsonschema      parso               tomli\n",
      "_signal             faulthandler        partd               tomlkit\n",
      "_sitebuiltins       filecmp             pasta               tomllib\n",
      "_socket             fileinput           pathlib             toolz\n",
      "_sqlite3            filelock            pathspec            tornado\n",
      "_sre                flake8              patsy               tqdm\n",
      "_ssl                flask               pdb                 trace\n",
      "_stat               flatbuffers         perfmon             traceback\n",
      "_statistics         fnmatch             pexpect             tracemalloc\n",
      "_string             fontTools           pickle              traitlets\n",
      "_strptime           fractions           pickleshare         truststore\n",
      "_struct             frozendict          pickletools         tty\n",
      "_symtable           frozenlist          pip                 turtle\n",
      "_system_path        fsspec              pipes               turtledemo\n",
      "_testbuffer         ftplib              pkce                twisted\n",
      "_testcapi           functools           pkg_resources       typeguard\n",
      "_testclinic         gast                pkginfo             types\n",
      "_testconsole        gc                  pkgutil             typing\n",
      "_testimportmultiple genericpath         platform            typing_extensions\n",
      "_testinternalcapi   gensim              platformdirs        tzdata\n",
      "_testmultiphase     getopt              plistlib            uc_micro\n",
      "_testsinglephase    getpass             plotly              ujson\n",
      "_thread             gettext             pluggy              unicodedata\n",
      "_threading_local    git                 ply                 unicodedata2\n",
      "_tkinter            gitdb               poplib              unidecode\n",
      "_tokenize           glob                posixpath           unittest\n",
      "_tracemalloc        graphlib            pprint              urllib\n",
      "_typing             greenlet            profile             urllib3\n",
      "_uuid               grpc                prometheus_client   uu\n",
      "_warnings           gzip                prompt_toolkit      uuid\n",
      "_weakref            h11                 protego             venv\n",
      "_weakrefset         h5py                pstats              w3lib\n",
      "_win32sysloader     hashlib             psutil              warnings\n",
      "_winapi             heapdict            pty                 watchdog\n",
      "_winxptheme         heapq               ptyprocess          wave\n",
      "_wmi                hello               pure_eval           wcwidth\n",
      "_xxinterpchannels   hmac                py                  weakref\n",
      "_xxsubinterpreters  holoviews           py_compile          webbrowser\n",
      "_yaml               html                pyarrow             webencodings\n",
      "_zoneinfo           http                pyasn1              websocket\n",
      "abc                 httpcore            pyasn1_modules      werkzeug\n",
      "absl                httpx               pyclbr              whatthepatch\n",
      "adodbapi            hvplot              pycodestyle         wheel\n",
      "aext_assistant      hyperlink           pycosat             widgetsnbextension\n",
      "aext_assistant_server idlelib             pycparser           win2kras\n",
      "aext_core           idna                pyct                win32api\n",
      "aext_core_server    imagecodecs         pycurl              win32clipboard\n",
      "aext_panels         imageio             pydantic            win32com\n",
      "aext_panels_server  imagesize           pydantic_core       win32con\n",
      "aext_share_notebook imaplib             pydeck              win32console\n",
      "aext_share_notebook_server imblearn            pydispatch          win32cred\n",
      "aext_shared         imghdr              pydoc               win32crypt\n",
      "afxres              importlib           pydoc_data          win32cryptcon\n",
      "aifc                importlib_metadata  pydocstyle          win32ctypes\n",
      "aiobotocore         incremental         pyexpat             win32event\n",
      "aiohappyeyeballs    inflect             pyflakes            win32evtlog\n",
      "aiohttp             inflection          pygments            win32evtlogutil\n",
      "aioitertools        iniconfig           pylab               win32file\n",
      "aiosignal           inspect             pylint              win32gui\n",
      "alabaster           intake              pylint_venv         win32gui_struct\n",
      "altair              intervaltree        pyls_spyder         win32help\n",
      "anaconda_anon_usage io                  pylsp               win32inet\n",
      "anaconda_catalogs   ipaddress           pylsp_black         win32inetcon\n",
      "anaconda_cloud_auth ipykernel           pylsp_jsonrpc       win32job\n",
      "anaconda_navigator  ipykernel_launcher  pyodbc              win32lz\n",
      "anaconda_project    ipython_genutils    pyparsing           win32net\n",
      "annotated_types     ipywidgets          pytest              win32netcon\n",
      "antigravity         isapi               pythoncom           win32pdh\n",
      "anyio               isort               pythonjsonlogger    win32pdhquery\n",
      "appdirs             isympy              pytoolconfig        win32pdhutil\n",
      "archspec            itemadapter         pytz                win32pipe\n",
      "argon2              itemloaders         pyviz_comms         win32print\n",
      "argparse            itertools           pywin               win32process\n",
      "array               itsdangerous        pywin32_bootstrap   win32profile\n",
      "arrow               jedi                pywin32_testutil    win32ras\n",
      "ast                 jellyfish           pywintypes          win32rcparser\n",
      "astroid             jinja2              pywt                win32security\n",
      "astropy             jiter               qdarkstyle          win32service\n",
      "astropy_iers_data   jmespath            qstylizer           win32serviceutil\n",
      "asttokens           joblib              qtawesome           win32timezone\n",
      "astunparse          json                qtconsole           win32trace\n",
      "async_lru           json5               qtpy                win32traceutil\n",
      "asyncio             jsonpatch           queue               win32transaction\n",
      "atexit              jsonpointer         queuelib            win32ts\n",
      "atomicwrites        jsonschema          quopri              win32ui\n",
      "attr                jsonschema_specifications random              win32uiole\n",
      "attrs               jupyter             rasutil             win32verstamp\n",
      "audioop             jupyter_client      re                  win32wnet\n",
      "autocommand         jupyter_console     referencing         win_inet_pton\n",
      "automat             jupyter_core        regcheck            winerror\n",
      "autopep8            jupyter_events      regex               winioctlcon\n",
      "babel               jupyter_lsp         regutil             winnt\n",
      "backports           jupyter_server      repo_cli            winperf\n",
      "base64              jupyter_server_terminals reprlib             winpty\n",
      "bcrypt              jupyterlab          requests            winreg\n",
      "bdb                 jupyterlab_plotly   requests_file       winsound\n",
      "binaryornot         jupyterlab_pygments requests_toolbelt   winxpgui\n",
      "binascii            jupyterlab_server   rfc3339_validator   winxptheme\n",
      "binstar_client      jupyterlab_widgets  rfc3986_validator   wordcloud\n",
      "bisect              jwt                 rich                wrapt\n",
      "black               keras               rlcompleter         wsgiref\n",
      "blackd              keyring             rope                xarray\n",
      "bleach              keyword             rpds                xdrlib\n",
      "blib2to3            kiwisolver          rtree               xlwings\n",
      "blinker             langchain_core      ruamel_yaml         xlwingsjs\n",
      "bokeh               langchain_openai    runpy               xml\n",
      "boltons             langsmith           s3fs                xmlrpc\n",
      "botocore            lazy_loader         sched               xxlimited\n",
      "bottleneck          lazy_object_proxy   scipy               xxlimited_35\n",
      "brotli              lckr_jupyterlab_variableinspector scrapy              xxsubtype\n",
      "bs4                 lib2to3             seaborn             xyzservices\n",
      "builtins            libarchive          secrets             yaml\n",
      "bz2                 libmambapy          select              yapf\n",
      "cProfile            lief                selectors           yapf_third_party\n",
      "cachetools          linecache           semver              yapftests\n",
      "calc                linkify_it          send2trash          yarl\n",
      "calendar            llvmlite            service_identity    yellowbrick\n",
      "certifi             lmdb                servicemanager      zict\n",
      "cffi                locale              setuptools          zipapp\n",
      "cgi                 locket              shelve              zipfile\n",
      "cgitb               logging             shlex               zipimport\n",
      "chardet             lxml                shutil              zipp\n",
      "charset_normalizer  lz4                 signal              zlib\n",
      "chunk               lzma                sipbuild            zmq\n",
      "clang               mailbox             site                zoneinfo\n",
      "click               mailcap             six                 zope\n",
      "cloudpickle         markdown            skimage             zstandard\n",
      "cmath               markdown_it         sklearn             \n",
      "cmd                 markupsafe          slugify             \n",
      "\n",
      "Enter any module name to get more help.  Or, type \"modules spam\" to search\n",
      "for modules whose name or summary contain the string \"spam\".\n",
      "\n"
     ]
    }
   ],
   "source": [
    "help('modules')"
   ]
  },
  {
   "cell_type": "markdown",
   "metadata": {},
   "source": [
    "## OS Modülü"
   ]
  },
  {
   "cell_type": "code",
   "execution_count": 4,
   "metadata": {},
   "outputs": [
    {
     "name": "stdout",
     "output_type": "stream",
     "text": [
      "c:\\Users\\PC\\Desktop\\langchain\\AdvencePython\n"
     ]
    }
   ],
   "source": [
    "import os\n",
    "print(os.getcwd())"
   ]
  },
  {
   "cell_type": "markdown",
   "metadata": {},
   "source": [
    "dizin oluşturma"
   ]
  },
  {
   "cell_type": "code",
   "execution_count": 6,
   "metadata": {},
   "outputs": [],
   "source": [
    "import os\n",
    "os.mkdir(r\"C:\\Users\\PC\\Desktop\\langchain\\AdvencePython\\MyKlasor\")"
   ]
  },
  {
   "cell_type": "code",
   "execution_count": 7,
   "metadata": {},
   "outputs": [
    {
     "name": "stdout",
     "output_type": "stream",
     "text": [
      "c:\\Users\\PC\\Desktop\\langchain\n"
     ]
    }
   ],
   "source": [
    "import os\n",
    "os.chdir(\"..\")\n",
    "print(os.getcwd())"
   ]
  },
  {
   "cell_type": "code",
   "execution_count": 10,
   "metadata": {},
   "outputs": [
    {
     "name": "stdout",
     "output_type": "stream",
     "text": [
      "C:\\Users\\PC\\Desktop\\langchain\\AdvencePython\\MyKlasor\n"
     ]
    }
   ],
   "source": [
    "import os\n",
    "# os.chdir(\"..\")\n",
    "# print(os.getcwd())\n",
    "os.chdir(r\"C:\\Users\\PC\\Desktop\\langchain\\AdvencePython\\MyKlasor\")\n",
    "print(os.getcwd())"
   ]
  },
  {
   "cell_type": "markdown",
   "metadata": {},
   "source": [
    "dizin silme"
   ]
  },
  {
   "cell_type": "code",
   "execution_count": 11,
   "metadata": {},
   "outputs": [
    {
     "ename": "PermissionError",
     "evalue": "[WinError 32] Dosya başka bir işlem tarafından kullanıldığından bu işlem dosyaya erişemiyor: 'C:\\\\Users\\\\PC\\\\Desktop\\\\langchain\\\\AdvencePython\\\\MyKlasor'",
     "output_type": "error",
     "traceback": [
      "\u001b[1;31m---------------------------------------------------------------------------\u001b[0m",
      "\u001b[1;31mPermissionError\u001b[0m                           Traceback (most recent call last)",
      "Cell \u001b[1;32mIn[11], line 2\u001b[0m\n\u001b[0;32m      1\u001b[0m \u001b[38;5;28;01mimport\u001b[39;00m \u001b[38;5;21;01mos\u001b[39;00m\n\u001b[1;32m----> 2\u001b[0m os\u001b[38;5;241m.\u001b[39mrmdir(\u001b[38;5;124mr\u001b[39m\u001b[38;5;124m\"\u001b[39m\u001b[38;5;124mC:\u001b[39m\u001b[38;5;124m\\\u001b[39m\u001b[38;5;124mUsers\u001b[39m\u001b[38;5;124m\\\u001b[39m\u001b[38;5;124mPC\u001b[39m\u001b[38;5;124m\\\u001b[39m\u001b[38;5;124mDesktop\u001b[39m\u001b[38;5;124m\\\u001b[39m\u001b[38;5;124mlangchain\u001b[39m\u001b[38;5;124m\\\u001b[39m\u001b[38;5;124mAdvencePython\u001b[39m\u001b[38;5;124m\\\u001b[39m\u001b[38;5;124mMyKlasor\u001b[39m\u001b[38;5;124m\"\u001b[39m)\n",
      "\u001b[1;31mPermissionError\u001b[0m: [WinError 32] Dosya başka bir işlem tarafından kullanıldığından bu işlem dosyaya erişemiyor: 'C:\\\\Users\\\\PC\\\\Desktop\\\\langchain\\\\AdvencePython\\\\MyKlasor'"
     ]
    }
   ],
   "source": [
    "import os\n",
    "os.rmdir(r\"C:\\Users\\PC\\Desktop\\langchain\\AdvencePython\\MyKlasor\")"
   ]
  },
  {
   "cell_type": "code",
   "execution_count": null,
   "metadata": {},
   "outputs": [],
   "source": [
    "x"
   ]
  }
 ],
 "metadata": {
  "kernelspec": {
   "display_name": "base",
   "language": "python",
   "name": "python3"
  },
  "language_info": {
   "codemirror_mode": {
    "name": "ipython",
    "version": 3
   },
   "file_extension": ".py",
   "mimetype": "text/x-python",
   "name": "python",
   "nbconvert_exporter": "python",
   "pygments_lexer": "ipython3",
   "version": "3.12.7"
  }
 },
 "nbformat": 4,
 "nbformat_minor": 2
}
